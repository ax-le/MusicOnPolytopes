{
 "cells": [
  {
   "cell_type": "code",
   "execution_count": 1,
   "metadata": {
    "ExecuteTime": {
     "end_time": "2021-01-21T16:52:48.152364Z",
     "start_time": "2021-01-21T16:52:46.526078Z"
    }
   },
   "outputs": [],
   "source": [
    "import os\n",
    "import time\n",
    "\n",
    "# Self-code imports\n",
    "import polytopes.segmentation_algorithms as algos\n",
    "from polytopes.model.note import Note\n",
    "from polytopes.model.chord import Chord\n",
    "import polytopes.polytopical_costs as pc\n",
    "import polytopes.data_manipulation as dm\n",
    "import polytopes.pattern_manip as pm\n",
    "import polytopes.pattern_factory as pf\n",
    "\n",
    "\n",
    "#Generic imports\n",
    "import numpy as np\n",
    "import matplotlib.pyplot as plt\n",
    "import pandas as pd\n",
    "import math\n",
    "import copy\n"
   ]
  },
  {
   "cell_type": "code",
   "execution_count": 2,
   "metadata": {
    "ExecuteTime": {
     "end_time": "2021-01-21T16:52:48.162337Z",
     "start_time": "2021-01-21T16:52:48.154360Z"
    }
   },
   "outputs": [],
   "source": [
    "# Subset \n",
    "#database_path = \"C:\\\\Users\\\\amarmore\\\\Desktop\\\\Projects\\\\RWC_annotations\\\\subset_analysis\\\\\"\n",
    "\n",
    "# Database\n",
    "database_path = \"C:\\\\Users\\\\amarmore\\\\Desktop\\\\Projects\\\\RWC_annotations\\\\final_bimbot_al\\\\\"\n",
    "\n",
    "max_size = 10\n",
    "\n",
    "manual = []\n",
    "\n",
    "for file in os.listdir(database_path):\n",
    "    bag_of_words = file.split(\".\")\n",
    "    if bag_of_words[-1] == \"seq\":\n",
    "        if bag_of_words[-3] == \"manual\":\n",
    "            manual.append(file)"
   ]
  },
  {
   "cell_type": "markdown",
   "metadata": {},
   "source": [
    "# My Code"
   ]
  },
  {
   "cell_type": "markdown",
   "metadata": {},
   "source": [
    "## Direct antecedents"
   ]
  },
  {
   "cell_type": "code",
   "execution_count": 3,
   "metadata": {
    "ExecuteTime": {
     "end_time": "2021-01-21T16:54:17.981841Z",
     "start_time": "2021-01-21T16:52:48.165331Z"
    }
   },
   "outputs": [
    {
     "name": "stdout",
     "output_type": "stream",
     "text": [
      "Prec: 0.2166, rap: 0.789, F measure: 0.3394\n"
     ]
    },
    {
     "data": {
      "text/plain": [
       "[]"
      ]
     },
     "execution_count": 3,
     "metadata": {},
     "output_type": "execute_result"
    },
    {
     "data": {
      "image/png": "[encoded data removed]",
      "text/plain": [
       "<Figure size 1080x360 with 1 Axes>"
      ]
     },
     "metadata": {
      "needs_background": "light"
     },
     "output_type": "display_data"
    }
   ],
   "source": [
    "annotations_folder_path = \"C:\\\\Users\\\\amarmore\\\\Desktop\\\\Audio samples\\\\RWC Pop\\\\annotations\\\\final_bimbot\\\\\"\n",
    "persisted_path = \"C:\\\\Users\\\\amarmore\\\\Desktop\\\\data_persisted\"\n",
    "flow_folder = \"C:\\\\Users\\\\amarmore\\\\Desktop\\\\Annotations MIREX Quaero\\\\annotations_as_flow\\\\\"\n",
    "\n",
    "all_res = []\n",
    "all_res_one = []\n",
    "distrib_segments = []\n",
    "\n",
    "for song in manual:\n",
    "    song_number = song.split(\".\")[0]\n",
    "\n",
    "    with open(\"{}\\\\{}.flow_simple\".format(flow_folder, song_number),'r') as obj:\n",
    "        bag_of_chords = obj.read().split(\"\\n\")\n",
    "        while '' in bag_of_chords:\n",
    "            bag_of_chords.remove('')\n",
    "    \"\"\"bag_of_chords = dm.flowify_song(database_path + song)\n",
    "    for couple in zip(bag_of_chords, a):\n",
    "        if couple[0].triad != couple[1]:\n",
    "            print(couple)\"\"\"\n",
    "\n",
    "    frontiers, _ = algos.dynamic_minimization_guichaoua(bag_of_chords, \n",
    "                                                        positive_segment_size_penalty = 0, negative_segment_size_penalty = 0.125, \n",
    "                                                        min_size = 8, max_size = max_size, target_size = 32, \n",
    "                                                        positive_penalty = 2.25, negative_penalty = 3,\n",
    "                                                        global_antecedents = False)\n",
    "\n",
    "    for fst, snd in zip(frontiers[:-1], frontiers[1:]):\n",
    "        distrib_segments.append(snd - fst)\n",
    "\n",
    "    \"\"\"\n",
    "    # Scores, computed on time\n",
    "    song_number = song.split(\".\")[0]\n",
    "    this_song_ann = dm.get_annotation_name_from_song(song_number, \"MIREX10\")\n",
    "    annotation_path = \"{}\\\\{}\".format(annotations_folder_path, this_song_ann)\n",
    "    annotations = dm.get_segmentation_from_txt(annotation_path, \"MIREX10\")\n",
    "    references_segments = np.array(annotations)[:, 0:2]\n",
    "    beats = np.load(\"{}\\\\beats\\\\{}.npy\".format(persisted_path, int(song_number)), allow_pickle=True)                \n",
    "\n",
    "    estimation = []\n",
    "    for f in frontiers:\n",
    "        if f < len(beats):\n",
    "            estimation.append(beats[f])\n",
    "        else:\n",
    "            estimation.append(beats[-1])\n",
    "    estimated_seg = dm.frontiers_to_segments(estimation)\n",
    "\n",
    "    prec, rec, fmes = dm.compute_score_of_segmentation(references_segments, estimated_seg, window_length = 0.5)\"\"\"\n",
    "\n",
    "    #Scores, computed on the beat annotation\n",
    "    beat_indexed_segments = dm.frontiers_to_segments(frontiers)\n",
    "\n",
    "    song_number = song.split(\".\")[0]\n",
    "    annot_name = \"{:03d}.manual.seg\".format(int(song_number))\n",
    "    annotation_file = open(annotations_folder_path + annot_name,'r')\n",
    "    annotation = annotation_file.read().replace(\"\\n\", \"\").split(\" \")\n",
    "    annotation = np.array([int(x) - 1 for x in annotation])\n",
    "    beat_indexed_annotation = np.array(dm.frontiers_to_segments(annotation))\n",
    "    p, r, f = dm.compute_score_of_segmentation(beat_indexed_annotation, beat_indexed_segments, window_length = 0.5)\n",
    "    all_res.append([p, r, f])\n",
    "\n",
    "results = np.array(all_res)\n",
    "prec, rap, fmes = round(np.mean(results[:,0]),4), round(np.mean(results[:,1]),4), round(np.mean(results[:,2]),4)\n",
    "print(\"Prec: {}, rap: {}, F measure: {}\".format(prec, rap, fmes))\n",
    "plt.figure(figsize=(15,5))\n",
    "plt.hist(distrib_segments, bins = range(max_size))\n",
    "plt.xlabel(\"Segment's size (in nb of beats)\")\n",
    "plt.title(\"Prec: {}, rap: {}, F measure: {}\".format(prec, rap, fmes))\n",
    "plt.plot()"
   ]
  },
  {
   "cell_type": "markdown",
   "metadata": {},
   "source": [
    "## Global antecedents"
   ]
  },
  {
   "cell_type": "code",
   "execution_count": 4,
   "metadata": {
    "ExecuteTime": {
     "end_time": "2021-01-21T16:55:39.626755Z",
     "start_time": "2021-01-21T16:54:17.988820Z"
    }
   },
   "outputs": [
    {
     "name": "stdout",
     "output_type": "stream",
     "text": [
      "Prec: 0.2166, rap: 0.789, F measure: 0.3394\n"
     ]
    },
    {
     "data": {
      "text/plain": [
       "[]"
      ]
     },
     "execution_count": 4,
     "metadata": {},
     "output_type": "execute_result"
    },
    {
     "data": {
      "image/png": "[encoded data removed]",
      "text/plain": [
       "<Figure size 1080x360 with 1 Axes>"
      ]
     },
     "metadata": {
      "needs_background": "light"
     },
     "output_type": "display_data"
    }
   ],
   "source": [
    "annotations_folder_path = \"C:\\\\Users\\\\amarmore\\\\Desktop\\\\Audio samples\\\\RWC Pop\\\\annotations\\\\final_bimbot\\\\\"\n",
    "persisted_path = \"C:\\\\Users\\\\amarmore\\\\Desktop\\\\data_persisted\"\n",
    "flow_folder = \"C:\\\\Users\\\\amarmore\\\\Desktop\\\\Annotations MIREX Quaero\\\\annotations_as_flow\\\\\"\n",
    "\n",
    "all_res = []\n",
    "all_res_one = []\n",
    "distrib_segments = []\n",
    "\n",
    "for song in manual:\n",
    "    song_number = song.split(\".\")[0]\n",
    "\n",
    "    with open(\"{}\\\\{}.flow_simple\".format(flow_folder, song_number),'r') as obj:\n",
    "        bag_of_chords = obj.read().split(\"\\n\")\n",
    "        while '' in bag_of_chords:\n",
    "            bag_of_chords.remove('')\n",
    "    \"\"\"bag_of_chords = dm.flowify_song(database_path + song)\n",
    "    for couple in zip(bag_of_chords, a):\n",
    "        if couple[0].triad != couple[1]:\n",
    "            print(couple)\"\"\"\n",
    "\n",
    "    frontiers, _ = algos.dynamic_minimization_guichaoua(bag_of_chords, \n",
    "                                                        positive_segment_size_penalty = 0, negative_segment_size_penalty = 0.125, \n",
    "                                                        min_size = 8, max_size = max_size, target_size = 32, \n",
    "                                                        positive_penalty = 2.25, negative_penalty = 3,\n",
    "                                                        global_antecedents = True)\n",
    "\n",
    "    for fst, snd in zip(frontiers[:-1], frontiers[1:]):\n",
    "        distrib_segments.append(snd - fst)\n",
    "\n",
    "    \"\"\"\n",
    "    # Scores, computed on time\n",
    "    song_number = song.split(\".\")[0]\n",
    "    this_song_ann = dm.get_annotation_name_from_song(song_number, \"MIREX10\")\n",
    "    annotation_path = \"{}\\\\{}\".format(annotations_folder_path, this_song_ann)\n",
    "    annotations = dm.get_segmentation_from_txt(annotation_path, \"MIREX10\")\n",
    "    references_segments = np.array(annotations)[:, 0:2]\n",
    "    beats = np.load(\"{}\\\\beats\\\\{}.npy\".format(persisted_path, int(song_number)), allow_pickle=True)                \n",
    "\n",
    "    estimation = []\n",
    "    for f in frontiers:\n",
    "        if f < len(beats):\n",
    "            estimation.append(beats[f])\n",
    "        else:\n",
    "            estimation.append(beats[-1])\n",
    "    estimated_seg = dm.frontiers_to_segments(estimation)\n",
    "\n",
    "    prec, rec, fmes = dm.compute_score_of_segmentation(references_segments, estimated_seg, window_length = 0.5)\"\"\"\n",
    "\n",
    "    #Scores, computed on the beat annotation\n",
    "    beat_indexed_segments = dm.frontiers_to_segments(frontiers)\n",
    "\n",
    "    song_number = song.split(\".\")[0]\n",
    "    annot_name = \"{:03d}.manual.seg\".format(int(song_number))\n",
    "    annotation_file = open(annotations_folder_path + annot_name,'r')\n",
    "    annotation = annotation_file.read().replace(\"\\n\", \"\").split(\" \")\n",
    "    annotation = np.array([int(x) - 1 for x in annotation])\n",
    "    beat_indexed_annotation = np.array(dm.frontiers_to_segments(annotation))\n",
    "    p, r, f = dm.compute_score_of_segmentation(beat_indexed_annotation, beat_indexed_segments, window_length = 0.5)\n",
    "    all_res.append([p, r, f])\n",
    "\n",
    "results = np.array(all_res)\n",
    "prec, rap, fmes = round(np.mean(results[:,0]),4), round(np.mean(results[:,1]),4), round(np.mean(results[:,2]),4)\n",
    "print(\"Prec: {}, rap: {}, F measure: {}\".format(prec, rap, fmes))\n",
    "plt.figure(figsize=(15,5))\n",
    "plt.hist(distrib_segments, bins = range(max_size))\n",
    "plt.xlabel(\"Segment's size (in nb of beats)\")\n",
    "plt.title(\"Prec: {}, rap: {}, F measure: {}\".format(prec, rap, fmes))\n",
    "plt.plot()"
   ]
  },
  {
   "cell_type": "markdown",
   "metadata": {},
   "source": [
    "# Auto DB"
   ]
  },
  {
   "cell_type": "code",
   "execution_count": 7,
   "metadata": {
    "ExecuteTime": {
     "end_time": "2021-01-21T17:02:50.877186Z",
     "start_time": "2021-01-21T17:02:50.870179Z"
    }
   },
   "outputs": [],
   "source": [
    "# Subset \n",
    "#database_path = \"C:\\\\Users\\\\amarmore\\\\Desktop\\\\Projects\\\\RWC_annotations\\\\subset_analysis\\\\\"\n",
    "\n",
    "# Database\n",
    "database_path = \"C:\\\\Users\\\\amarmore\\\\Desktop\\\\Projects\\\\RWC_annotations\\\\final_bimbot_al\\\\\"\n",
    "\n",
    "max_size = 10\n",
    "\n",
    "auto = []\n",
    "\n",
    "for file in os.listdir(database_path):\n",
    "    bag_of_words = file.split(\".\")\n",
    "    if bag_of_words[-1] == \"seq\":\n",
    "        if bag_of_words[-3] == \"auto\":\n",
    "            auto.append(file)"
   ]
  },
  {
   "cell_type": "code",
   "execution_count": 8,
   "metadata": {
    "ExecuteTime": {
     "end_time": "2021-01-21T17:02:57.745449Z",
     "start_time": "2021-01-21T17:02:51.072639Z"
    }
   },
   "outputs": [
    {
     "name": "stdout",
     "output_type": "stream",
     "text": [
      "001.auto.simple.seq\n",
      "002.auto.simple.seq\n",
      "003.auto.simple.seq\n",
      "004.auto.simple.seq\n",
      "005.auto.simple.seq\n",
      "006.auto.simple.seq\n",
      "007.auto.simple.seq\n",
      "008.auto.simple.seq\n",
      "009.auto.simple.seq\n"
     ]
    },
    {
     "ename": "InvalidChordNotesException",
     "evalue": "Empty list of notes: a Chord must admit notes.",
     "output_type": "error",
     "traceback": [
      "\u001b[1;31m---------------------------------------------------------------------------\u001b[0m",
      "\u001b[1;31mInvalidChordNotesException\u001b[0m                Traceback (most recent call last)",
      "\u001b[1;32m<ipython-input-8-13a94a056f18>\u001b[0m in \u001b[0;36m<module>\u001b[1;34m\u001b[0m\n\u001b[0;32m      6\u001b[0m \u001b[1;32mfor\u001b[0m \u001b[0msong\u001b[0m \u001b[1;32min\u001b[0m \u001b[0mauto\u001b[0m\u001b[1;33m:\u001b[0m\u001b[1;33m\u001b[0m\u001b[1;33m\u001b[0m\u001b[0m\n\u001b[0;32m      7\u001b[0m     \u001b[0mprint\u001b[0m\u001b[1;33m(\u001b[0m\u001b[0msong\u001b[0m\u001b[1;33m)\u001b[0m\u001b[1;33m\u001b[0m\u001b[1;33m\u001b[0m\u001b[0m\n\u001b[1;32m----> 8\u001b[1;33m     \u001b[0mauto_bag_of_chords\u001b[0m \u001b[1;33m=\u001b[0m \u001b[0mdm\u001b[0m\u001b[1;33m.\u001b[0m\u001b[0mflowify_song\u001b[0m\u001b[1;33m(\u001b[0m\u001b[0mdatabase_path\u001b[0m \u001b[1;33m+\u001b[0m \u001b[0msong\u001b[0m\u001b[1;33m)\u001b[0m\u001b[1;33m\u001b[0m\u001b[1;33m\u001b[0m\u001b[0m\n\u001b[0m\u001b[0;32m      9\u001b[0m \u001b[1;33m\u001b[0m\u001b[0m\n\u001b[0;32m     10\u001b[0m     auto_frontiers, _ = algos.dynamic_minimization_guichaoua(auto_bag_of_chords, \n",
      "\u001b[1;32mc:\\users\\amarmore\\desktop\\projects\\phd main projects\\on git\\code\\polytopes and relation\\polytopes\\data_manipulation.py\u001b[0m in \u001b[0;36mflowify_song\u001b[1;34m(path)\u001b[0m\n\u001b[0;32m    471\u001b[0m                             \u001b[1;32mfor\u001b[0m \u001b[0mi\u001b[0m \u001b[1;32min\u001b[0m \u001b[0mchords\u001b[0m\u001b[1;33m:\u001b[0m\u001b[1;33m\u001b[0m\u001b[1;33m\u001b[0m\u001b[0m\n\u001b[0;32m    472\u001b[0m                                 \u001b[1;32mif\u001b[0m \u001b[0mi\u001b[0m \u001b[1;33m!=\u001b[0m \u001b[1;34m\"N\"\u001b[0m\u001b[1;33m:\u001b[0m\u001b[1;33m\u001b[0m\u001b[1;33m\u001b[0m\u001b[0m\n\u001b[1;32m--> 473\u001b[1;33m                                     \u001b[0mbag_of_chords\u001b[0m\u001b[1;33m.\u001b[0m\u001b[0mappend\u001b[0m\u001b[1;33m(\u001b[0m\u001b[0mChord\u001b[0m\u001b[1;33m(\u001b[0m\u001b[0mi\u001b[0m\u001b[1;33m)\u001b[0m\u001b[1;33m)\u001b[0m\u001b[1;33m\u001b[0m\u001b[1;33m\u001b[0m\u001b[0m\n\u001b[0m\u001b[0;32m    474\u001b[0m                                     \u001b[1;32mbreak\u001b[0m\u001b[1;33m\u001b[0m\u001b[1;33m\u001b[0m\u001b[0m\n\u001b[0;32m    475\u001b[0m     \u001b[1;32mreturn\u001b[0m \u001b[0mbag_of_chords\u001b[0m\u001b[1;33m\u001b[0m\u001b[1;33m\u001b[0m\u001b[0m\n",
      "\u001b[1;32mc:\\users\\amarmore\\desktop\\projects\\phd main projects\\on git\\code\\polytopes and relation\\polytopes\\model\\chord.py\u001b[0m in \u001b[0;36m__init__\u001b[1;34m(self, a_chord, redundancy)\u001b[0m\n\u001b[0;32m     71\u001b[0m             \u001b[0mself\u001b[0m\u001b[1;33m.\u001b[0m\u001b[0m_notes\u001b[0m \u001b[1;33m=\u001b[0m \u001b[0mlocal_notes\u001b[0m\u001b[1;33m\u001b[0m\u001b[1;33m\u001b[0m\u001b[0m\n\u001b[0;32m     72\u001b[0m             \u001b[1;32mif\u001b[0m \u001b[0mself\u001b[0m\u001b[1;33m.\u001b[0m\u001b[0m_notes\u001b[0m \u001b[1;33m==\u001b[0m \u001b[1;33m[\u001b[0m\u001b[1;33m]\u001b[0m\u001b[1;33m:\u001b[0m\u001b[1;33m\u001b[0m\u001b[1;33m\u001b[0m\u001b[0m\n\u001b[1;32m---> 73\u001b[1;33m                 \u001b[1;32mraise\u001b[0m \u001b[0merr\u001b[0m\u001b[1;33m.\u001b[0m\u001b[0mInvalidChordNotesException\u001b[0m\u001b[1;33m(\u001b[0m\u001b[1;34m\"Empty list of notes: a Chord must admit notes.\"\u001b[0m\u001b[1;33m)\u001b[0m \u001b[1;32mfrom\u001b[0m \u001b[1;32mNone\u001b[0m\u001b[1;33m\u001b[0m\u001b[1;33m\u001b[0m\u001b[0m\n\u001b[0m\u001b[0;32m     74\u001b[0m             \u001b[0mself\u001b[0m\u001b[1;33m.\u001b[0m\u001b[0m_triad\u001b[0m \u001b[1;33m=\u001b[0m \u001b[0mself\u001b[0m\u001b[1;33m.\u001b[0m\u001b[0mtriad_from_notes\u001b[0m\u001b[1;33m(\u001b[0m\u001b[1;33m)\u001b[0m\u001b[1;33m\u001b[0m\u001b[1;33m\u001b[0m\u001b[0m\n\u001b[0;32m     75\u001b[0m             \u001b[1;32mif\u001b[0m \u001b[0mself\u001b[0m\u001b[1;33m.\u001b[0m\u001b[0mtriad\u001b[0m \u001b[1;33m!=\u001b[0m \u001b[0mcst\u001b[0m\u001b[1;33m.\u001b[0m\u001b[0mAMBIGUOUS\u001b[0m \u001b[1;32mand\u001b[0m \u001b[1;32mnot\u001b[0m \u001b[0mself\u001b[0m\u001b[1;33m.\u001b[0m\u001b[0m_redundant\u001b[0m\u001b[1;33m:\u001b[0m \u001b[1;31m# A redundant chord shouldn't be reordered as it corresponds to permutated chord (#TODO: rename the parameter ?)\u001b[0m\u001b[1;33m\u001b[0m\u001b[1;33m\u001b[0m\u001b[0m\n",
      "\u001b[1;31mInvalidChordNotesException\u001b[0m: Empty list of notes: a Chord must admit notes."
     ]
    }
   ],
   "source": [
    "annotations_folder_path = \"C:\\\\Users\\\\amarmore\\\\Desktop\\\\Audio samples\\\\RWC Pop\\\\annotations\\\\final_bimbot\\\\\"\n",
    "persisted_path = \"C:\\\\Users\\\\amarmore\\\\Desktop\\\\data_persisted\"\n",
    "auto_res = []\n",
    "auto_distrib_segments = []\n",
    "\n",
    "for song in auto:\n",
    "    print(song)\n",
    "    auto_bag_of_chords = dm.flowify_song(database_path + song)\n",
    "\n",
    "    auto_frontiers, _ = algos.dynamic_minimization_guichaoua(auto_bag_of_chords, \n",
    "                                                             positive_segment_size_penalty = 0, negative_segment_size_penalty = 0.125, \n",
    "                                                             min_size = 8, max_size = max_size, target_size = 32, \n",
    "                                                             positive_penalty = 2.25, negative_penalty = 3)\n",
    "\n",
    "    for fst, snd in zip(auto_frontiers[:-1], auto_frontiers[1:]):\n",
    "        auto_distrib_segments.append(snd - fst)\n",
    "\n",
    "    \"\"\"\n",
    "    # Scores, computed on time\n",
    "    song_number = song.split(\".\")[0]\n",
    "    this_song_ann = dm.get_annotation_name_from_song(song_number, \"MIREX10\")\n",
    "    annotation_path = \"{}\\\\{}\".format(annotations_folder_path, this_song_ann)\n",
    "    annotations = dm.get_segmentation_from_txt(annotation_path, \"MIREX10\")\n",
    "    references_segments = np.array(annotations)[:, 0:2]\n",
    "    beats = np.load(\"{}\\\\beats\\\\{}.npy\".format(persisted_path, int(song_number)), allow_pickle=True)                \n",
    "\n",
    "    estimation = []\n",
    "    for f in frontiers:\n",
    "        if f < len(beats):\n",
    "            estimation.append(beats[f])\n",
    "        else:\n",
    "            estimation.append(beats[-1])\n",
    "    estimated_seg = dm.frontiers_to_segments(estimation)\n",
    "\n",
    "    prec, rec, fmes = dm.compute_score_of_segmentation(references_segments, estimated_seg, window_length = 0.5)\"\"\"\n",
    "\n",
    "    #Scores, computed on the beat annotation\n",
    "    auto_beat_indexed_segments = dm.frontiers_to_segments(auto_frontiers)\n",
    "\n",
    "    song_number = song.split(\".\")[0]\n",
    "    annot_name = \"{:03d}.auto.seg\".format(int(song_number))\n",
    "    annotation_file = open(annotations_folder_path + annot_name,'r')\n",
    "    annotation = annotation_file.read().replace(\"\\n\", \"\").split(\" \")\n",
    "    annotation = np.array([int(x) - 1 for x in annotation if x !=''])\n",
    "    beat_indexed_annotation = np.array(dm.frontiers_to_segments(annotation))\n",
    "    p, r, f = dm.compute_score_of_segmentation(beat_indexed_annotation, auto_beat_indexed_segments, window_length = 0.5)\n",
    "    auto_res.append([p, r, f])\n",
    "\n",
    "results = np.array(auto_res)\n",
    "prec, rap, fmes = round(np.mean(results[:,0]),4), round(np.mean(results[:,1]),4), round(np.mean(results[:,2]),4)\n",
    "print(\"Prec: {}, rap: {}, F measure: {}\".format(prec, rap, fmes))\n",
    "plt.figure(figsize=(15,5))\n",
    "plt.hist(auto_distrib_segments, bins = range(max_size))\n",
    "plt.xlabel(\"Segment's size (in nb of beats)\")\n",
    "plt.title(\"Prec: {}, rap: {}, F measure: {}\".format(prec, rap, fmes))\n",
    "plt.plot()"
   ]
  },
  {
   "cell_type": "markdown",
   "metadata": {},
   "source": [
    "# His outputs"
   ]
  },
  {
   "cell_type": "code",
   "execution_count": null,
   "metadata": {
    "ExecuteTime": {
     "end_time": "2021-01-21T17:02:49.838365Z",
     "start_time": "2021-01-21T16:52:46.524Z"
    }
   },
   "outputs": [],
   "source": [
    "annotations_folder_path = \"C:\\\\Users\\\\amarmore\\\\Desktop\\\\Audio samples\\\\RWC Pop\\\\annotations\\\\final_bimbot\\\\\"\n",
    "flow_file_path = \"C:\\\\Users\\\\amarmore\\\\Desktop\\\\Annotations MIREX Quaero\\\\annotations_as_flow\\\\\"\n",
    "all_res = []\n",
    "g_distrib_segments = []\n",
    "for song in manual:\n",
    "    bag_of_chords = dm.flowify_song(database_path + song)\n",
    "    song_number = song.split(\".\")[0]\n",
    "    guichaoua_estimates = open(flow_file_path + \"Guichaoua Estimates\\\\Experiments\\\\{:03d}_0penalties.frontiers_estimated\".format(int(song_number)), \"r\")\n",
    "    tab = guichaoua_estimates.read().split(\" \")\n",
    "    guichaoua_frontiers = [int(i) - 1 for i in tab if i != \"\\n\"]\n",
    "    if guichaoua_frontiers[-1] < len(bag_of_chords)-1:\n",
    "        guichaoua_frontiers.append(len(bag_of_chords)-1)\n",
    "        \n",
    "    for fst, snd in zip(guichaoua_frontiers[:-1], guichaoua_frontiers[1:]):\n",
    "        g_distrib_segments.append(snd - fst)\n",
    "\n",
    "    beat_indexed_segments = dm.frontiers_to_segments(guichaoua_frontiers)\n",
    "\n",
    "    annot_name = \"{:03d}.manual.seg\".format(int(song_number))\n",
    "    annotation_file = open(annotations_folder_path + annot_name,'r')\n",
    "    annotation = annotation_file.read().replace(\"\\n\", \"\").split(\" \")\n",
    "    annotation = np.array([int(x) - 1 for x in annotation])\n",
    "    beat_indexed_annotation = np.array(dm.frontiers_to_segments(annotation))\n",
    "    p, r, f = dm.compute_score_of_segmentation(beat_indexed_annotation, beat_indexed_segments, window_length = 0.2)\n",
    "    all_res.append([p, r, f])\n",
    "\n",
    "results = np.array(all_res)\n",
    "prec, rap, fmes = round(np.mean(results[:,0]),4), round(np.mean(results[:,1]),4), round(np.mean(results[:,2]),4)\n",
    "print(\"Prec: {}, rap: {}, F measure: {}\".format(prec, rap, fmes))\n",
    "\n",
    "plt.figure(figsize=(15,5))\n",
    "plt.hist(g_distrib_segments, bins = range(max_size))\n",
    "plt.xlabel(\"Segment's size (in nb of beats)\")\n",
    "#plt.title(\"Prec: {}, rap: {}, F measure: {}\".format(prec, rap, fmes))\n",
    "plt.plot()"
   ]
  },
  {
   "cell_type": "code",
   "execution_count": null,
   "metadata": {},
   "outputs": [],
   "source": []
  }
 ],
 "metadata": {
  "kernelspec": {
   "display_name": "Python 3",
   "language": "python",
   "name": "python3"
  },
  "language_info": {
   "codemirror_mode": {
    "name": "ipython",
    "version": 3
   },
   "file_extension": ".py",
   "mimetype": "text/x-python",
   "name": "python",
   "nbconvert_exporter": "python",
   "pygments_lexer": "ipython3",
   "version": "3.7.5"
  },
  "toc": {
   "base_numbering": 1,
   "nav_menu": {},
   "number_sections": true,
   "sideBar": true,
   "skip_h1_title": false,
   "title_cell": "Table of Contents",
   "title_sidebar": "Contents",
   "toc_cell": false,
   "toc_position": {},
   "toc_section_display": true,
   "toc_window_display": false
  },
  "varInspector": {
   "cols": {
    "lenName": 16,
    "lenType": 16,
    "lenVar": 40
   },
   "kernels_config": {
    "python": {
     "delete_cmd_postfix": "",
     "delete_cmd_prefix": "del ",
     "library": "var_list.py",
     "varRefreshCmd": "print(var_dic_list())"
    },
    "r": {
     "delete_cmd_postfix": ") ",
     "delete_cmd_prefix": "rm(",
     "library": "var_list.r",
     "varRefreshCmd": "cat(var_dic_list()) "
    }
   },
   "types_to_exclude": [
    "module",
    "function",
    "builtin_function_or_method",
    "instance",
    "_Feature"
   ],
   "window_display": false
  }
 },
 "nbformat": 4,
 "nbformat_minor": 2
}
