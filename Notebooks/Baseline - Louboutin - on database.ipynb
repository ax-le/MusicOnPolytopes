{
 "cells": [
  {
   "cell_type": "code",
   "execution_count": 1,
   "metadata": {
    "ExecuteTime": {
     "end_time": "2021-01-21T17:06:55.721737Z",
     "start_time": "2021-01-21T17:06:53.345094Z"
    }
   },
   "outputs": [],
   "source": [
    "import os\n",
    "import time\n",
    "\n",
    "# Self-code imports\n",
    "import polytopes.segmentation_algorithms as algos\n",
    "from polytopes.model.note import Note\n",
    "from polytopes.model.chord import Chord\n",
    "import polytopes.polytopical_costs as pc\n",
    "import polytopes.data_manipulation as dm\n",
    "import polytopes.pattern_manip as pm\n",
    "import polytopes.pattern_factory as pf\n",
    "\n",
    "#Generic imports\n",
    "import numpy as np\n",
    "import matplotlib.pyplot as plt\n",
    "import pandas as pd\n",
    "import math\n",
    "import copy"
   ]
  },
  {
   "cell_type": "code",
   "execution_count": 2,
   "metadata": {
    "ExecuteTime": {
     "end_time": "2021-01-21T17:06:55.740687Z",
     "start_time": "2021-01-21T17:06:55.726725Z"
    }
   },
   "outputs": [],
   "source": [
    "# Subset \n",
    "#database_path = \"C:\\\\Users\\\\amarmore\\\\Desktop\\\\Projects\\\\RWC_annotations\\\\subset_analysis\\\\\"\n",
    "\n",
    "# Database\n",
    "database_path = \"C:\\\\Users\\\\amarmore\\\\Desktop\\\\Projects\\\\RWC_annotations\\\\final_bimbot_al\\\\\"\n",
    "\n",
    "max_size = 10\n",
    "\n",
    "manual = []\n",
    "\n",
    "for file in os.listdir(database_path):\n",
    "    bag_of_words = file.split(\".\")\n",
    "    if bag_of_words[-1] == \"seq\":\n",
    "        if bag_of_words[-3] == \"manual\":\n",
    "            manual.append(file)"
   ]
  },
  {
   "cell_type": "markdown",
   "metadata": {},
   "source": [
    "# My Code"
   ]
  },
  {
   "cell_type": "code",
   "execution_count": 3,
   "metadata": {
    "ExecuteTime": {
     "end_time": "2021-01-21T17:10:19.258790Z",
     "start_time": "2021-01-21T17:06:55.748666Z"
    },
    "scrolled": true
   },
   "outputs": [
    {
     "name": "stderr",
     "output_type": "stream",
     "text": [
      "c:\\users\\amarmore\\desktop\\projects\\phd main projects\\on git\\code\\polytopes and relation\\polytopes\\segmentation_algorithms.py:522: UserWarning: No Polytope is available for this size of segment. Trying sequential cost instead.\n",
      "  warnings.warn(\"No Polytope is available for this size of segment. Trying sequential cost instead.\")\n"
     ]
    },
    {
     "name": "stdout",
     "output_type": "stream",
     "text": [
      "Prec: 0.1969, rap: 0.7022, F measure: 0.307\n"
     ]
    },
    {
     "data": {
      "text/plain": [
       "[]"
      ]
     },
     "execution_count": 3,
     "metadata": {},
     "output_type": "execute_result"
    },
    {
     "data": {
      "image/png": "[encoded data removed]",
      "text/plain": [
       "<Figure size 1080x360 with 1 Axes>"
      ]
     },
     "metadata": {
      "needs_background": "light"
     },
     "output_type": "display_data"
    }
   ],
   "source": [
    "annotations_folder_path = \"C:\\\\Users\\\\amarmore\\\\Desktop\\\\Audio samples\\\\RWC Pop\\\\annotations\\\\final_bimbot\\\\\"\n",
    "persisted_path = \"C:\\\\Users\\\\amarmore\\\\Desktop\\\\data_persisted\"\n",
    "\n",
    "all_res = []\n",
    "all_res_one = []\n",
    "distrib_segments = []\n",
    "for song in manual:\n",
    "    bag_of_chords = dm.flowify_song(database_path + song)\n",
    "\n",
    "    frontiers, _ = algos.dynamic_minimization_louboutin(bag_of_chords, segment_size_penalty = 0.125, min_size = 8, max_size = max_size, target_size = 32, irregularity_penalty = 1)\n",
    "\n",
    "    for fst, snd in zip(frontiers[:-1], frontiers[1:]):\n",
    "        distrib_segments.append(snd - fst)\n",
    "\n",
    "    \"\"\"\n",
    "    # Scores, computed on time\n",
    "    song_number = song.split(\".\")[0]\n",
    "    this_song_ann = dm.get_annotation_name_from_song(song_number, \"MIREX10\")\n",
    "    annotation_path = \"{}\\\\{}\".format(annotations_folder_path, this_song_ann)\n",
    "    annotations = dm.get_segmentation_from_txt(annotation_path, \"MIREX10\")\n",
    "    references_segments = np.array(annotations)[:, 0:2]\n",
    "    beats = np.load(\"{}\\\\beats\\\\{}.npy\".format(persisted_path, int(song_number)), allow_pickle=True)                \n",
    "\n",
    "    estimation = []\n",
    "    for f in frontiers:\n",
    "        if f < len(beats):\n",
    "            estimation.append(beats[f])\n",
    "        else:\n",
    "            estimation.append(beats[-1])\n",
    "    estimated_seg = dm.frontiers_to_segments(estimation)\n",
    "\n",
    "    prec, rec, fmes = dm.compute_score_of_segmentation(references_segments, estimated_seg, window_length = 0.5)\"\"\"\n",
    "\n",
    "    #Scores, computed on the beat annotation\n",
    "    beat_indexed_segments = dm.frontiers_to_segments(frontiers)\n",
    "\n",
    "    song_number = song.split(\".\")[0]\n",
    "    annot_name = \"{:03d}.manual.seg\".format(int(song_number))\n",
    "    annotation_file = open(annotations_folder_path + annot_name,'r')\n",
    "    annotation = annotation_file.read().replace(\"\\n\", \"\").split(\" \")\n",
    "    annotation = np.array([int(x) - 1 for x in annotation])\n",
    "    beat_indexed_annotation = np.array(dm.frontiers_to_segments(annotation))\n",
    "    p, r, f = dm.compute_score_of_segmentation(beat_indexed_annotation, beat_indexed_segments, window_length = 0.5)\n",
    "    all_res.append([p, r, f])\n",
    "\n",
    "results = np.array(all_res)\n",
    "prec, rap, fmes = round(np.mean(results[:,0]),4), round(np.mean(results[:,1]),4), round(np.mean(results[:,2]),4)\n",
    "print(\"Prec: {}, rap: {}, F measure: {}\".format(prec, rap, fmes))\n",
    "plt.figure(figsize=(15,5))\n",
    "plt.hist(distrib_segments, bins = range(max_size))\n",
    "plt.xlabel(\"Segment's size (in nb of beats)\")\n",
    "plt.title(\"Prec: {}, rap: {}, F measure: {}\".format(prec, rap, fmes))\n",
    "plt.plot()"
   ]
  }
 ],
 "metadata": {
  "kernelspec": {
   "display_name": "Python 3",
   "language": "python",
   "name": "python3"
  },
  "language_info": {
   "codemirror_mode": {
    "name": "ipython",
    "version": 3
   },
   "file_extension": ".py",
   "mimetype": "text/x-python",
   "name": "python",
   "nbconvert_exporter": "python",
   "pygments_lexer": "ipython3",
   "version": "3.7.5"
  },
  "toc": {
   "base_numbering": 1,
   "nav_menu": {},
   "number_sections": true,
   "sideBar": true,
   "skip_h1_title": false,
   "title_cell": "Table of Contents",
   "title_sidebar": "Contents",
   "toc_cell": false,
   "toc_position": {},
   "toc_section_display": true,
   "toc_window_display": false
  },
  "varInspector": {
   "cols": {
    "lenName": 16,
    "lenType": 16,
    "lenVar": 40
   },
   "kernels_config": {
    "python": {
     "delete_cmd_postfix": "",
     "delete_cmd_prefix": "del ",
     "library": "var_list.py",
     "varRefreshCmd": "print(var_dic_list())"
    },
    "r": {
     "delete_cmd_postfix": ") ",
     "delete_cmd_prefix": "rm(",
     "library": "var_list.r",
     "varRefreshCmd": "cat(var_dic_list()) "
    }
   },
   "types_to_exclude": [
    "module",
    "function",
    "builtin_function_or_method",
    "instance",
    "_Feature"
   ],
   "window_display": false
  }
 },
 "nbformat": 4,
 "nbformat_minor": 2
}
