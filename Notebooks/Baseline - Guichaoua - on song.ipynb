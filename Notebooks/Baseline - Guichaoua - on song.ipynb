{
 "cells": [
  {
   "cell_type": "code",
   "execution_count": 1,
   "metadata": {
    "ExecuteTime": {
     "end_time": "2021-01-21T17:24:43.535284Z",
     "start_time": "2021-01-21T17:24:42.354227Z"
    }
   },
   "outputs": [],
   "source": [
    "import os\n",
    "import time\n",
    "\n",
    "# Self-code imports\n",
    "import polytopes.segmentation_algorithms as algos\n",
    "from polytopes.model.note import Note\n",
    "from polytopes.model.chord import Chord\n",
    "import polytopes.polytopical_costs as pc\n",
    "import polytopes.data_manipulation as dm\n",
    "import polytopes.segmentation_helper as sh\n",
    "import polytopes.pattern_manip as pm\n",
    "import polytopes.pattern_factory as pf\n",
    "\n",
    "#Generic imports\n",
    "import numpy as np\n",
    "import matplotlib.pyplot as plt\n",
    "import pandas as pd\n",
    "import math\n",
    "import copy"
   ]
  },
  {
   "cell_type": "code",
   "execution_count": 2,
   "metadata": {
    "ExecuteTime": {
     "end_time": "2021-01-21T17:24:43.541244Z",
     "start_time": "2021-01-21T17:24:43.536292Z"
    }
   },
   "outputs": [],
   "source": [
    "# Hyperparams\n",
    "max_size = 47\n",
    "min_size = 8\n",
    "positive_segment_size_penalty = 0\n",
    "negative_segment_size_penalty = 0.125\n",
    "target_size = 32\n",
    "positive_penalty = 2.25\n",
    "negative_penalty = 3"
   ]
  },
  {
   "cell_type": "markdown",
   "metadata": {},
   "source": [
    "# On a song"
   ]
  },
  {
   "cell_type": "code",
   "execution_count": 3,
   "metadata": {
    "ExecuteTime": {
     "end_time": "2021-01-21T17:24:43.550219Z",
     "start_time": "2021-01-21T17:24:43.544234Z"
    }
   },
   "outputs": [],
   "source": [
    "flow_file_path = \"C:\\\\Users\\\\amarmore\\\\Desktop\\\\Annotations MIREX Quaero\\\\annotations_as_flow\\\\\"\n",
    "song = \"001\"\n",
    "bag_of_chords = []\n",
    "file = open(flow_file_path + song + \".flow\", \"r\") \n",
    "for chord in file.readlines():\n",
    "    bag_of_chords.append(chord.split(\"\\n\")[0])"
   ]
  },
  {
   "cell_type": "code",
   "execution_count": 4,
   "metadata": {
    "ExecuteTime": {
     "end_time": "2021-01-21T17:29:36.388412Z",
     "start_time": "2021-01-21T17:24:43.552214Z"
    }
   },
   "outputs": [
    {
     "name": "stderr",
     "output_type": "stream",
     "text": [
      "c:\\users\\amarmore\\desktop\\projects\\phd main projects\\on git\\code\\polytopes and relation\\polytopes\\segmentation_algorithms.py:398: UserWarning: No Polytope is available for this size of segment. Trying sequential cost instead.\n",
      "  warnings.warn(\"No Polytope is available for this size of segment. Trying sequential cost instead.\")\n"
     ]
    },
    {
     "name": "stdout",
     "output_type": "stream",
     "text": [
      "My frontiers: [0, 20, 52, 84, 112, 144, 176, 192, 220, 252, 284, 292, 332, 364, 396, 428, 462]\n",
      "My frontiers, but global: [0, 20, 52, 84, 112, 144, 176, 192, 220, 252, 284, 292, 332, 364, 396, 428, 462]\n",
      "Cost: 113.25, and global: 113.25\n",
      "Guichaoua's frontiers: [0, 20, 52, 84, 112, 144, 176, 192, 220, 252, 284, 292, 332, 364, 396, 428, 462]\n",
      "Equality ? True\n",
      "\n"
     ]
    }
   ],
   "source": [
    "frontiers_global, cost_global = algos.dynamic_minimization_guichaoua(bag_of_chords, global_antecedents = True)\n",
    "frontiers, cost = algos.dynamic_minimization_guichaoua(bag_of_chords, global_antecedents = False)\n",
    "\n",
    "print(\"My frontiers: {}\".format(frontiers))\n",
    "print(\"My frontiers, but global: {}\".format(frontiers_global))\n",
    "print(\"Cost: {}, and global: {}\".format(cost, cost_global))\n",
    "\n",
    "guichaoua_estimates = open(flow_file_path + \"Guichaoua Estimates\\\\Experiments\\\\\" + song + \".frontiers_estimated\", \"r\")\n",
    "tab = guichaoua_estimates.read().split(\" \")\n",
    "guichaoua_frontiers = [int(i) - 1 for i in tab if i != \"\\n\"]\n",
    "guichaoua_frontiers.append(frontiers[-1])\n",
    "print(\"Guichaoua's frontiers: {}\".format(guichaoua_frontiers))\n",
    "print(\"Equality ? {}\\n\".format(guichaoua_frontiers == frontiers))"
   ]
  },
  {
   "cell_type": "code",
   "execution_count": 5,
   "metadata": {
    "ExecuteTime": {
     "end_time": "2021-01-21T17:29:36.398384Z",
     "start_time": "2021-01-21T17:29:36.391403Z"
    }
   },
   "outputs": [],
   "source": [
    "string = \"\"\n",
    "for i in frontiers:\n",
    "    string += str(i + 1) + \" \"\n",
    "file = open(flow_file_path + \"Marmoret Estimates\\\\\" + song + \".frontiers_estimated\", \"w\")\n",
    "file.write(string)\n",
    "file.close()"
   ]
  },
  {
   "cell_type": "code",
   "execution_count": 6,
   "metadata": {
    "ExecuteTime": {
     "end_time": "2021-01-21T17:29:53.555232Z",
     "start_time": "2021-01-21T17:29:36.401377Z"
    },
    "scrolled": true
   },
   "outputs": [
    {
     "name": "stdout",
     "output_type": "stream",
     "text": [
      "Cost: 7.75 at (0, 20)\n",
      "Cost: 6 at (20, 52)\n",
      "Cost: 5 at (52, 84)\n",
      "Cost: 8.5 at (84, 112)\n",
      "Cost: 4 at (112, 144)\n",
      "Cost: 6 at (144, 176)\n",
      "Cost: 7.0 at (176, 192)\n",
      "Cost: 8.5 at (192, 220)\n",
      "Cost: 4 at (220, 252)\n",
      "Cost: 6 at (252, 284)\n",
      "Cost: 6.0 at (284, 292)\n",
      "Cost: 13.25 at (292, 332)\n",
      "Cost: 7 at (332, 364)\n",
      "Cost: 6 at (364, 396)\n",
      "Cost: 8 at (396, 428)\n",
      "Cost: 10.25 at (428, 462)\n",
      "Ze sum:113.25\n"
     ]
    }
   ],
   "source": [
    "#frontiers = [0, 20,52,84,112,144,176,192,220,252,284, 292, 332,364,396, 428, 462]\n",
    "the_sum = 0\n",
    "for start, end in zip(frontiers[:-1], frontiers[1:]):\n",
    "    segment = bag_of_chords[start:end]\n",
    "    #print(segment)\n",
    "    size = len(segment)\n",
    "    bag_of_patterns = sh.compute_patterns_with_global_antecedents_for_size(size)\n",
    "    the_min = math.inf\n",
    "    best_pattern = None\n",
    "    for a_pattern in bag_of_patterns:\n",
    "        cost = pc.guichaoua_cost_global_antecedents_successors(segment, a_pattern[0], a_pattern[3], a_pattern[4], a_pattern[5])\n",
    "        cost += pc.irregularities_penalty_guichaoua(adding_code = a_pattern[1], deleting_code = a_pattern[2], positive_penalty = positive_penalty, negative_penalty = negative_penalty)\n",
    "        if cost < the_min:\n",
    "            best_pattern = a_pattern\n",
    "            the_min = cost\n",
    "    #print(best_pattern)\n",
    "    the_min += sh.penalty_cost_guichaoua(size, target_size = 32, positive_segment_size_penalty = positive_segment_size_penalty, negative_segment_size_penalty = negative_segment_size_penalty)\n",
    "    #print(pm.recursive_chords_on_pattern(best_pattern[0],segment))\n",
    "    print(\"Cost: {} at {}\".format(the_min, (start, end)))#, pm.recursive_chords_on_pattern(best_pattern[0],segment)))\n",
    "    #print(\"local_cost: {}\\n\".format(local_costs[end - 1]))\n",
    "    the_sum += the_min\n",
    "print(\"Ze sum:{}\".format(the_sum))"
   ]
  },
  {
   "cell_type": "code",
   "execution_count": 7,
   "metadata": {
    "ExecuteTime": {
     "end_time": "2021-01-21T17:29:54.956883Z",
     "start_time": "2021-01-21T17:29:53.560219Z"
    }
   },
   "outputs": [
    {
     "name": "stdout",
     "output_type": "stream",
     "text": [
      "['Eb', 'Eb', 'Eb', 'Eb', 'Abm', 'Abm', 'Abm', 'Abm', 'E', 'E', 'E', 'E', 'F#', 'F#', 'Eb', 'Eb', 'Abm', 'Abm', 'Abm', 'Abm', 'Abm', 'Abm', 'E', 'Eb', 'Ebm', 'Ebm', 'Ebm', 'Ebm', 'Ebm', 'Ebm', 'Ebm', 'Ab', 'Ebm', 'Ebm', 'Ebm', 'Ebm']\n",
      "[[[[['Eb', 'Eb'], ['Eb', 'Eb']], [['Abm', 'Abm'], ['Abm', 'Abm']]], [[['E', 'E'], ['E', 'E']], [['F#', 'F#'], ['Eb', 'Eb']]]], [[[['Abm', 'Abm'], ['Abm', 'Abm']], [['Abm', 'Abm'], ['E', 'Eb']]], [[['Ebm', 'Ebm'], ['Ebm', 'Ebm']], [[('Ebm', 'Ebm'), ('Ebm', 'Ab')], [('Ebm', 'Ebm'), ('Ebm', 'Ebm')]]]]]\n",
      "Cost: 15\n"
     ]
    }
   ],
   "source": [
    "segment = bag_of_chords[268:304]\n",
    "print(segment)\n",
    "size = len(segment)\n",
    "bag_of_patterns = sh.compute_patterns_with_global_antecedents_for_size(size)\n",
    "the_min = math.inf\n",
    "best_pattern = None\n",
    "for a_pattern in bag_of_patterns[0:1]:\n",
    "    cost = pc.guichaoua_cost_global_antecedents_successors(segment, a_pattern[0], a_pattern[3], a_pattern[4], a_pattern[5])\n",
    "    #cost += pc.irregularities_penalty_guichaoua(adding_code = a_pattern[1], deleting_code = a_pattern[2], positive_penalty = positive_penalty, negative_penalty = negative_penalty)\n",
    "    if cost < the_min:\n",
    "        best_pattern = a_pattern\n",
    "        the_min = cost\n",
    "print(pf.apply_chords_on_pattern(best_pattern[0],segment))\n",
    "print(\"Cost: {}\".format(cost))"
   ]
  },
  {
   "cell_type": "code",
   "execution_count": 8,
   "metadata": {
    "ExecuteTime": {
     "end_time": "2021-01-21T17:30:04.595293Z",
     "start_time": "2021-01-21T17:29:54.960875Z"
    }
   },
   "outputs": [
    {
     "name": "stdout",
     "output_type": "stream",
     "text": [
      "Cost: 7.75 at (0, 20)\n",
      "Cost: 6 at (20, 52)\n",
      "Cost: 5 at (52, 84)\n",
      "Cost: 8.5 at (84, 112)\n",
      "Cost: 4 at (112, 144)\n",
      "Cost: 6 at (144, 176)\n",
      "Cost: 7.0 at (176, 192)\n",
      "Cost: 8.5 at (192, 220)\n",
      "Cost: 4 at (220, 252)\n",
      "Cost: 6 at (252, 284)\n",
      "Cost: 6.0 at (284, 292)\n",
      "Cost: 13.25 at (292, 332)\n",
      "Cost: 7 at (332, 364)\n",
      "Cost: 6 at (364, 396)\n",
      "Cost: 8 at (396, 428)\n",
      "Cost: 10.25 at (428, 462)\n",
      "Ze sum:113.25\n"
     ]
    }
   ],
   "source": [
    "the_sum = 0\n",
    "for start, end in zip(guichaoua_frontiers[:-1], guichaoua_frontiers[1:]):\n",
    "    segment = bag_of_chords[start:end]\n",
    "    size = len(segment)\n",
    "    bag_of_patterns = sh.compute_patterns_with_antecedents_for_size(size)\n",
    "    the_min = math.inf\n",
    "    best_pattern = None\n",
    "    for a_pattern in bag_of_patterns:\n",
    "        cost = pc.guichaoua_cost(segment, a_pattern[0], a_pattern[3], a_pattern[4], a_pattern[5])\n",
    "        cost += pc.irregularities_penalty_guichaoua(adding_code = a_pattern[1], deleting_code = a_pattern[2], positive_penalty = positive_penalty, negative_penalty = negative_penalty)\n",
    "        if cost < the_min:\n",
    "            best_pattern = a_pattern\n",
    "            the_min = cost\n",
    "    the_min += sh.penalty_cost_guichaoua(size, target_size = 32, positive_segment_size_penalty = positive_segment_size_penalty, negative_segment_size_penalty = negative_segment_size_penalty)\n",
    "    #print(pm.recursive_chords_on_pattern(best_pattern[0],segment))\n",
    "    print(\"Cost: {} at {}\".format(the_min, (start, end)))\n",
    "    the_sum += the_min\n",
    "print(\"Ze sum:{}\".format(the_sum))"
   ]
  },
  {
   "cell_type": "code",
   "execution_count": 9,
   "metadata": {
    "ExecuteTime": {
     "end_time": "2021-01-21T17:30:04.926356Z",
     "start_time": "2021-01-21T17:30:04.597287Z"
    },
    "scrolled": false
   },
   "outputs": [
    {
     "name": "stdout",
     "output_type": "stream",
     "text": [
      "[[[[['Eb', 'Eb'], ['Eb', 'Eb']], [['Abm', 'Abm'], ['Abm', 'Abm']]], [[['E', 'E'], ['E', 'E']], [['B', 'B'], ['B', 'B']]]], [[[['Eb', 'Eb'], ['Eb', 'Eb']], [['Abm', 'Abm'], ['Abm', 'Abm']]], [[[('E', 'E'), ('E', 'E')], [('F#', 'F#'), ('Eb', 'Eb')]], [[('Abm', 'Abm'), ('Abm', 'Abm')], [('Abm', 'Abm'), ('E', 'Eb')]]]]]\n",
      "Cost: 10\n",
      "Cost irreg': 12.25\n",
      "Cost penalty: 12.25\n",
      "[[[[['Eb', 'Eb'], ['Eb', 'Eb']], [['Abm', 'Abm'], ['Abm', 'Abm']]], [[['E', 'E'], ['E', 'E']], [['B', 'B'], ['B', 'B']]]], [[[['Eb', 'Eb'], ['Eb', 'Eb']], [[('Abm', 'Abm'), ('Abm', 'Abm')], [('E', 'E'), ('E', 'E')]]], [[['F#', 'F#'], ['Eb', 'Eb']], [[('Abm', 'Abm'), ('Abm', 'Abm')], [('Abm', 'Abm'), ('E', 'Eb')]]]]]\n",
      "Cost: 11\n",
      "Cost irreg': 13.25\n",
      "Cost penalty: 13.25\n",
      "[[[[['Eb', 'Eb'], ['Eb', 'Eb']], [['Abm', 'Abm'], ['Abm', 'Abm']]], [[['E', 'E'], ['E', 'E']], [['B', 'B'], ['B', 'B']]]], [[[['Eb', 'Eb'], [('Eb', 'Eb'), ('Abm', 'Abm')]], [['Abm', 'Abm'], [('E', 'E'), ('E', 'E')]]], [[['F#', 'F#'], [('Eb', 'Eb'), ('Abm', 'Abm')]], [['Abm', 'Abm'], [('Abm', 'Abm'), ('E', 'Eb')]]]]]\n",
      "Cost: 14\n",
      "Cost irreg': 16.25\n",
      "Cost penalty: 16.25\n",
      "[[[[['Eb', 'Eb'], ['Eb', 'Eb']], [['Abm', 'Abm'], ['Abm', 'Abm']]], [[['E', 'E'], ['E', 'E']], [['B', 'B'], ['B', 'B']]]], [[[['Eb', ('Eb', 'Eb')], ['Eb', ('Abm', 'Abm')]], [['Abm', ('Abm', 'E')], ['E', ('E', 'E')]]], [[['F#', ('F#', 'Eb')], ['Eb', ('Abm', 'Abm')]], [['Abm', ('Abm', 'Abm')], ['Abm', ('E', 'Eb')]]]]]\n",
      "Cost: 19\n",
      "Cost irreg': 21.25\n",
      "Cost penalty: 21.25\n",
      "[[[[['Eb', 'Eb'], ['Eb', 'Eb']], [['Abm', 'Abm'], ['Abm', 'Abm']]], [[['E', 'E'], ['E', 'E']], [[('B', 'B'), ('B', 'B')], [('Eb', 'Eb'), ('Eb', 'Eb')]]]], [[[['Abm', 'Abm'], ['Abm', 'Abm']], [['E', 'E'], ['E', 'E']]], [[['F#', 'F#'], ['Eb', 'Eb']], [[('Abm', 'Abm'), ('Abm', 'Abm')], [('Abm', 'Abm'), ('E', 'Eb')]]]]]\n",
      "Cost: 13\n",
      "Cost irreg': 15.25\n",
      "Cost penalty: 15.25\n",
      "[[[[['Eb', 'Eb'], ['Eb', 'Eb']], [['Abm', 'Abm'], ['Abm', 'Abm']]], [[['E', 'E'], [('E', 'E'), ('B', 'B')]], [['B', 'B'], [('Eb', 'Eb'), ('Eb', 'Eb')]]]], [[[['Abm', 'Abm'], ['Abm', 'Abm']], [['E', 'E'], ['E', 'E']]], [[['F#', 'F#'], [('Eb', 'Eb'), ('Abm', 'Abm')]], [['Abm', 'Abm'], [('Abm', 'Abm'), ('E', 'Eb')]]]]]\n",
      "Cost: 16\n",
      "Cost irreg': 18.25\n",
      "Cost penalty: 18.25\n",
      "[[[[['Eb', 'Eb'], ['Eb', 'Eb']], [['Abm', 'Abm'], ['Abm', 'Abm']]], [[['E', ('E', 'E')], ['E', ('B', 'B')]], [['B', ('B', 'Eb')], ['Eb', ('Eb', 'Eb')]]]], [[[['Abm', 'Abm'], ['Abm', 'Abm']], [['E', 'E'], ['E', 'E']]], [[['F#', ('F#', 'Eb')], ['Eb', ('Abm', 'Abm')]], [['Abm', ('Abm', 'Abm')], ['Abm', ('E', 'Eb')]]]]]\n",
      "Cost: 21\n",
      "Cost irreg': 23.25\n",
      "Cost penalty: 23.25\n",
      "[[[[['Eb', 'Eb'], ['Eb', 'Eb']], [['Abm', 'Abm'], [('Abm', 'Abm'), ('E', 'E')]]], [[['E', 'E'], ['B', 'B']], [['B', 'B'], [('Eb', 'Eb'), ('Eb', 'Eb')]]]], [[[['Abm', 'Abm'], ['Abm', 'Abm']], [['E', 'E'], [('E', 'E'), ('F#', 'F#')]]], [[['Eb', 'Eb'], ['Abm', 'Abm']], [['Abm', 'Abm'], [('Abm', 'Abm'), ('E', 'Eb')]]]]]\n",
      "Cost: 17\n",
      "Cost irreg': 19.25\n",
      "Cost penalty: 19.25\n",
      "[[[[['Eb', 'Eb'], ['Eb', 'Eb']], [['Abm', ('Abm', 'Abm')], ['Abm', ('E', 'E')]]], [[['E', 'E'], ['B', 'B']], [['B', ('B', 'Eb')], ['Eb', ('Eb', 'Eb')]]]], [[[['Abm', 'Abm'], ['Abm', 'Abm']], [['E', ('E', 'E')], ['E', ('F#', 'F#')]]], [[['Eb', 'Eb'], ['Abm', 'Abm']], [['Abm', ('Abm', 'Abm')], ['Abm', ('E', 'Eb')]]]]]\n",
      "Cost: 19\n",
      "Cost irreg': 21.25\n",
      "Cost penalty: 21.25\n",
      "[[[[['Eb', 'Eb'], ['Eb', ('Eb', 'Abm')]], [['Abm', 'Abm'], ['Abm', ('E', 'E')]]], [[['E', 'E'], ['B', ('B', 'B')]], [['B', 'Eb'], ['Eb', ('Eb', 'Eb')]]]], [[[['Abm', 'Abm'], ['Abm', ('Abm', 'E')]], [['E', 'E'], ['E', ('F#', 'F#')]]], [[['Eb', 'Eb'], ['Abm', ('Abm', 'Abm')]], [['Abm', 'Abm'], ['Abm', ('E', 'Eb')]]]]]\n",
      "Cost: 26\n",
      "Cost irreg': 28.25\n",
      "Cost penalty: 28.25\n"
     ]
    }
   ],
   "source": [
    "segment = bag_of_chords[252:292]\n",
    "#print(segment)\n",
    "size = len(segment)\n",
    "bag_of_patterns = sh.compute_patterns_with_antecedents_for_size(size)\n",
    "the_min = math.inf\n",
    "best_pattern = None\n",
    "for a_pattern in bag_of_patterns:\n",
    "    print(pf.recursive_chords_on_pattern(a_pattern[0],segment))\n",
    "    cost = pc.guichaoua_cost(segment, a_pattern[0], a_pattern[3], a_pattern[4], a_pattern[5])\n",
    "    print(\"Cost: {}\".format(cost))#, pm.recursive_chords_on_pattern(best_pattern[0],segment)))\n",
    "    cost += pc.irregularities_penalty_guichaoua(adding_code = a_pattern[1], deleting_code = a_pattern[2], positive_penalty = positive_penalty, negative_penalty = negative_penalty)\n",
    "    print(\"Cost irreg': {}\".format(cost))#, pm.recursive_chords_on_pattern(best_pattern[0],segment)))\n",
    "    cost += sh.penalty_cost_guichaoua(size, target_size = 32, positive_segment_size_penalty = positive_segment_size_penalty, negative_segment_size_penalty = negative_segment_size_penalty)\n",
    "    print(\"Cost penalty: {}\".format(cost))#, pm.recursive_chords_on_pattern(best_pattern[0],segment)))\n"
   ]
  }
 ],
 "metadata": {
  "kernelspec": {
   "display_name": "Python 3",
   "language": "python",
   "name": "python3"
  },
  "language_info": {
   "codemirror_mode": {
    "name": "ipython",
    "version": 3
   },
   "file_extension": ".py",
   "mimetype": "text/x-python",
   "name": "python",
   "nbconvert_exporter": "python",
   "pygments_lexer": "ipython3",
   "version": "3.7.5"
  },
  "toc": {
   "base_numbering": 1,
   "nav_menu": {},
   "number_sections": true,
   "sideBar": true,
   "skip_h1_title": false,
   "title_cell": "Table of Contents",
   "title_sidebar": "Contents",
   "toc_cell": false,
   "toc_position": {},
   "toc_section_display": true,
   "toc_window_display": false
  },
  "varInspector": {
   "cols": {
    "lenName": 16,
    "lenType": 16,
    "lenVar": 40
   },
   "kernels_config": {
    "python": {
     "delete_cmd_postfix": "",
     "delete_cmd_prefix": "del ",
     "library": "var_list.py",
     "varRefreshCmd": "print(var_dic_list())"
    },
    "r": {
     "delete_cmd_postfix": ") ",
     "delete_cmd_prefix": "rm(",
     "library": "var_list.r",
     "varRefreshCmd": "cat(var_dic_list()) "
    }
   },
   "types_to_exclude": [
    "module",
    "function",
    "builtin_function_or_method",
    "instance",
    "_Feature"
   ],
   "window_display": false
  }
 },
 "nbformat": 4,
 "nbformat_minor": 2
}
