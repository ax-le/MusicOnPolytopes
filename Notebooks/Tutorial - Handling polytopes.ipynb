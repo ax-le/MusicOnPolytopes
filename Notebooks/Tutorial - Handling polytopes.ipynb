{
 "cells": [
  {
   "cell_type": "markdown",
   "metadata": {},
   "source": [
    "# Hi!\n",
    "Hello and welcome in this tutorial for polytope reconfiguration of music.\n",
    "\n",
    "This work presents a geometrical view for analyzing music, allowing to consider relations between musical elements which don't follow the sequential order.\n",
    "\n",
    "It was developped by C. Guichaoua [1] and C. Louboutin [2], both under the supervision of F. Bimbot.\n",
    "\n",
    "[TODO: Add My Own Reference]: In the near future, I will upload a reference (probably on ArXiv) summing up both of their work, detailing their similarities, and presenting some new models, which could help understanding the rest of this notebook. In the meantime, you should refer to the PhD thesis previously referenced.\n",
    "\n",
    "[1] C. Guichaoua, Modèles de compression et critères de complexité pour la description et l’inférence de structure musicale.  PhD thesis, 2017.\n",
    "\n",
    "[2]  C. Louboutin, Modélisation multi-échelle et multi-dimensionnelle de la structure musicale par graphes polytopiques. PhD thesis, Rennes 1, 2019."
   ]
  },
  {
   "cell_type": "markdown",
   "metadata": {},
   "source": [
    "# Installation\n",
    "To install the code, you should donwload the project: https://gitlab.inria.fr/amarmore/musiconpolytopes\n",
    "\n",
    "Then you should put all this in a folder, at a given path (noted /path/to/package).\n",
    "\n",
    "Finally, you should open a console (on Linux distribution) or an anaconda prompt (on Windows) and type: `pip install -e /path/to/package`."
   ]
  },
  {
   "cell_type": "markdown",
   "metadata": {},
   "source": [
    "# From Polytopes to Patterns\n",
    "In this work, polytopes are geometrical objects (n-dimensional hypercubes with possible alteration), which support musical elements on their vertices, and link them by edges. In general (at least for now), musical elements are major or minor chords, discretized on a temporal index (beats or upbeats typically). An example of polytope is presented on the figure below.\n",
    "\n",
    "<img src=\"imgs/polytope_example.png\" width=\"700\"/>\n",
    "\n",
    "To represent them computationally, we used nested lists. Indeed, polytopes are n dimensional hypercubes (which can then be altered). In that sense, a n-dimensional hypercube is constructed recursively as the union of two (n-1)-dimensional hypercubes (for instance, a cube can be seen as the concatenation of 2 squares)."
   ]
  },
  {
   "cell_type": "markdown",
   "metadata": {},
   "source": [
    "Hence, in our model, a dimension is represented by the level of nesting of lists, and each vertex of the polytope will be represented by a number (for the general shape) or a chord (for the musical polytope). We call this object **pattern**, to differentiate it with the geometrical polytope.\n",
    "\n",
    "The code used for generating and handling patterns is in the file ``pattern_factory.py``."
   ]
  },
  {
   "cell_type": "code",
   "execution_count": 1,
   "metadata": {
    "ExecuteTime": {
     "end_time": "2022-12-23T23:51:28.275357Z",
     "start_time": "2022-12-23T23:51:28.165741Z"
    }
   },
   "outputs": [
    {
     "ename": "ModuleNotFoundError",
     "evalue": "No module named 'polytopes'",
     "output_type": "error",
     "traceback": [
      "\u001b[1;31m---------------------------------------------------------------------------\u001b[0m",
      "\u001b[1;31mModuleNotFoundError\u001b[0m                       Traceback (most recent call last)",
      "\u001b[1;32m<ipython-input-1-1061df01e14a>\u001b[0m in \u001b[0;36m<module>\u001b[1;34m\u001b[0m\n\u001b[1;32m----> 1\u001b[1;33m \u001b[1;32mfrom\u001b[0m \u001b[0mpolytopes\u001b[0m \u001b[1;32mimport\u001b[0m \u001b[0mpattern_factory\u001b[0m \u001b[1;32mas\u001b[0m \u001b[0mpf\u001b[0m\u001b[1;33m\u001b[0m\u001b[1;33m\u001b[0m\u001b[0m\n\u001b[0m",
      "\u001b[1;31mModuleNotFoundError\u001b[0m: No module named 'polytopes'"
     ]
    }
   ],
   "source": [
    "from MusicOnPolytopes import pattern_factory as pf"
   ]
  },
  {
   "cell_type": "markdown",
   "metadata": {},
   "source": [
    "We define two types of patterns: \n",
    "- \"patterns of ones\", which act as the skeleton of the polytope: every vertex/element in the nested lists is 1, and represent a generic element. It is useful for considering the pattern as a whole, when differentiating elements isn't necessary (for example, evaluating each nested pattern for its shape and not its content).\n",
    "    - The dimension 1 pattern of ones is [1,1],\n",
    "    - The dimension 2 pattern of ones is the nesting of 2 dim-1 patterns, so [[1,1],[1,1]],\n",
    "    - The dimension 3 pattern of ones is [[[1,1],[1,1]],[[1,1],[1,1]]],\n",
    "    - etc.\n",
    " \n",
    "- \"indexed patterns\", where each element of the pattern represent the index of this vertex in the chronological/sequential order. Indeed, as vertices in the polytope represent elements in a chord progression, we have to know each element's position, to relate it with the musical context. Traditionnally, indexes start at 0.\n",
    "    - The dimension 1 indexed pattern is [0,1],\n",
    "    - The dimension 2 indexed pattern is the nesting of 2 dim-1 patterns, so [[0,1],[2,3]],\n",
    "    - The dimension 3 indexed pattern is [[[0,1],[2,3]],[[4,5],[6,7]]],\n",
    "    - etc.\n",
    "\n",
    "<img src=\"imgs/patterns_and_polytopes.gif\" width=\"700\"/>"
   ]
  },
  {
   "cell_type": "markdown",
   "metadata": {},
   "source": [
    "In the code, generating a dim-3 pattern of ones can be made with the function `make_regular_polytope_pattern`, as presented below:"
   ]
  },
  {
   "cell_type": "code",
   "execution_count": null,
   "metadata": {
    "ExecuteTime": {
     "end_time": "2022-12-23T23:51:28.279347Z",
     "start_time": "2022-12-23T23:51:28.170Z"
    }
   },
   "outputs": [],
   "source": [
    "# Feel free to play with the dimension\n",
    "pf.make_regular_polytope_pattern(dimension = 3)"
   ]
  },
  {
   "cell_type": "markdown",
   "metadata": {},
   "source": [
    "## Irregular polytopes and patterns\n",
    "In the previous part, we presented regular polytopes and patterns, *i.e.* n-dimensional hypercubes. In our model, they represent the core of polytopes, but not the entire story. Indeed, as introduced by C. Guichaoua in [1], polytopes are extended by adding and/or deleting some vertices to a n-dimensional hypercubes. The alteration (both addition and deletion) follow the vertices of a m-dimensional polytope, with $m < n - 1$. In that sense, every polytope is a n-dimensional polytope on which some vertices may be deleted, and some other may be added, following the shape of another hypercube. In the case of both addition and deletion, the dimensions of their respective polytopic shape can be of different dimensions. When some vertices are involved with both an addition and a deletion, the deletion has higher priority.\n",
    "\n",
    "To represent a deletion in a pattern, we simply delete the involved elements. For example, the pattern associated with the deletion of an element in a dimension 1 polytope is \"[1]\" (not to confuse with references), and the deletion of the last dim-1 polytope in a dim-3 polytope would be: [[[1,1],[1,1]],[[1,1]]]. (NB: a void dim-1 polytope ([]) will not be displayed).\n",
    "\n",
    "An addition will be represented by a tuple at the position of the addition, where the first element of the tuple will be the element originally present in the polytope, and the second one will be the added element. In that sense, the pattern associated with the addition of an element in a dimension 1 polytope is \"[1, (1,1)]\", and the addition of a dim-1 polytope in a dim-3 polytope would be: [[[1,1],[1,1]],[[1,1],[(1,1),(1,1)]]]."
   ]
  },
  {
   "cell_type": "markdown",
   "metadata": {},
   "source": [
    "### Irregularities in practice\n",
    "In practice, we need a procedure to construct the irregularities. This is made by encoding the location of additions or deletions in the pattern. This encoding is in fact two lists of booleans (0 or 1) which we call codes.\n",
    "\n",
    "Codes are constructed to indicate where and how many positions need to be altered. Even though each element in the polytope can be specified by dichotomy (dim-n polytope are recursively constructed as the concatenation of two dim-(n-1) polytopes, see part \"Antecedents\"), **the goal of codes here is not to indicate individually each position which need to be altered**. They rather follow a procedure, defined below:\n",
    "\n",
    "- Codes are related to the notion of dimensions in the nesting:\n",
    "     - The first element of the code (left element, the first in the list) will encode information about the 2 polytopes of dimension n-1\n",
    "     - The second element of the code will encode information about polytopes at the n-2 dimension\n",
    "     - The third element of the code will encode information about polytopes at the n-3 dimension\n",
    "     - And so on until the last one, which represent information at the last nesting dimension (so directly on elements)\n",
    "     \n",
    "- At each dimension, the boolean indicates the propagation of the alteration, as a binary rule:\n",
    "     - If the current boolean is a 1, this alteration will affect both nested polytopes.\n",
    "     - If the current boolean is a 0, this alteration will only affect the second nested polytope, the one \"on the right\" (geometrically).\n",
    "\n",
    "     In that sense, at every dimension, if the current boolean is 0, the code will only be propagated to the 2nd nested polytope, and the 1st nested polytope will be left without alteration. Otherwise, if it's a 1, the rest of the code will be copied to both polytopes of lower dimension.\n",
    "\n",
    "\n",
    "- At the last level, a 0 will indicate to alter only the 2nd polytope (so the element on the right), and a 1 will indicate to alter both, as presented before.\n",
    "> A consequence of that rule is that a code composed of zeroes ([0,0,...,0]) will still alter the last element! To specify \"no alteration at all\", code must be an empty list.\n",
    "\n",
    "Finally, we specify, for each dimension, to which part of the nesting alteration should be propagated (both or only the second part). Hence, codes are of the same length as the dimension of the polytope.\n",
    "\n",
    "In addition, the number of \"1\" in the code is exactly the dimension of the alteration polytope."
   ]
  },
  {
   "cell_type": "markdown",
   "metadata": {},
   "source": [
    "#### Illustration on a dim-3 polytope\n",
    "\n",
    "Let's illustrate this procedure with an example: a dim-3 polytope with code [0,1,0].\n",
    "\n",
    "<img src=\"imgs/code_first_presentation.png\" width=\"500\"/>\n",
    "\n",
    "At this level, the boolean being a 0, we will propagate the alteration code to the 2nd dim-(n-1) polytope *only*, so the first dim-(n-1) polytope will remain unaltered.\n",
    "\n",
    "<img src=\"imgs/code_2.png\" width=\"700\"/>"
   ]
  },
  {
   "cell_type": "markdown",
   "metadata": {},
   "source": [
    "Hence, the only polytope to alter will be the polytope $(a_4, a_5, a_6, a_7)$, with the code [1,0] (the remaining part of the original code, the first boolean (0) being used at the previous level). It is a recursive process.\n",
    "\n",
    "<img src=\"imgs/code_second_level.png\" width=\"500\"/>\n",
    "\n",
    "The boolean being 1 at this level, we will propagate alteration in both nested polytopes, as presented below:\n",
    "\n",
    "<img src=\"imgs/code_4.png\" width=\"700\"/>"
   ]
  },
  {
   "cell_type": "markdown",
   "metadata": {},
   "source": [
    "This will propagate the remaining part of the code ([0]) on both polytopes, as presented below:\n",
    "\n",
    "<img src=\"imgs/code_last_level.png\" width=\"500\"/>\n",
    "\n",
    "In this case, the boolean 0 indicates to only alter the second dim-0 elements, but on both dim-1 polytopes ($(a_4, a_5)$ and $(a_6, a_7)$) as the code was propagated to both of them in the previous stage.\n",
    "\n",
    "<img src=\"imgs/code_6.png\" width=\"700\"/>\n",
    "\n",
    "Hence, the code [0,1,0] on a dim-3 polytope will alter elements $a_5$ and $a_7$."
   ]
  },
  {
   "cell_type": "markdown",
   "metadata": {},
   "source": [
    "Finally, an important point is that codes remain the same for addition and deletion, as they only impact position. Then, depending on the chosen alteration, the previous code can result in two polytopes, presented below:\n",
    "\n",
    "<img src=\"imgs/code_7.png\" width=\"700\"/>\n",
    "\n",
    "NB: elements in green are elements with new indexes, as addition/deletion changes their order."
   ]
  },
  {
   "cell_type": "markdown",
   "metadata": {},
   "source": [
    "#### Some examples, along with the code\n",
    "Let's play with codes a little bit. For example, let's consider a polytope of dimension 3, with an addition and no deletion. The additional polytope is of dimension 1 (so 2 elements, and a unique 1 in the code), and should occur on the last elements of both nested dim-2 polytopes. It corresponds to the following polytope:\n",
    "\n",
    "<img src=\"imgs/dim_3_add_100_del_.png\" width=\"200\"/>\n",
    "\n",
    "To represent the addition, we shall propagate addition in both dim-2 polytopes, but in no other level. The code is hence a 1 for the dimension 2 level of nesting (so the first boolean element), and 0 for all the others, so: [1,0,0].\n",
    "\n",
    "As there is no deletion, the code should be null, so the deleting code will be an empty list: []."
   ]
  },
  {
   "cell_type": "code",
   "execution_count": null,
   "metadata": {
    "ExecuteTime": {
     "end_time": "2022-12-23T23:51:28.280352Z",
     "start_time": "2022-12-23T23:51:28.179Z"
    }
   },
   "outputs": [],
   "source": [
    "pf.make_polytope_pattern(dimension = 3, adding_code = [1,0,0], deleting_code = [])"
   ]
  },
  {
   "cell_type": "markdown",
   "metadata": {},
   "source": [
    "To construct the associated indexed pattern, one could use the following function:"
   ]
  },
  {
   "cell_type": "code",
   "execution_count": null,
   "metadata": {
    "ExecuteTime": {
     "end_time": "2022-12-23T23:51:28.282339Z",
     "start_time": "2022-12-23T23:51:28.183Z"
    }
   },
   "outputs": [],
   "source": [
    "pf.make_indexed_pattern(dimension = 3, adding_code = [1,0,0], deleting_code = [])"
   ]
  },
  {
   "cell_type": "markdown",
   "metadata": {},
   "source": [
    "Let's now consider the polytope of dimension 3, where the last 2 elements are deleted. The alteration polytope is of dimension 1 (so 2 elements, and a unique 1 in the code), and should occur on the last elements of both nested dim-0 polytopes (last two elements). It corresponds to the following polytope:\n",
    "\n",
    "<img src=\"imgs/dim_3_add_del_001.png\" width=\"200\"/>\n",
    "\n",
    "To represent the deletion, we shall only propagate addition in the last dim-0 polytopes, but in no other level. The code is hence a 1 for the dimension 0 level of nesting (so the last boolean element), and 0 for all the others, so: [0,0,1].\n",
    "\n",
    "As there is no addition, the code should be null, so the addition code will be an empty list: []."
   ]
  },
  {
   "cell_type": "code",
   "execution_count": null,
   "metadata": {
    "ExecuteTime": {
     "end_time": "2022-12-23T23:51:28.284334Z",
     "start_time": "2022-12-23T23:51:28.188Z"
    }
   },
   "outputs": [],
   "source": [
    "#pf.make_polytope_pattern(dimension = 3, adding_code = [], deleting_code = [0,0,1])\n",
    "pf.make_indexed_pattern(dimension = 3, adding_code = [], deleting_code = [0,0,1])"
   ]
  },
  {
   "cell_type": "markdown",
   "metadata": {},
   "source": [
    "Mixing both previous codes result in a polytope where the first dim-2 polytope has an addition, and the second has its last two elements deleted (because deletion has higher priority than addition, by construction). It corresponds to the following polytope:\n",
    "\n",
    "<img src=\"imgs/dim_3_add_100_del_001.png\" width=\"200\"/>"
   ]
  },
  {
   "cell_type": "code",
   "execution_count": null,
   "metadata": {
    "ExecuteTime": {
     "end_time": "2022-12-23T23:51:28.286331Z",
     "start_time": "2022-12-23T23:51:28.192Z"
    }
   },
   "outputs": [],
   "source": [
    "#pf.make_polytope_pattern(dimension = 3, adding_code = [1,0,0], deleting_code = [0,0,1])\n",
    "pf.make_indexed_pattern(dimension = 3, adding_code = [1,0,0], deleting_code = [0,0,1])"
   ]
  },
  {
   "cell_type": "markdown",
   "metadata": {},
   "source": [
    "Finally, an example of a dim-4 polytope, with a dimension 2 deletion and no addition is given below: \n",
    "\n",
    "<img src=\"imgs/dim_4_add_del_0110.png\" width=\"600\"/>\n",
    "\n",
    "To what codes does it corresponds?"
   ]
  },
  {
   "cell_type": "code",
   "execution_count": null,
   "metadata": {
    "ExecuteTime": {
     "end_time": "2022-12-23T23:51:28.288323Z",
     "start_time": "2022-12-23T23:51:28.196Z"
    }
   },
   "outputs": [],
   "source": [
    "adding_code = [] ### Change values here if needed\n",
    "deleting_code = [] ### Change values here if needed\n",
    "pf.make_indexed_pattern(dimension = 4, adding_code = adding_code, deleting_code = deleting_code)\n",
    "# Should result in: [[[[0, 1], [2, 3]], [[4, 5], [6, 7]]], [[[8], [9]], [[10], [11]]]]"
   ]
  },
  {
   "cell_type": "markdown",
   "metadata": {},
   "source": [
    "### Codes associated to a pattern size\n",
    "In practice, we may want to generate patterns according to the size of the current segment. In that sense, we want to anticipate the size of a pattern without constructing it. This is possible because alteration are of size $2^m$ with $m$ the number of 1 in the code. Hence, using the following function, we will anticipate the size of a pattern prior to its construction:"
   ]
  },
  {
   "cell_type": "code",
   "execution_count": null,
   "metadata": {
    "ExecuteTime": {
     "end_time": "2022-12-23T23:51:28.289325Z",
     "start_time": "2022-12-23T23:51:28.200Z"
    }
   },
   "outputs": [],
   "source": [
    "pf.get_final_pattern_size(dimension = 5, adding_code = [1,0,0,1,0], deleting_code = [0,1,0,1,0])"
   ]
  },
  {
   "cell_type": "markdown",
   "metadata": {},
   "source": [
    "Thanks to that anticipation, we can also find all couple of codes which will result in an properly sized pattern:"
   ]
  },
  {
   "cell_type": "code",
   "execution_count": null,
   "metadata": {
    "ExecuteTime": {
     "end_time": "2022-12-23T23:51:28.290317Z",
     "start_time": "2022-12-23T23:51:28.207Z"
    }
   },
   "outputs": [],
   "source": [
    "# The first element of each tuple is the addition code, the second is the deletion one.\n",
    "pf.get_codes(7)"
   ]
  },
  {
   "cell_type": "markdown",
   "metadata": {},
   "source": [
    "Nonetheless, it can happen that different couples of codes generate the same pattern. In that sense, the function `get_unique_codes` generates codes resulting in unique patterns. It should be the generic one:"
   ]
  },
  {
   "cell_type": "code",
   "execution_count": null,
   "metadata": {
    "ExecuteTime": {
     "end_time": "2022-12-23T23:51:28.291314Z",
     "start_time": "2022-12-23T23:51:28.213Z"
    }
   },
   "outputs": [],
   "source": [
    "pf.get_unique_codes(7)"
   ]
  },
  {
   "cell_type": "markdown",
   "metadata": {},
   "source": [
    "### Switching between pattern of ones and indexed pattern"
   ]
  },
  {
   "cell_type": "markdown",
   "metadata": {},
   "source": [
    "It can be useful to switch from an indexed pattern to a pattern of ones, or vice-versa. This can be made by using the functions presented below:"
   ]
  },
  {
   "cell_type": "code",
   "execution_count": null,
   "metadata": {
    "ExecuteTime": {
     "end_time": "2022-12-23T23:51:28.293309Z",
     "start_time": "2022-12-23T23:51:28.219Z"
    }
   },
   "outputs": [],
   "source": [
    "pattern_of_ones = pf.make_polytope_pattern(dimension = 4, adding_code = [], deleting_code = [])\n",
    "print(\"Pattern of ones:\\n{}\\n\".format(pattern_of_ones))\n",
    "\n",
    "indexed_pattern = pf.index_this_pattern(pattern_of_ones)\n",
    "print(\"Previous pattern, indexed:\\n{}\\n\".format(indexed_pattern))\n",
    "\n",
    "re_pattern_of_ones = pf.extract_pattern_from_indexed_pattern(indexed_pattern)\n",
    "print(\"Going back to pattern of ones pattern, indexed:\\n{}\".format(re_pattern_of_ones))"
   ]
  },
  {
   "cell_type": "markdown",
   "metadata": {},
   "source": [
    "The following function indicates whether a pattern is indexed or not (*i.e.* is a pattern of ones):"
   ]
  },
  {
   "cell_type": "code",
   "execution_count": null,
   "metadata": {
    "ExecuteTime": {
     "end_time": "2022-12-23T23:51:28.294307Z",
     "start_time": "2022-12-23T23:51:28.226Z"
    }
   },
   "outputs": [],
   "source": [
    "pattern_of_ones = pf.make_polytope_pattern(dimension = 4, adding_code = [], deleting_code = [])\n",
    "boolean = pf.is_indexed_pattern(pattern_of_ones)\n",
    "print(\"Is {} an indexed pattern?\\n{}\\n\".format(pattern_of_ones, boolean))\n",
    "\n",
    "indexed_pattern = pf.index_this_pattern(pattern_of_ones)\n",
    "boolean = pf.is_indexed_pattern(indexed_pattern)\n",
    "print(\"Is {} an indexed pattern?\\n{}\".format(indexed_pattern, boolean))"
   ]
  },
  {
   "cell_type": "markdown",
   "metadata": {},
   "source": [
    "## Get informations from a pattern\n",
    "We've previously seen how to construct a pattern. In practice, one also needs to access to informations about a particular pattern.\n",
    "\n",
    "Let's consider a particular pattern as an example:"
   ]
  },
  {
   "cell_type": "code",
   "execution_count": null,
   "metadata": {
    "ExecuteTime": {
     "end_time": "2022-12-23T23:51:28.295304Z",
     "start_time": "2022-12-23T23:51:28.231Z"
    }
   },
   "outputs": [],
   "source": [
    "pattern = pf.make_indexed_pattern(dimension = 4, adding_code = [1,0,0,0], deleting_code = [0,1,0,1])\n",
    "pattern"
   ]
  },
  {
   "cell_type": "markdown",
   "metadata": {},
   "source": [
    "Two important informations about a pattern are its dimension and its size. Both can be accessed with `get_pattern_dimension` and `get_pattern_size` functions respectively:"
   ]
  },
  {
   "cell_type": "code",
   "execution_count": null,
   "metadata": {
    "ExecuteTime": {
     "end_time": "2022-12-23T23:51:28.297300Z",
     "start_time": "2022-12-23T23:51:28.238Z"
    }
   },
   "outputs": [],
   "source": [
    "pf.get_pattern_dimension(pattern)"
   ]
  },
  {
   "cell_type": "code",
   "execution_count": null,
   "metadata": {
    "ExecuteTime": {
     "end_time": "2022-12-23T23:51:28.299294Z",
     "start_time": "2022-12-23T23:51:28.242Z"
    }
   },
   "outputs": [],
   "source": [
    "pf.get_pattern_size(pattern)"
   ]
  },
  {
   "cell_type": "markdown",
   "metadata": {},
   "source": [
    "## Flattening patterns\n",
    "Two functions exist in order to turn a pattern (nested lists) into a simple list. We call this operation \"flattening\".\n",
    "\n",
    "The first one flattens everything in the pattern, including the tuples (which indicate addition):"
   ]
  },
  {
   "cell_type": "code",
   "execution_count": null,
   "metadata": {
    "ExecuteTime": {
     "end_time": "2022-12-23T23:51:28.301288Z",
     "start_time": "2022-12-23T23:51:28.248Z"
    }
   },
   "outputs": [],
   "source": [
    "pf.flatten_pattern(pattern)"
   ]
  },
  {
   "cell_type": "markdown",
   "metadata": {},
   "source": [
    "The second one keeps tuples as tuples, but flatten the nesting of list:"
   ]
  },
  {
   "cell_type": "code",
   "execution_count": null,
   "metadata": {
    "ExecuteTime": {
     "end_time": "2022-12-23T23:51:28.302285Z",
     "start_time": "2022-12-23T23:51:28.255Z"
    }
   },
   "outputs": [],
   "source": [
    "pf.flatten_nested_list(pattern)"
   ]
  },
  {
   "cell_type": "markdown",
   "metadata": {},
   "source": [
    "This function may be used in order to keep track of the additions."
   ]
  },
  {
   "cell_type": "markdown",
   "metadata": {},
   "source": [
    "## Applying chords on a pattern\n",
    "Finally, as polytopes are meant to represent musical elements, we can apply a segment/list of chords on a pattern. Note though that this function is developped for **visualization purpose only**, and is not adapted for cost or complexity computation."
   ]
  },
  {
   "cell_type": "code",
   "execution_count": null,
   "metadata": {
    "ExecuteTime": {
     "end_time": "2022-12-23T23:51:28.304281Z",
     "start_time": "2022-12-23T23:51:28.260Z"
    }
   },
   "outputs": [],
   "source": [
    "segment = ['Eb', 'Eb', 'Eb', 'Eb', 'Abm', 'Abm', 'Abm', 'Abm', 'E', 'E', 'E', 'E', 'F#', 'F#', 'Eb', 'Eb', 'Abm', 'Abm', 'Abm', 'Abm', 'Abm', 'Abm', 'E', 'Eb', 'Ebm', 'Ebm', 'Ebm', 'Ebm', 'Ebm', 'Ebm', 'Ebm', 'Ab', 'Ebm', 'Ebm', 'Ebm', 'Ebm']\n",
    "print(\"List of chords:\\n{}\\n\".format(segment))\n",
    "\n",
    "size = len(segment)\n",
    "adding_code, deleting_code = pf.get_unique_codes(size)[0]\n",
    "import math\n",
    "dimension = round(math.log(size,2))\n",
    "#pattern = pf.make_polytope_pattern(dimension = dimension, adding_code = adding_code, deleting_code = deleting_code)\n",
    "pattern = pf.make_indexed_pattern(dimension = dimension, adding_code = adding_code, deleting_code = deleting_code)\n",
    "print(\"The pattern:\\n{}\\n\".format(pattern))\n",
    "\n",
    "chords_on_pattern = pf.apply_chords_on_pattern(pattern, segment)\n",
    "print(\"The pattern, with chords as elements:\\n{}\\n\".format(chords_on_pattern))"
   ]
  },
  {
   "cell_type": "markdown",
   "metadata": {},
   "source": [
    "# Indexing elements, antecedents and successors\n",
    "In this part, we will focus on linking and accessing elements in the pattern. More particularly, we will focus on the paradigm developed by C. Guichaoua [1]. In this paradigm, elements are studied in comparison with the previous ones. In that sense, we need to know the position of each element, and to be able to compare this position with others.\n",
    "\n",
    "**Disclaimer: as we need to access to particular elements, all patterns will have to be indexed ones.**\n",
    "\n",
    "All the code related to this part is contained in the file pattern_manip.py."
   ]
  },
  {
   "cell_type": "code",
   "execution_count": null,
   "metadata": {
    "ExecuteTime": {
     "end_time": "2022-12-23T23:51:28.305277Z",
     "start_time": "2022-12-23T23:51:28.264Z"
    }
   },
   "outputs": [],
   "source": [
    "from polytopes import pattern_manip as pm"
   ]
  },
  {
   "cell_type": "markdown",
   "metadata": {},
   "source": [
    "## Index of an element\n",
    "We developped a system of indexation for every element, based on dichotomy. To find an element, we will recursively indicate whether the element is in the first (left) or the second (right) nested polytope, and search deeper into it. To be precise, we will index each element with a list of booleans, where:\n",
    " - 0 indicates that this element is on the 1st (left) nested polytope,\n",
    " - 1 indicates that this element is on the 2nd (right) nested polytope.\n",
    "\n",
    "With recursion, we can find every element with as much booleans as the dimension of the polytope.\n",
    "\n",
    "<img src=\"imgs/index_gif.gif\" width=\"700\"/>"
   ]
  },
  {
   "cell_type": "markdown",
   "metadata": {},
   "source": [
    "A special case appears for additions in the polytope, because we need to specify which element on the added edge we are studying. Similarly to addition in patterns, we use tuples to indicate which element we are looking at. To remain consistent with the dichotomy principle, the tuple contains two booleans, the first one indicating the position of the edge in the last dimension (as for any other element), and the second representing the position of the element on the edge (0 for left, *i.e.* the original element, and 1 for the right, *i.e.* the added element).\n",
    "\n",
    "Using a tuple has the advantage of specifying that we're dealing with an addition, and not another dimension. Furthermore, indexes still contains $d$ elements (with $d$ the dimension), with the last element being a tuple with two booleans rather than a unique boolean.\n",
    "\n",
    "<img src=\"imgs/indexes_examples.png\" width=\"700\"/>\n",
    "\n",
    "In both cases, one should use function ``get_index_from_element``, as shown below:"
   ]
  },
  {
   "cell_type": "code",
   "execution_count": null,
   "metadata": {
    "ExecuteTime": {
     "end_time": "2022-12-23T23:51:28.308269Z",
     "start_time": "2022-12-23T23:51:28.268Z"
    }
   },
   "outputs": [],
   "source": [
    "pattern = pf.make_indexed_pattern(dimension = 3, adding_code = [0,1,0], deleting_code = [])\n",
    "print(\"Pattern: {} (the same as the right one on the previous figure)\".format(pattern))\n",
    "\n",
    "ind_three = pm.get_index_from_element(3, pattern)\n",
    "print(\"a_3 has index: {}\".format(ind_three))\n",
    "\n",
    "ind_five = pm.get_index_from_element(5, pattern)\n",
    "print(\"a_5 has index: {}\".format(ind_five))\n",
    "\n",
    "ind_six = pm.get_index_from_element(6, pattern)\n",
    "print(\"a_6 has index: {}\".format(ind_six))"
   ]
  },
  {
   "cell_type": "markdown",
   "metadata": {},
   "source": [
    "The inverse operation also exists, with the function ``get_element_from_index``:"
   ]
  },
  {
   "cell_type": "code",
   "execution_count": null,
   "metadata": {
    "ExecuteTime": {
     "end_time": "2022-12-23T23:51:28.309267Z",
     "start_time": "2022-12-23T23:51:28.272Z"
    }
   },
   "outputs": [],
   "source": [
    "pattern = pf.make_indexed_pattern(dimension = 3, adding_code = [0,1,0], deleting_code = [])\n",
    "print(\"Pattern: {} (the same as before)\".format(pattern))\n",
    "\n",
    "element = pm.get_element_from_index([0,1,1], pattern)\n",
    "print(\"[0,1,1] is the element: {}\".format(element))\n",
    "\n",
    "element = pm.get_element_from_index([1, 0, (1, 0)], pattern)\n",
    "print(\"[1, 0, (1, 0)] is the element: {}\".format(element))\n",
    "\n",
    "element = pm.get_element_from_index([1, 0, (1, 1)], pattern)\n",
    "print(\"[1, 0, (1, 0)] is the element: {}\".format(element))\n",
    "\n",
    "element = pm.get_element_from_index([0, 0, (1, 1)], pattern)\n",
    "print(\"[0, 0, (1, 0)] is the element: {} (should be None, as there is no such element added)\".format(element))"
   ]
  },
  {
   "cell_type": "markdown",
   "metadata": {
    "ExecuteTime": {
     "end_time": "2021-02-04T12:42:23.092926Z",
     "start_time": "2021-02-04T12:42:23.082954Z"
    }
   },
   "source": [
    "## Antecedents and successors\n",
    "A new concept, defined in [1], is the **antecedent** of an element.\n",
    "\n",
    "Looking at a polytope as an oriented graph, edges become oriented arrows, oriented in chronological order ($a_0$ &rarr; $a_1$). In this example, $a_0$ is spawning an arrow pointing towards $a_1$. $a_0$ is called \"antecedent\" of $a_1$, and $a_1$ is called \"successor\" of $a_0$.\n",
    "\n",
    "Hence, the antecedents of an element are all elements spawning an arrow pointing towards them, and the successors of an element are the tip of all arrows they spawn.\n",
    "\n",
    "For instance, in the following polytope, $a_3$ has two antecedents ($a_1$ and $a_2$), $a_4$ has one ($a_3$) and $a_5$ has one ($a_0$).\n",
    "\n",
    "<img src=\"imgs/dim_3_add_100_del_001.png\" width=\"200\"/>\n",
    "\n",
    "> NB: the definition of antecedents in [1] is wider, including every element originating an oriented *path* to the current one. In that definition, $a_0$ would be antecedent of every element. We didn't followed this definition and restricted ourselves with \"direct\" antecedents, *i.e.* element spawning a direct arrow with the current element.\n",
    "\n",
    "Antecedents of an elements can be computed using the functions ``get_antecedents_from_element`` or ``get_antecedents_from_index`` depending or whether the studied element is in the form of an element (element 1, 2, 3, etc) or as an index."
   ]
  },
  {
   "cell_type": "code",
   "execution_count": 2,
   "metadata": {
    "ExecuteTime": {
     "end_time": "2022-12-23T23:51:28.449519Z",
     "start_time": "2022-12-23T23:51:28.418601Z"
    }
   },
   "outputs": [
    {
     "ename": "NameError",
     "evalue": "name 'pf' is not defined",
     "output_type": "error",
     "traceback": [
      "\u001b[1;31m---------------------------------------------------------------------------\u001b[0m",
      "\u001b[1;31mNameError\u001b[0m                                 Traceback (most recent call last)",
      "\u001b[1;32m<ipython-input-2-aad02dca8042>\u001b[0m in \u001b[0;36m<module>\u001b[1;34m\u001b[0m\n\u001b[1;32m----> 1\u001b[1;33m \u001b[0mpattern\u001b[0m \u001b[1;33m=\u001b[0m \u001b[0mpf\u001b[0m\u001b[1;33m.\u001b[0m\u001b[0mmake_indexed_pattern\u001b[0m\u001b[1;33m(\u001b[0m\u001b[0mdimension\u001b[0m \u001b[1;33m=\u001b[0m \u001b[1;36m3\u001b[0m\u001b[1;33m,\u001b[0m \u001b[0madding_code\u001b[0m \u001b[1;33m=\u001b[0m \u001b[1;33m[\u001b[0m\u001b[1;36m1\u001b[0m\u001b[1;33m,\u001b[0m\u001b[1;36m0\u001b[0m\u001b[1;33m,\u001b[0m\u001b[1;36m0\u001b[0m\u001b[1;33m]\u001b[0m\u001b[1;33m,\u001b[0m \u001b[0mdeleting_code\u001b[0m \u001b[1;33m=\u001b[0m \u001b[1;33m[\u001b[0m\u001b[1;36m0\u001b[0m\u001b[1;33m,\u001b[0m\u001b[1;36m0\u001b[0m\u001b[1;33m,\u001b[0m\u001b[1;36m1\u001b[0m\u001b[1;33m]\u001b[0m\u001b[1;33m)\u001b[0m\u001b[1;33m\u001b[0m\u001b[1;33m\u001b[0m\u001b[0m\n\u001b[0m\u001b[0;32m      2\u001b[0m \u001b[1;33m\u001b[0m\u001b[0m\n\u001b[0;32m      3\u001b[0m \u001b[0mant_elt\u001b[0m \u001b[1;33m=\u001b[0m \u001b[0mpm\u001b[0m\u001b[1;33m.\u001b[0m\u001b[0mget_antecedents_from_element\u001b[0m\u001b[1;33m(\u001b[0m\u001b[1;36m3\u001b[0m\u001b[1;33m,\u001b[0m \u001b[0mpattern\u001b[0m\u001b[1;33m)\u001b[0m\u001b[1;33m\u001b[0m\u001b[1;33m\u001b[0m\u001b[0m\n\u001b[0;32m      4\u001b[0m \u001b[0mprint\u001b[0m\u001b[1;33m(\u001b[0m\u001b[1;34m\"Antecedents of the element 3: {}\"\u001b[0m\u001b[1;33m.\u001b[0m\u001b[0mformat\u001b[0m\u001b[1;33m(\u001b[0m\u001b[0mant_elt\u001b[0m\u001b[1;33m)\u001b[0m\u001b[1;33m)\u001b[0m\u001b[1;33m\u001b[0m\u001b[1;33m\u001b[0m\u001b[0m\n\u001b[0;32m      5\u001b[0m \u001b[1;33m\u001b[0m\u001b[0m\n",
      "\u001b[1;31mNameError\u001b[0m: name 'pf' is not defined"
     ]
    }
   ],
   "source": [
    "pattern = pf.make_indexed_pattern(dimension = 3, adding_code = [1,0,0], deleting_code = [0,0,1])\n",
    "\n",
    "ant_elt = pm.get_antecedents_from_element(3, pattern)\n",
    "print(\"Antecedents of the element 3: {}\".format(ant_elt))\n",
    "\n",
    "ant_idx = pm.get_antecedents_from_index([0,1,1], pattern)\n",
    "print(\"Antecedents of the element [0,1,1]: {}\".format(ant_idx))"
   ]
  },
  {
   "cell_type": "markdown",
   "metadata": {},
   "source": [
    "One can also retreive the index of the antecedent from the index of the element, with the function ``get_antecedents_index_from_index``:"
   ]
  },
  {
   "cell_type": "code",
   "execution_count": null,
   "metadata": {
    "ExecuteTime": {
     "end_time": "2022-12-23T23:51:28.453508Z",
     "start_time": "2022-12-23T23:51:28.283Z"
    }
   },
   "outputs": [],
   "source": [
    "pm.get_antecedents_index_from_index([0,1,1])\n",
    "# This function does not need the pattern, but some of its outputs may not exist in every pattern"
   ]
  },
  {
   "cell_type": "markdown",
   "metadata": {},
   "source": [
    "In the paradigm of [1], each antecedent is associated with a \"pivot\" element, in order to construct a square system (implication system of 4 elements) with the primer ($a_0$, the first element of the polytope). In our example above, if we consider the antecedent $a_5$ of $a_6$, its pivot is $a_1$, because it defines a square system $(a_0, a_1, a_5, a_6)$. For further details, the reader should refer to [1] or [TODO: Add My Own Reference].\n",
    "\n",
    "In the code, this is made with the function ``get_pivot_from_index`` (NB: the antecedent needs to be under its index form, and it returns the pivot as element, not index):"
   ]
  },
  {
   "cell_type": "code",
   "execution_count": null,
   "metadata": {
    "ExecuteTime": {
     "end_time": "2022-12-23T23:51:28.456502Z",
     "start_time": "2022-12-23T23:51:28.289Z"
    }
   },
   "outputs": [],
   "source": [
    "pattern = pf.make_indexed_pattern(dimension = 3, adding_code = [1,0,0], deleting_code = [0,0,1])\n",
    "\n",
    "element = 6\n",
    "elt_idx = pm.get_index_from_element(element, pattern)\n",
    "ant_idx = pm.get_antecedents_index_from_index(elt_idx)[0]\n",
    "pivot = pm.get_pivot_from_index(elt_idx, ant_idx, pattern)\n",
    "print(\"Element: {}, antecedent: {}, pivot: {}\".format(element, pm.get_element_from_index(ant_idx, pattern), pivot))"
   ]
  },
  {
   "cell_type": "markdown",
   "metadata": {},
   "source": [
    "Finally, the function ``get_antecedents_with_pivots_from_index`` returns couples (as tuples) of antecedents and their pivot from the index of an element:"
   ]
  },
  {
   "cell_type": "code",
   "execution_count": null,
   "metadata": {
    "ExecuteTime": {
     "end_time": "2022-12-23T23:51:28.458500Z",
     "start_time": "2022-12-23T23:51:28.293Z"
    }
   },
   "outputs": [],
   "source": [
    "pm.get_antecedents_with_pivots_from_index(elt_idx, pattern)"
   ]
  },
  {
   "cell_type": "markdown",
   "metadata": {},
   "source": [
    "The same functions exist for successors of an element, *i.e.* ``get_successors_from_element``, ``get_successors_from_index``, which returns the successors of an element (under its element form) when, respectively, it's an element and as an index, and the function `get_successors_index_from_index`, which returns the successors of an element under its index form, from the element as an index.\n",
    "\n",
    "For example, to find the successors of $a_1$ (which are $a_3$ and $a_6$), one can use the functions:"
   ]
  },
  {
   "cell_type": "code",
   "execution_count": null,
   "metadata": {
    "ExecuteTime": {
     "end_time": "2022-12-23T23:51:28.461491Z",
     "start_time": "2022-12-23T23:51:28.298Z"
    }
   },
   "outputs": [],
   "source": [
    "pattern = pf.make_indexed_pattern(dimension = 3, adding_code = [1,0,0], deleting_code = [0,0,1])\n",
    "\n",
    "element = 1\n",
    "suc_elt_from_elt = pm.get_successors_from_element(element, pattern)\n",
    "print(\"Successors of {}: {}\".format(element, suc_elt_from_elt))\n",
    "\n",
    "elt_idx = pm.get_index_from_element(element, pattern)\n",
    "suc_elt_from_idx = pm.get_successors_from_index(elt_idx, pattern)\n",
    "print(\"Successors of {}: {}\".format(elt_idx, suc_elt_from_idx))\n",
    "\n",
    "suc_idx_from_idx = pm.get_successors_index_from_index(elt_idx)\n",
    "print(\"Successors of {}: {}\".format(elt_idx, suc_idx_from_idx))"
   ]
  },
  {
   "cell_type": "markdown",
   "metadata": {},
   "source": [
    "# PPP\n",
    "An interesting paradigm developed in [2] by C. Louboutin is the PPP, for Primer Preserving Permutation. The idea is to look at relation in a non-sequential way, and try to find implication systems which explain a music sequence in a different logic, and with different functions between elements (for example, looking at the first beats of all bars between them, then second beats between them, etc).\n",
    "\n",
    "In this seminal work, PPP were only defined for regular polytopes, *i.e.* polytopes without alteration, with $2^n$ element ($n$ being the dimension). An illustration example is shown below:\n",
    "\n",
    "<img src=\"imgs/ppp_16.png\" width=\"400\"/>"
   ]
  },
  {
   "cell_type": "markdown",
   "metadata": {},
   "source": [
    "This work has been extended to irregular polytopes, and can be used with the function `generate_ppp`, starting from an indexed pattern.\n",
    "\n",
    "> This extension is not explained here, but is in [TODO: Add My Own Reference]. In a nutshell, the idea is to define the interesting faces with different couples of edges (seen as vectors), and interpret the polytope through these faces. In that sense, alteration does not change the paradigm, and are permuted too.\n",
    "\n",
    "An example of PPP on an irregular polytope is presented in the figure below:\n",
    "\n",
    "<img src=\"imgs/irregular_ppp.png\" width=\"800\"/>\n",
    "\n",
    "The code is presented below:"
   ]
  },
  {
   "cell_type": "code",
   "execution_count": null,
   "metadata": {
    "ExecuteTime": {
     "end_time": "2022-12-23T23:51:28.463480Z",
     "start_time": "2022-12-23T23:51:28.305Z"
    }
   },
   "outputs": [],
   "source": [
    "pattern = pf.make_indexed_pattern(dimension = 4, adding_code = [1,0,0,1], deleting_code = [0,0,0,1])\n",
    "print(\"Pattern: {}\\n\".format(pattern))\n",
    "\n",
    "all_ppps = pm.generate_ppp(pattern)\n",
    "\n",
    "for idx, a_ppp in enumerate(all_ppps):\n",
    "    print(\"PPP {} of this pattern:\\n{}\\n\".format(idx, a_ppp))"
   ]
  },
  {
   "cell_type": "markdown",
   "metadata": {},
   "source": [
    "# Polytopical costs\n",
    "The goal of this paradigm is to compute costs for musical sequences. This costs are then fed to dynamic programming algorithm, computing a segmentation of the whole music piece.\n",
    "\n",
    "Costs are explained in [TODO: Add Own Reference].\n",
    "\n",
    "One important notion in these costs is the relation between the musical elements. Indeed, as an edge links two musical elements, it should model a relation between them. Hence, a relation space between the musical elements must be defined.\n",
    "\n",
    "In addition, in both paradigms [1] and [2], some elements need to be anticipated from the context. Concretley, this means that some relations of the past of an element are composed to form a new \"virutal\" (anticipated) element. Hence, the aformentioned relation space needs to be ***stable par composition*** (need help here, I only found \"internal binary operation\" in english to say what I want, is this correct?).\n",
    "\n",
    "Finally, the relation space needs to be commutative, to simplify the model of implication.\n",
    "\n",
    "In this work, we chose to represent musical elements as major or minor chords, and relation between them in the \"circle of triads\". This circle represents every major and minor chords, ordered following the circle of fifths. Minor and major chords are alternated, following the order of relative fifths. It is presented below (from [1]):\n",
    "\n",
    "<img src=\"imgs/triad_circle.png\" width=\"400\"/>\n",
    "\n",
    "Hence, a relation between two elements wil be the signed rotation (in number of steps) between these two chords.\n",
    "\n",
    "It is to be noted that this relation space is limited, and more work should be made on this topic to accurately evaluate the potential of polytopes.\n",
    "\n",
    "The file containing the code for computing the costs is the file `polytopical_costs.py`."
   ]
  },
  {
   "cell_type": "code",
   "execution_count": null,
   "metadata": {
    "ExecuteTime": {
     "end_time": "2022-12-23T23:51:28.465478Z",
     "start_time": "2022-12-23T23:51:28.312Z"
    }
   },
   "outputs": [],
   "source": [
    "from polytopes import polytopical_costs as pc"
   ]
  },
  {
   "cell_type": "markdown",
   "metadata": {},
   "source": [
    "## Cost defined by C. Guichaoua [1]\n",
    "The first cost is the one defined by C. Guichaoua in [1], also explained in [TODO: Add Own reference]. In a nutshell, in consists in anticipating elements with their antecedents, and increase the cost by 1 if the element is different than the anticipated one.\n",
    "\n",
    "To find the best polytope according to this cost, one can use the function `best_guichaoua_cost_segment`, returning the optimal polytope according to this cost function, along with the resulting cost."
   ]
  },
  {
   "cell_type": "code",
   "execution_count": null,
   "metadata": {
    "ExecuteTime": {
     "end_time": "2022-12-23T23:51:28.467470Z",
     "start_time": "2022-12-23T23:51:28.315Z"
    }
   },
   "outputs": [],
   "source": [
    "segment = ['Eb', 'Eb', 'Eb', 'Eb', 'Abm', 'Abm', 'Abm', 'Abm', 'E', 'E', 'E', 'E', 'F#', 'F#', 'Eb', 'Eb', 'Abm', 'Abm', 'Abm', 'Abm', 'Abm', 'Abm', 'E', 'Eb', 'Ebm', 'Ebm', 'Ebm', 'Ebm', 'Ebm', 'Ebm', 'Ebm', 'Ab', 'Ebm', 'Ebm', 'Ebm', 'Ebm']\n",
    "print(\"List of chords:\\n{}\\n\".format(segment))\n",
    "\n",
    "cost, pattern = pc.best_guichaoua_cost_segment(segment)\n",
    "print(\"Optimal pattern:\\n{}\\nResulting in cost: {}\".format(pattern, cost))\n",
    "\n",
    "chords_on_pattern = pf.apply_chords_on_pattern(pattern, segment)\n",
    "print(\"The optimal pattern, with chords as elements:\\n{}\\n\".format(chords_on_pattern))"
   ]
  },
  {
   "cell_type": "markdown",
   "metadata": {},
   "source": [
    "NB: this function can also compute the score with penalties, but they are not presented here. You should refer to [1] and the documentation of this function in order to use them."
   ]
  },
  {
   "cell_type": "markdown",
   "metadata": {},
   "source": [
    "**Note pour moi-même: check le code.**"
   ]
  },
  {
   "cell_type": "markdown",
   "metadata": {},
   "source": [
    "## Cost of C. Louboutin [2], extended to irregular polytopes\n",
    "A second cost is the one used in C. Louboutin's paradigm, presented in [2]. The idea of his model is to increase the score according to the \"harmonic\" distance between elements (*i.e.* the distance between chords in the circle of triads). His cost is based on the System and Contrast model, and each cost depends on a PPP.\n",
    "\n",
    "As presented before, PPP have been expanded to irregular polytopes, so this cost have been expanded to all irregular polytopes. This new cost, called \"Louboutin cost\", is presented in [TODO: Add Own reference].\n",
    "\n",
    "To find the best polytope according to this cost, one can use the function `best_louboutin_cost_segment`, returning the optimal polytope according to this cost function, along with the resulting cost."
   ]
  },
  {
   "cell_type": "code",
   "execution_count": null,
   "metadata": {
    "ExecuteTime": {
     "end_time": "2022-12-23T23:51:28.469465Z",
     "start_time": "2022-12-23T23:51:28.320Z"
    }
   },
   "outputs": [],
   "source": [
    "segment = ['Eb', 'Eb', 'Eb', 'Eb', 'Abm', 'Abm', 'Abm', 'Abm', 'E', 'E', 'E', 'E', 'F#', 'F#', 'Eb', 'Eb', 'Abm', 'Abm', 'Abm', 'Abm', 'Abm', 'Abm', 'E', 'Eb', 'Ebm', 'Ebm', 'Ebm', 'Ebm', 'Ebm', 'Ebm', 'Ebm', 'Ab', 'Ebm', 'Ebm', 'Ebm', 'Ebm']\n",
    "print(\"List of chords:\\n{}\\n\".format(segment))\n",
    "\n",
    "cost, pattern = pc.best_louboutin_cost_segment(segment)\n",
    "print(\"Optimal pattern:\\n{}\\nResulting in cost: {}\\n\".format(pattern, cost))\n",
    "\n",
    "chords_on_pattern = pf.apply_chords_on_pattern(pattern, segment)\n",
    "print(\"The optimal pattern, with chords as elements:\\n{}\\n\".format(chords_on_pattern))"
   ]
  },
  {
   "cell_type": "markdown",
   "metadata": {},
   "source": [
    "**Note pour moi-même: check le code (surtout celui-là).**"
   ]
  },
  {
   "cell_type": "markdown",
   "metadata": {},
   "source": [
    "# Dynamic minimization\n",
    "Finally, to compute the dynamic minimization on a song, one should use the module `segmentation_algorithms.py`."
   ]
  },
  {
   "cell_type": "code",
   "execution_count": null,
   "metadata": {
    "ExecuteTime": {
     "end_time": "2022-12-23T23:51:28.471461Z",
     "start_time": "2022-12-23T23:51:28.324Z"
    }
   },
   "outputs": [],
   "source": [
    "from polytopes import segmentation_algorithms as sa"
   ]
  },
  {
   "cell_type": "markdown",
   "metadata": {},
   "source": [
    "Functions corresponding to the previous models are respectively `dynamic_minimization_guichaoua` and `dynamic_minimization_louboutin`.\n",
    "\n",
    "NB: a good practice would be to have only one dynamic minimization function, with costs specified as an argument. This should be made in future versions."
   ]
  },
  {
   "cell_type": "code",
   "execution_count": null,
   "metadata": {
    "ExecuteTime": {
     "end_time": "2022-12-23T23:51:28.473454Z",
     "start_time": "2022-12-23T23:51:28.329Z"
    }
   },
   "outputs": [],
   "source": [
    "# 001.manual.simple.seq, from RWC POP\n",
    "song = ['Abm', 'Abm', 'Abm', 'Abm', 'F#', 'F#', 'F#', 'F#', 'E', 'E', 'E', 'E', 'F#', 'F#', 'F#', 'F#', 'F#', 'F#', 'F#', 'F#', 'Eb', 'Eb', 'Eb', 'Eb', 'Abm', 'Abm', 'Abm', 'Abm', 'E', 'E', 'E', 'E', 'B', 'B', 'B', 'B', 'Eb', 'Eb', 'Eb', 'Eb', 'Abm', 'Abm', 'Abm', 'Abm', 'E', 'E', 'E', 'E', 'F#', 'F#', 'Eb', 'Eb', 'Abm', 'Abm', 'Abm', 'Abm', 'F#', 'F#', 'F#', 'F#', 'C#', 'C#', 'C#', 'C#', 'E', 'E', 'F#', 'F#', 'Abm', 'Abm', 'Abm', 'Abm', 'F#', 'F#', 'F#', 'F#', 'C#', 'C#', 'C#', 'C#', 'E', 'E', 'F#', 'F#', 'Cm', 'Cm', 'Cm', 'Cm', 'Cm', 'Cm', 'Cm', 'F', 'Cm', 'Cm', 'Cm', 'Cm', 'Cm', 'Cm', 'Cm', 'Bb', 'Cm', 'Cm', 'Cm', 'Cm', 'Cm', 'Cm', 'Cm', 'F', 'Ab', 'Ab', 'Bb', 'Bb', 'Cm', 'Cm', 'Cm', 'Cm', 'Ab', 'Ab', 'Ab', 'Ab', 'Eb', 'Eb', 'Eb', 'Eb', 'G', 'G', 'G', 'G', 'Cm', 'Cm', 'Cm', 'Cm', 'Ab', 'Ab', 'Ab', 'Ab', 'Eb', 'Eb', 'Eb', 'Eb', 'G', 'G', 'G', 'G', 'Eb', 'Eb', 'Eb', 'Eb', 'Abm', 'Abm', 'Abm', 'Abm', 'E', 'E', 'E', 'E', 'B', 'B', 'B', 'B', 'Eb', 'Eb', 'Eb', 'Eb', 'Abm', 'Abm', 'Abm', 'Abm', 'E', 'E', 'E', 'E', 'F#', 'F#', 'Eb', 'Eb', 'Abm', 'Abm', 'Abm', 'Abm', 'F#', 'F#', 'F#', 'F#', 'C#', 'C#', 'C#', 'C#', 'E', 'E', 'F#', 'F#', 'Cm', 'Cm', 'Cm', 'Cm', 'Cm', 'Cm', 'Cm', 'F', 'Cm', 'Cm', 'Cm', 'Cm', 'Cm', 'Cm', 'Cm', 'Bb', 'Cm', 'Cm', 'Cm', 'Cm', 'Cm', 'Cm', 'Cm', 'F', 'Ab', 'Ab', 'Bb', 'Bb', 'Cm', 'Cm', 'Cm', 'Cm', 'Ab', 'Ab', 'Ab', 'Ab', 'Eb', 'Eb', 'Eb', 'Eb', 'G', 'G', 'G', 'G', 'Cm', 'Cm', 'Cm', 'Cm', 'Ab', 'Ab', 'Ab', 'Ab', 'Eb', 'Eb', 'Eb', 'Eb', 'G', 'G', 'G', 'G', 'Eb', 'Eb', 'Eb', 'Eb', 'Abm', 'Abm', 'Abm', 'Abm', 'E', 'E', 'E', 'E', 'B', 'B', 'B', 'B', 'Eb', 'Eb', 'Eb', 'Eb', 'Abm', 'Abm', 'Abm', 'Abm', 'E', 'E', 'E', 'E', 'F#', 'F#', 'Eb', 'Eb', 'Abm', 'Abm', 'Abm', 'Abm', 'Abm', 'Abm', 'E', 'Eb', 'Ebm', 'Ebm', 'Ebm', 'Ebm', 'Ebm', 'Ebm', 'Ebm', 'Ab', 'Ebm', 'Ebm', 'Ebm', 'Ebm', 'Ebm', 'Ebm', 'Ebm', 'C#', 'Ebm', 'Ebm', 'Ebm', 'Ebm', 'Ebm', 'Ebm', 'Ebm', 'Ab', 'C#', 'C#', 'F#', 'F#', 'B', 'B', 'E', 'E', 'A', 'A', 'D', 'D', 'Eb', 'Eb', 'Eb', 'Eb', 'Eb', 'Eb', 'Eb', 'Eb', 'Ab', 'Ab', 'Ab', 'Ab', 'Eb', 'Eb', 'Eb', 'Eb', 'G', 'G', 'G', 'G', 'Cm', 'Cm', 'Cm', 'Cm', 'Ab', 'Ab', 'Ab', 'Ab', 'Eb', 'Eb', 'Eb', 'Eb', 'G', 'G', 'G', 'G', 'Eb', 'Eb', 'Eb', 'Eb', 'Abm', 'Abm', 'Abm', 'Abm', 'E', 'E', 'E', 'E', 'B', 'B', 'B', 'B', 'Eb', 'Eb', 'Eb', 'Eb', 'Abm', 'Abm', 'Abm', 'Abm', 'E', 'E', 'E', 'E', 'F#', 'F#', 'Eb', 'Eb', 'Abm', 'Abm', 'Abm', 'Abm', 'E', 'E', 'E', 'E', 'B', 'B', 'B', 'B', 'Eb', 'Eb', 'Eb', 'Eb', 'Abm', 'Abm', 'Abm', 'Abm', 'E', 'E', 'E', 'E', 'F#', 'F#', 'Eb', 'Eb', 'Abm', 'Abm', 'Abm', 'Abm', 'F#', 'F#', 'F#', 'F#', 'C#', 'C#', 'C#', 'C#', 'E', 'E', 'F#', 'F#', 'Abm', 'Abm', 'Abm', 'Abm', 'F#', 'F#', 'F#', 'F#', 'C#', 'C#', 'C#', 'C#', 'E', 'E', 'F#', 'F#', 'F#', 'F#', 'Abm', 'Abm', 'Abm', 'Abm']"
   ]
  },
  {
   "cell_type": "code",
   "execution_count": null,
   "metadata": {
    "ExecuteTime": {
     "end_time": "2022-12-23T23:51:28.475449Z",
     "start_time": "2022-12-23T23:51:28.333Z"
    }
   },
   "outputs": [],
   "source": [
    "# Guichaoua\n",
    "frontiers, cost = sa.dynamic_minimization_guichaoua(song)\n",
    "print(\"Frontiers of this algorithm:\\n{}\\nWith cost: {}\".format(frontiers, cost))"
   ]
  },
  {
   "cell_type": "code",
   "execution_count": null,
   "metadata": {
    "ExecuteTime": {
     "end_time": "2022-12-23T23:51:28.476446Z",
     "start_time": "2022-12-23T23:51:28.337Z"
    }
   },
   "outputs": [],
   "source": [
    "# Louboutin\n",
    "frontiers, cost = sa.dynamic_minimization_louboutin(song)\n",
    "print(\"Frontiers of this algorithm:\\n{}\\nWith cost: {}\".format(frontiers, cost))"
   ]
  }
 ],
 "metadata": {
  "kernelspec": {
   "display_name": "Python 3",
   "language": "python",
   "name": "python3"
  },
  "language_info": {
   "codemirror_mode": {
    "name": "ipython",
    "version": 3
   },
   "file_extension": ".py",
   "mimetype": "text/x-python",
   "name": "python",
   "nbconvert_exporter": "python",
   "pygments_lexer": "ipython3",
   "version": "3.7.5"
  },
  "toc": {
   "base_numbering": 1,
   "nav_menu": {},
   "number_sections": true,
   "sideBar": true,
   "skip_h1_title": false,
   "title_cell": "Table of Contents",
   "title_sidebar": "Contents",
   "toc_cell": false,
   "toc_position": {},
   "toc_section_display": true,
   "toc_window_display": false
  },
  "varInspector": {
   "cols": {
    "lenName": 16,
    "lenType": 16,
    "lenVar": 40
   },
   "kernels_config": {
    "python": {
     "delete_cmd_postfix": "",
     "delete_cmd_prefix": "del ",
     "library": "var_list.py",
     "varRefreshCmd": "print(var_dic_list())"
    },
    "r": {
     "delete_cmd_postfix": ") ",
     "delete_cmd_prefix": "rm(",
     "library": "var_list.r",
     "varRefreshCmd": "cat(var_dic_list()) "
    }
   },
   "types_to_exclude": [
    "module",
    "function",
    "builtin_function_or_method",
    "instance",
    "_Feature"
   ],
   "window_display": false
  }
 },
 "nbformat": 4,
 "nbformat_minor": 2
}
