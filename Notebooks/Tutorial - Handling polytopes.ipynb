{
 "cells": [
  {
   "cell_type": "markdown",
   "metadata": {},
   "source": [
    "# Hi!\n",
    "Hello and welcome in this tutorial for polytope reconfiguration of music.\n",
    "\n",
    "This work presents a geometrical view for analyzing music, allowing to consider relations between musical elements which don't follow the sequential order.\n",
    "\n",
    "It was developped by C. Guichaoua [1] and C. Louboutin [2], both under the supervision of F. Bimbot.\n",
    "\n",
    "[TODO: Add My Own Reference]: In the near future, I will upload a reference (probably on ArXiv) summing up both of their work, detailing their similarities, and presenting some new models, which could help understanding the rest of this notebook. In the meantime, you should refer to the PhD thesis previously referenced.\n",
    "\n",
    "[1] C. Guichaoua, Modèles de compression et critères de complexité pour la description et l’inférence de structure musicale.  PhD thesis, 2017.\n",
    "\n",
    "[2]  C. Louboutin, Modélisation multi-échelle et multi-dimensionnelle de la structure musicale par graphes polytopiques. PhD thesis, Rennes 1, 2019."
   ]
  },
  {
   "cell_type": "markdown",
   "metadata": {},
   "source": [
    "# Installation\n",
    "TODO"
   ]
  },
  {
   "cell_type": "markdown",
   "metadata": {},
   "source": [
    "# From Polytopes to Patterns\n",
    "In this work, polytopes are geometrical objects (n-dimensional hypercubes with possible alteration), which support musical elements on their vertices, and link them by edges. In general (at least for now), musical elements are major or minor chords, discretized on a temporal index (beats or upbeats typically). An example of polytope is presented on the figure below.\n",
    "\n",
    "<img src=\"imgs/polytope_example.png\" width=\"700\"/>\n",
    "\n",
    "To represent them computationally, we used nested lists. Indeed, polytopes are n dimensional hypercubes (which can then be altered). In that sense, a n-dimensional hypercube is constructed recursively as the union of two (n-1)-dimensional hypercubes (for instance, a cube can be seen as the concatenation of 2 squares)."
   ]
  },
  {
   "cell_type": "markdown",
   "metadata": {},
   "source": [
    "Hence, in our model, a dimension is represented by the level of nesting of lists, and each vertex of the polytope will be represented by a number (for the general shape) or a chord (for the musical polytope). We call this object **pattern**, to differentiate it with the geometrical polytope.\n",
    "\n",
    "The code used for generating and handling patterns is in the file ``pattern_factory.py``."
   ]
  },
  {
   "cell_type": "code",
   "execution_count": 1,
   "metadata": {
    "ExecuteTime": {
     "end_time": "2021-02-04T12:39:29.819497Z",
     "start_time": "2021-02-04T12:39:29.102059Z"
    }
   },
   "outputs": [],
   "source": [
    "from polytopes import pattern_factory as pf"
   ]
  },
  {
   "cell_type": "markdown",
   "metadata": {},
   "source": [
    "We define two types of patterns: \n",
    "- \"patterns of ones\", which act as the skeleton of the polytope: every vertex/element in the neseted lists is 1, and represent a genereic element. It is useful to consider the pattern as a whole and when differntiating elements isn't necesseray (for example, evaluating each nested pattern for its shape and not its content).\n",
    "    - The dimension 1 pattern of ones is [1,1],\n",
    "    - The dimension 2 pattern of ones is the nesting of 2 dim-1 patterns, so [[1,1],[1,1]],\n",
    "    - The dimension 3 pattern of ones is [[[1,1],[1,1]],[[1,1],[1,1]]],\n",
    "    - etc.\n",
    " \n",
    "- \"indexed patterns\", where each element of the pattern represent the index of this vertex in the chronological/sequential order. Indeed, as vertices in the polytope represent elements in a chord progression, we have to know each element's position, to relate it with the musical context. Traditionnally, indexes start at 0.\n",
    "    - The dimension 1 indexed pattern is [0,1],\n",
    "    - The dimension 2 indexed pattern is the nesting of 2 dim-1 patterns, so [[0,1],[2,3]],\n",
    "    - The dimension 3 indexed pattern is [[[0,1],[2,3]],[[4,5],[6,7]]],\n",
    "    - etc.\n",
    "\n",
    "<img src=\"imgs/patterns_and_polytopes.gif\" width=\"700\"/>"
   ]
  },
  {
   "cell_type": "markdown",
   "metadata": {},
   "source": [
    "For example, to generate a dim-3 pattern of ones, you can use the code below:"
   ]
  },
  {
   "cell_type": "code",
   "execution_count": 2,
   "metadata": {
    "ExecuteTime": {
     "end_time": "2021-02-04T12:39:29.834251Z",
     "start_time": "2021-02-04T12:39:29.822284Z"
    }
   },
   "outputs": [
    {
     "data": {
      "text/plain": [
       "[[[1, 1], [1, 1]], [[1, 1], [1, 1]]]"
      ]
     },
     "execution_count": 2,
     "metadata": {},
     "output_type": "execute_result"
    }
   ],
   "source": [
    "# Feel free to play with the dimension\n",
    "pf.make_regular_polytope_pattern(dimension = 3)"
   ]
  },
  {
   "cell_type": "markdown",
   "metadata": {},
   "source": [
    "## Irregular polytopes and patterns\n",
    "In the previous part, we presented regular polytopes and patterns, *i.e.* n-dimensional hypercubes. In our model, they represent the core of polytopes, but not the entire story. Indeed, as presented by C. Guichaoua in [1], polytopes are extended by adding and/or deleting some vertices to a n-dimensional hypercubes. The alteration (both addition and deletion) follow the vertices of a m-dimensional polytope, with $m < n - 1$. In that sense, every polytope is a n-dimensional polytope on which some vertices may be deleted, and some other may be added, following the shape of another hypercube. In the case of both addition and deletion, the dimensions of their respective polytopic shape can be of different dimensions. When some vertices are involved with both an addition and a deletion, the deletion has higher priority.\n",
    "\n",
    "To represent a deletion in a pattern, we simply delete the involved elements. For example, the pattern associated with the deletion of an element in a dimension 1 polytope is \"[1]\" (not to confuse with references), and the deletion of the last dim-1 polytope in a dim-3 polytope would be: [[[1,1],[1,1]],[[1,1]]]. (NB: a void dim-1 polytope ([]) will not be displayed).\n",
    "\n",
    "An addition will be represented by the tuple at the position of the addition, where the first element of the tuple will be the element originally present in the polytope, and the second one will be the added element. In that sense, the pattern associated with the addition of an element in a dimension 1 polytope is \"[1, (1,1)]\", and the addition of a dim-1 polytope in a dim-3 polytope would be: [[[1,1],[1,1]],[[1,1],[(1,1),(1,1)]]]."
   ]
  },
  {
   "cell_type": "markdown",
   "metadata": {},
   "source": [
    "### Irregularities in practice\n",
    "In practice, we need to define a modus operandis for irregularities. This is made by encoding the positions which need to be altered with \"codes\", which are lists of booleans (0 or 1).\n",
    "\n",
    "Codes are constructed to indicate where and how many positions need to be altered. Even though each element in the polytope can be specified by dichotomy (by construction, by concatenating two polytopes when increasing the dimension, see part \"Antecedents\"), **the goal of codes here is not to indicate individually each position which need to be altered**. \n",
    "\n",
    "- Codes are related to the notion of dimensions in the nesting:\n",
    "     - The first element of the code (left element, the first in the list) will encode information about the 2 polytopes of dimension n-1\n",
    "     - The second element of the code will encode information about polytopes at the n-2 dimension\n",
    "     - The third element of the code will encode information about polytopes at the n-3 dimension\n",
    "     - And so on until the last one, which represent information at the last nesting dimension (so directly on elements)\n",
    "     \n",
    "- As a dichotomy principle, the alteration will be propagated with binary rules at each dimension:\n",
    "     - If the current boolean is a 1, this alteration will affect both nested polytopes.\n",
    "     - If the current boolean is a 0, this alteration will only affect the second nested polytope, the one \"on the right\" (geometrically).\n",
    "\n",
    "- In that sense, at every dimension, if the current boolean is 0, the code will only be propagated to the 2nd nested polytope, and the 1st nested polytope will be left without alteration. Otherwise, if it's a 1, the rest of the code will be copied to both polytopes of lower dimension.\n",
    "\n",
    "- At the last level, a 0 will indicate to alter only the 2nd polytope (so the element on the right), and a 1 will indicate to alter both. Hence, a code composed of zeroes ([0,0,...,0]) will still alter the last element! To specify \"no alteration at all\", code must be an empty list.\n",
    "\n",
    "In that sense, by dichotomy, we specify, for each dimension, to which part of the nesting alteration should be propagated (both or only the second part). As it is a dichotomy principle, codes have to be of the same length than the dimension of the polytope.\n",
    "\n",
    "In addition, the number of \"1\" in the code define the dimension of the alteration polytope.\n",
    "\n",
    "Here is an illustration on a dim-3 polytope.\n",
    "\n",
    "<img src=\"imgs/code_gif.gif\" width=\"700\"/>\n"
   ]
  },
  {
   "cell_type": "markdown",
   "metadata": {},
   "source": [
    "Let's play with codes a little bit. For example, let's consider a polytope of dimension 3, with an addition and no deletion. The additional polytope is of dimension 1 (so 2 elements, and a unique 1 in the code), and should occur on the last elements of both nested dimension 2 polytopes. It corresponds to the following polytope:\n",
    "\n",
    "<img src=\"imgs/dim_3_add_100_del_.png\" width=\"200\"/>\n",
    "\n",
    "To represent the addition, we shall propagate addition in both dimension-2 polytopes, but in no other level. The code is hence a 1 for the dimension 2 level of nesting (so the first boolean element), and 0 for all the others, so: [1,0,0].\n",
    "\n",
    "As there is no deletion, the code should be null, so the deleting code will be an empty list: []."
   ]
  },
  {
   "cell_type": "code",
   "execution_count": 3,
   "metadata": {
    "ExecuteTime": {
     "end_time": "2021-02-04T12:39:29.842229Z",
     "start_time": "2021-02-04T12:39:29.836245Z"
    }
   },
   "outputs": [
    {
     "data": {
      "text/plain": [
       "[[[1, 1], [1, (1, 1)]], [[1, 1], [1, (1, 1)]]]"
      ]
     },
     "execution_count": 3,
     "metadata": {},
     "output_type": "execute_result"
    }
   ],
   "source": [
    "pf.make_polytope_pattern(dimension = 3, adding_code = [1,0,0], deleting_code = [])"
   ]
  },
  {
   "cell_type": "markdown",
   "metadata": {},
   "source": [
    "To construct the associated indexed pattern, one could use the following function:"
   ]
  },
  {
   "cell_type": "code",
   "execution_count": 4,
   "metadata": {
    "ExecuteTime": {
     "end_time": "2021-02-04T12:39:29.850207Z",
     "start_time": "2021-02-04T12:39:29.844223Z"
    }
   },
   "outputs": [
    {
     "data": {
      "text/plain": [
       "[[[0, 1], [2, (3, 4)]], [[5, 6], [7, (8, 9)]]]"
      ]
     },
     "execution_count": 4,
     "metadata": {},
     "output_type": "execute_result"
    }
   ],
   "source": [
    "pf.make_indexed_pattern(dimension = 3, adding_code = [1,0,0], deleting_code = [])"
   ]
  },
  {
   "cell_type": "markdown",
   "metadata": {},
   "source": [
    "Let's now consider the polytope of dimension 3, where the last 2 elements are deleted. The alteration polytope is of dimension 1 (so 2 elements, and a unique 1 in the code), and should occur on the last elements of both nested dimension 0 polytopes (last two elements). It corresponds to the following polytope:\n",
    "\n",
    "<img src=\"imgs/dim_3_add_del_001.png\" width=\"200\"/>\n",
    "\n",
    "To represent the deletion, we shall only propagate addition in the last dimension-0 polytopes, but in no other level. The code is hence a 1 for the dimension 0 level of nesting (so the last boolean element), and 0 for all the others, so: [0,0,1].\n",
    "\n",
    "As there is no addition, the code should be null, so the addition code will be an empty list: []."
   ]
  },
  {
   "cell_type": "code",
   "execution_count": 5,
   "metadata": {
    "ExecuteTime": {
     "end_time": "2021-02-04T12:39:29.858185Z",
     "start_time": "2021-02-04T12:39:29.852203Z"
    }
   },
   "outputs": [
    {
     "data": {
      "text/plain": [
       "[[[0, 1], [2, 3]], [[4, 5]]]"
      ]
     },
     "execution_count": 5,
     "metadata": {},
     "output_type": "execute_result"
    }
   ],
   "source": [
    "#pf.make_polytope_pattern(dimension = 3, adding_code = [], deleting_code = [0,0,1])\n",
    "pf.make_indexed_pattern(dimension = 3, adding_code = [], deleting_code = [0,0,1])"
   ]
  },
  {
   "cell_type": "markdown",
   "metadata": {},
   "source": [
    "Mixing both previous codes result in a polytope where the first dimension-2 polytope has an addition, and the second has its last two elements deleted (because deletion has higher priority than addition, by construction). It corresponds to the following polytope:\n",
    "\n",
    "<img src=\"imgs/dim_3_add_100_del_001.png\" width=\"200\"/>"
   ]
  },
  {
   "cell_type": "code",
   "execution_count": 6,
   "metadata": {
    "ExecuteTime": {
     "end_time": "2021-02-04T12:39:29.866165Z",
     "start_time": "2021-02-04T12:39:29.860181Z"
    }
   },
   "outputs": [
    {
     "data": {
      "text/plain": [
       "[[[0, 1], [2, (3, 4)]], [[5, 6]]]"
      ]
     },
     "execution_count": 6,
     "metadata": {},
     "output_type": "execute_result"
    }
   ],
   "source": [
    "#pf.make_polytope_pattern(dimension = 3, adding_code = [1,0,0], deleting_code = [0,0,1])\n",
    "pf.make_indexed_pattern(dimension = 3, adding_code = [1,0,0], deleting_code = [0,0,1])"
   ]
  },
  {
   "cell_type": "markdown",
   "metadata": {},
   "source": [
    "Finally, an example of a dimension-4 polytope, with a dimension 2 deletion and no addition is given below: \n",
    "\n",
    "<img src=\"imgs/dim_4_add_del_0110.png\" width=\"600\"/>\n",
    "\n",
    "To what codes does it corresponds?"
   ]
  },
  {
   "cell_type": "code",
   "execution_count": 7,
   "metadata": {
    "ExecuteTime": {
     "end_time": "2021-02-04T12:39:29.874144Z",
     "start_time": "2021-02-04T12:39:29.869158Z"
    }
   },
   "outputs": [
    {
     "data": {
      "text/plain": [
       "[[[[0, 1], [2, 3]], [[4, 5], [6, 7]]],\n",
       " [[[8, 9], [10, 11]], [[12, 13], [14, 15]]]]"
      ]
     },
     "execution_count": 7,
     "metadata": {},
     "output_type": "execute_result"
    }
   ],
   "source": [
    "adding_code = [] ### Change values here if needed\n",
    "deleting_code = [] ### Change values here if needed\n",
    "pf.make_indexed_pattern(dimension = 4, adding_code = adding_code, deleting_code = deleting_code)\n",
    "# Should result in: [[[[0, 1], [2, 3]], [[4, 5], [6, 7]]], [[[8], [9]], [[10], [11]]]]"
   ]
  },
  {
   "cell_type": "markdown",
   "metadata": {},
   "source": [
    "### Codes associated to a pattern size\n",
    "In practice, we may want to generate patterns according to the size of the current segment. In that sense, we want to anticipate the size of a pattern without constructing it. This is possible because alteration are of size $2^m$ with $m$ the number of 1 in the code. Hence, using the following function, we will anticipate the size of a pattern prior to its construction:"
   ]
  },
  {
   "cell_type": "code",
   "execution_count": 8,
   "metadata": {
    "ExecuteTime": {
     "end_time": "2021-02-04T12:39:29.882121Z",
     "start_time": "2021-02-04T12:39:29.876139Z"
    }
   },
   "outputs": [
    {
     "data": {
      "text/plain": [
       "30"
      ]
     },
     "execution_count": 8,
     "metadata": {},
     "output_type": "execute_result"
    }
   ],
   "source": [
    "pf.get_final_pattern_size(dimension = 5, adding_code = [1,0,0,1,0], deleting_code = [0,1,0,1,0])"
   ]
  },
  {
   "cell_type": "markdown",
   "metadata": {},
   "source": [
    "Thanks to that anticipation, we can also find all couple of codes which will result in an properly sized pattern:"
   ]
  },
  {
   "cell_type": "code",
   "execution_count": 9,
   "metadata": {
    "ExecuteTime": {
     "end_time": "2021-02-04T12:39:29.889103Z",
     "start_time": "2021-02-04T12:39:29.883120Z"
    }
   },
   "outputs": [
    {
     "data": {
      "text/plain": [
       "[([], [0, 0, 0]),\n",
       " ([0, 0, 0], [0, 0, 0]),\n",
       " ([0, 0, 1], [0, 1, 0]),\n",
       " ([0, 0, 1], [1, 0, 0]),\n",
       " ([0, 1, 0], [0, 0, 1]),\n",
       " ([0, 1, 0], [1, 0, 0]),\n",
       " ([1, 0, 0], [0, 0, 1]),\n",
       " ([1, 0, 0], [0, 1, 0])]"
      ]
     },
     "execution_count": 9,
     "metadata": {},
     "output_type": "execute_result"
    }
   ],
   "source": [
    "# The first element of each tuple is the addition code, the second is the deletion one.\n",
    "pf.get_codes(7)"
   ]
  },
  {
   "cell_type": "markdown",
   "metadata": {},
   "source": [
    "Nonetheless, it can happen that different couples of codes generate the same pattern. In that sense, we developed an additional function, which should be the generic one:"
   ]
  },
  {
   "cell_type": "code",
   "execution_count": 10,
   "metadata": {
    "ExecuteTime": {
     "end_time": "2021-02-04T12:39:29.898114Z",
     "start_time": "2021-02-04T12:39:29.891136Z"
    }
   },
   "outputs": [
    {
     "data": {
      "text/plain": [
       "[([], [0, 0, 0]),\n",
       " ([0, 0, 1], [0, 1, 0]),\n",
       " ([0, 0, 1], [1, 0, 0]),\n",
       " ([0, 1, 0], [0, 0, 1]),\n",
       " ([0, 1, 0], [1, 0, 0]),\n",
       " ([1, 0, 0], [0, 0, 1]),\n",
       " ([1, 0, 0], [0, 1, 0])]"
      ]
     },
     "execution_count": 10,
     "metadata": {},
     "output_type": "execute_result"
    }
   ],
   "source": [
    "pf.get_unique_codes(7)"
   ]
  },
  {
   "cell_type": "markdown",
   "metadata": {},
   "source": [
    "### Switching between pattern of ones and indexed pattern"
   ]
  },
  {
   "cell_type": "markdown",
   "metadata": {},
   "source": [
    "It can be useful to switch from an indexed pattern to a pattern of ones, or vice-versa. This can be made by using the functions presented below:"
   ]
  },
  {
   "cell_type": "code",
   "execution_count": 11,
   "metadata": {
    "ExecuteTime": {
     "end_time": "2021-02-04T12:39:29.912042Z",
     "start_time": "2021-02-04T12:39:29.899078Z"
    }
   },
   "outputs": [
    {
     "name": "stdout",
     "output_type": "stream",
     "text": [
      "Pattern of ones:\n",
      "[[[[1, 1], [1, 1]], [[1, 1], [1, 1]]], [[[1, 1], [1, 1]], [[1, 1], [1, 1]]]]\n",
      "\n",
      "Previous pattern, indexed:\n",
      "[[[[0, 1], [2, 3]], [[4, 5], [6, 7]]], [[[8, 9], [10, 11]], [[12, 13], [14, 15]]]]\n",
      "\n",
      "Going back to pattern of ones pattern, indexed:\n",
      "[[[[1, 1], [1, 1]], [[1, 1], [1, 1]]], [[[1, 1], [1, 1]], [[1, 1], [1, 1]]]]\n"
     ]
    }
   ],
   "source": [
    "pattern_of_ones = pf.make_polytope_pattern(dimension = 4, adding_code = [], deleting_code = [])\n",
    "print(\"Pattern of ones:\\n{}\\n\".format(pattern_of_ones))\n",
    "\n",
    "indexed_pattern = pf.index_this_pattern(pattern_of_ones)\n",
    "print(\"Previous pattern, indexed:\\n{}\\n\".format(indexed_pattern))\n",
    "\n",
    "re_pattern_of_ones = pf.extract_pattern_from_indexed_pattern(indexed_pattern)\n",
    "print(\"Going back to pattern of ones pattern, indexed:\\n{}\".format(re_pattern_of_ones))"
   ]
  },
  {
   "cell_type": "markdown",
   "metadata": {},
   "source": [
    "The following function indicates whether a pattern is indexed or not (*i.e.* is a pattern of ones):"
   ]
  },
  {
   "cell_type": "code",
   "execution_count": 12,
   "metadata": {
    "ExecuteTime": {
     "end_time": "2021-02-04T12:39:29.922014Z",
     "start_time": "2021-02-04T12:39:29.914036Z"
    }
   },
   "outputs": [
    {
     "name": "stdout",
     "output_type": "stream",
     "text": [
      "Is [[[[1, 1], [1, 1]], [[1, 1], [1, 1]]], [[[1, 1], [1, 1]], [[1, 1], [1, 1]]]] an indexed pattern?\n",
      "False\n",
      "\n",
      "Is [[[[0, 1], [2, 3]], [[4, 5], [6, 7]]], [[[8, 9], [10, 11]], [[12, 13], [14, 15]]]] an indexed pattern?\n",
      "True\n"
     ]
    }
   ],
   "source": [
    "pattern_of_ones = pf.make_polytope_pattern(dimension = 4, adding_code = [], deleting_code = [])\n",
    "boolean = pf.is_indexed_pattern(pattern_of_ones)\n",
    "print(\"Is {} an indexed pattern?\\n{}\\n\".format(pattern_of_ones, boolean))\n",
    "\n",
    "indexed_pattern = pf.index_this_pattern(pattern_of_ones)\n",
    "boolean = pf.is_indexed_pattern(indexed_pattern)\n",
    "print(\"Is {} an indexed pattern?\\n{}\".format(indexed_pattern, boolean))"
   ]
  },
  {
   "cell_type": "markdown",
   "metadata": {},
   "source": [
    "## Get informations from a pattern\n",
    "We've previously seen how to construct a pattern. In practice, one also needs to access to informations about a particular pattern.\n",
    "\n",
    "Let's consider a particular pattern as an example:"
   ]
  },
  {
   "cell_type": "code",
   "execution_count": 13,
   "metadata": {
    "ExecuteTime": {
     "end_time": "2021-02-04T12:39:29.928996Z",
     "start_time": "2021-02-04T12:39:29.924009Z"
    }
   },
   "outputs": [
    {
     "data": {
      "text/plain": [
       "[[[[0, 1], [2, 3]], [[4, 5], [6, (7, 8)]]], [[[9, 10]], [[11, 12]]]]"
      ]
     },
     "execution_count": 13,
     "metadata": {},
     "output_type": "execute_result"
    }
   ],
   "source": [
    "pattern = pf.make_indexed_pattern(dimension = 4, adding_code = [1,0,0,0], deleting_code = [0,1,0,1])\n",
    "pattern"
   ]
  },
  {
   "cell_type": "markdown",
   "metadata": {},
   "source": [
    "Two important informations about a pattern are its dimension and its size. Both can be accessed with these functions:"
   ]
  },
  {
   "cell_type": "code",
   "execution_count": 14,
   "metadata": {
    "ExecuteTime": {
     "end_time": "2021-02-04T12:39:29.935013Z",
     "start_time": "2021-02-04T12:39:29.930990Z"
    }
   },
   "outputs": [
    {
     "data": {
      "text/plain": [
       "4"
      ]
     },
     "execution_count": 14,
     "metadata": {},
     "output_type": "execute_result"
    }
   ],
   "source": [
    "pf.get_pattern_dimension(pattern)"
   ]
  },
  {
   "cell_type": "code",
   "execution_count": 15,
   "metadata": {
    "ExecuteTime": {
     "end_time": "2021-02-04T12:39:29.942984Z",
     "start_time": "2021-02-04T12:39:29.935977Z"
    }
   },
   "outputs": [
    {
     "data": {
      "text/plain": [
       "13"
      ]
     },
     "execution_count": 15,
     "metadata": {},
     "output_type": "execute_result"
    }
   ],
   "source": [
    "pf.get_pattern_size(pattern)"
   ]
  },
  {
   "cell_type": "markdown",
   "metadata": {},
   "source": [
    "## Flattening patterns\n",
    "Two functions exist in order to turn a pattern (nested lists) into a simple list. We call this operation \"flattening\".\n",
    "\n",
    "The first one flattens everything in the pattern, including the tuples (which indicate addition):"
   ]
  },
  {
   "cell_type": "code",
   "execution_count": 16,
   "metadata": {
    "ExecuteTime": {
     "end_time": "2021-02-04T12:39:29.949971Z",
     "start_time": "2021-02-04T12:39:29.943956Z"
    }
   },
   "outputs": [
    {
     "data": {
      "text/plain": [
       "[0, 1, 2, 3, 4, 5, 6, 7, 8, 9, 10, 11, 12]"
      ]
     },
     "execution_count": 16,
     "metadata": {},
     "output_type": "execute_result"
    }
   ],
   "source": [
    "pf.flatten_pattern(pattern)"
   ]
  },
  {
   "cell_type": "markdown",
   "metadata": {},
   "source": [
    "The second one keeps tuples as tuples, but flatten the nesting of list:"
   ]
  },
  {
   "cell_type": "code",
   "execution_count": 17,
   "metadata": {
    "ExecuteTime": {
     "end_time": "2021-02-04T12:39:29.956921Z",
     "start_time": "2021-02-04T12:39:29.951935Z"
    }
   },
   "outputs": [
    {
     "data": {
      "text/plain": [
       "[0, 1, 2, 3, 4, 5, 6, (7, 8), 9, 10, 11, 12]"
      ]
     },
     "execution_count": 17,
     "metadata": {},
     "output_type": "execute_result"
    }
   ],
   "source": [
    "pf.flatten_nested_list(pattern)"
   ]
  },
  {
   "cell_type": "markdown",
   "metadata": {},
   "source": [
    "This function may be used in order to keep track of the additions."
   ]
  },
  {
   "cell_type": "markdown",
   "metadata": {},
   "source": [
    "## Applying chords on a pattern\n",
    "Finally, as polytopes are meant to represent musical elements, we can apply a segment/list of chords on a pattern. Note though that this function is developped for **visualization purpose only**, and is not adapted for cost or complexity computation."
   ]
  },
  {
   "cell_type": "code",
   "execution_count": 18,
   "metadata": {
    "ExecuteTime": {
     "end_time": "2021-02-04T12:39:29.973876Z",
     "start_time": "2021-02-04T12:39:29.958916Z"
    }
   },
   "outputs": [
    {
     "name": "stdout",
     "output_type": "stream",
     "text": [
      "List of chords:\n",
      "['Eb', 'Eb', 'Eb', 'Eb', 'Abm', 'Abm', 'Abm', 'Abm', 'E', 'E', 'E', 'E', 'F#', 'F#', 'Eb', 'Eb', 'Abm', 'Abm', 'Abm', 'Abm', 'Abm', 'Abm', 'E', 'Eb', 'Ebm', 'Ebm', 'Ebm', 'Ebm', 'Ebm', 'Ebm', 'Ebm', 'Ab', 'Ebm', 'Ebm', 'Ebm', 'Ebm']\n",
      "\n",
      "The pattern:\n",
      "[[[[[0, 1], [2, 3]], [[4, 5], [6, 7]]], [[[8, 9], [10, 11]], [[12, 13], [14, 15]]]], [[[[16, 17], [18, 19]], [[20, 21], [22, 23]]], [[[24, 25], [26, 27]], [[(28, 29), (30, 31)], [(32, 33), (34, 35)]]]]]\n",
      "\n",
      "The pattern, with chords as elements:\n",
      "[[[[['Eb', 'Eb'], ['Eb', 'Eb']], [['Abm', 'Abm'], ['Abm', 'Abm']]], [[['E', 'E'], ['E', 'E']], [['F#', 'F#'], ['Eb', 'Eb']]]], [[[['Abm', 'Abm'], ['Abm', 'Abm']], [['Abm', 'Abm'], ['E', 'Eb']]], [[['Ebm', 'Ebm'], ['Ebm', 'Ebm']], [[('Ebm', 'Ebm'), ('Ebm', 'Ab')], [('Ebm', 'Ebm'), ('Ebm', 'Ebm')]]]]]\n",
      "\n"
     ]
    }
   ],
   "source": [
    "segment = ['Eb', 'Eb', 'Eb', 'Eb', 'Abm', 'Abm', 'Abm', 'Abm', 'E', 'E', 'E', 'E', 'F#', 'F#', 'Eb', 'Eb', 'Abm', 'Abm', 'Abm', 'Abm', 'Abm', 'Abm', 'E', 'Eb', 'Ebm', 'Ebm', 'Ebm', 'Ebm', 'Ebm', 'Ebm', 'Ebm', 'Ab', 'Ebm', 'Ebm', 'Ebm', 'Ebm']\n",
    "print(\"List of chords:\\n{}\\n\".format(segment))\n",
    "\n",
    "size = len(segment)\n",
    "adding_code, deleting_code = pf.get_unique_codes(size)[0]\n",
    "import math\n",
    "dimension = round(math.log(size,2))\n",
    "#pattern = pf.make_polytope_pattern(dimension = dimension, adding_code = adding_code, deleting_code = deleting_code)\n",
    "pattern = pf.make_indexed_pattern(dimension = dimension, adding_code = adding_code, deleting_code = deleting_code)\n",
    "print(\"The pattern:\\n{}\\n\".format(pattern))\n",
    "\n",
    "chords_on_pattern = pf.apply_chords_on_pattern(pattern, segment)\n",
    "print(\"The pattern, with chords as elements:\\n{}\\n\".format(chords_on_pattern))"
   ]
  },
  {
   "cell_type": "markdown",
   "metadata": {},
   "source": [
    "# Indexing elements, antecedents and successors\n",
    "In this part, we will focus on linking and accessing to elements in the pattern. More particularily, we will focus on the paradigm developed by C. Guichaoua [1]. In this paradigm, elements are studied in comparison with the previous ones. In that sense, we need to know the position of each element, and to be able to compare this position with others.\n",
    "\n",
    "**Disclaimer: as we need to access to particular elements, all patterns will have to be indexed ones.**\n",
    "\n",
    "All the code related to this part is contained in the file pattern_manip.py."
   ]
  },
  {
   "cell_type": "code",
   "execution_count": 19,
   "metadata": {
    "ExecuteTime": {
     "end_time": "2021-02-04T12:39:29.979860Z",
     "start_time": "2021-02-04T12:39:29.975871Z"
    }
   },
   "outputs": [],
   "source": [
    "from polytopes import pattern_manip as pm"
   ]
  },
  {
   "cell_type": "markdown",
   "metadata": {},
   "source": [
    "## Index of an element\n",
    "We developped a system of indexation for every element, based on dichotomy. To find an element, we will recursively indicate whether the element is in the first (left) or the second (right) nested polytope, and search deeper into it. To be precise, we will index each element with a list of booleans, where:\n",
    " - 0 indicates that this element is on the 1st (left) nested polytope,\n",
    " - 1 indicates that this element is on the 2nd (right) nested polytope.\n",
    "\n",
    "With recursion, we can find every element with as much booleans as the dimension of the polytope.\n",
    "\n",
    "<img src=\"imgs/index_gif.gif\" width=\"700\"/>\n",
    "\n",
    "A special case appears for additions in the polytope, because we need to specify which element on the added edge we are studying. Similarly to addition in patterns, we use tuples to indicate which element we are looking at. To remain consistent with the dichotomy principle, the tuple contains two booleans, the first one indicating the position of the edge in the last dimension (as for any other element), and the second representing the position of the element on the edge (0 for left, *i.e.* the original element, and 1 for the right, *i.e.* the added element).\n",
    "\n",
    "Using a tuple has the advantage of specifying we're dealing with an addition not another dimension, which could be hard to differentiate otherwise. In addition, indexed still contains $d$ elements (with $d$ the dimension), with the last element being a tuple with two booleans rather than a unique boolean.\n",
    "\n",
    "<img src=\"imgs/indexes_examples.png\" width=\"700\"/>\n",
    "\n",
    "In both cases, one should use function ``get_index_of_element``, as shown below"
   ]
  },
  {
   "cell_type": "code",
   "execution_count": 32,
   "metadata": {
    "ExecuteTime": {
     "end_time": "2021-02-04T12:44:14.332344Z",
     "start_time": "2021-02-04T12:44:14.326363Z"
    }
   },
   "outputs": [
    {
     "name": "stdout",
     "output_type": "stream",
     "text": [
      "a_3 has index: [0, 1, 1]\n",
      "a_5 has index: [1, 0, (1, 0)]\n",
      "a_6 has index: [1, 0, (1, 1)]\n"
     ]
    }
   ],
   "source": [
    "pattern = pf.make_indexed_pattern(dimension = 3, adding_code = [0,1,0], deleting_code = [])\n",
    "ind_three = pm.get_index_of_element(3, pattern)\n",
    "print(\"a_3 has index: {}\".format(ind_three))\n",
    "\n",
    "ind_five = pm.get_index_of_element(5, pattern)\n",
    "print(\"a_5 has index: {}\".format(ind_five))\n",
    "\n",
    "ind_six = pm.get_index_of_element(6, pattern)\n",
    "print(\"a_6 has index: {}\".format(ind_six))"
   ]
  },
  {
   "cell_type": "markdown",
   "metadata": {},
   "source": [
    "The inverse operation also exists, with the function ``get_element_with_index``:"
   ]
  },
  {
   "cell_type": "code",
   "execution_count": 30,
   "metadata": {
    "ExecuteTime": {
     "end_time": "2021-02-04T12:43:53.358511Z",
     "start_time": "2021-02-04T12:43:53.352528Z"
    }
   },
   "outputs": [
    {
     "name": "stdout",
     "output_type": "stream",
     "text": [
      "[0,1,1] is the element: 3\n",
      "[1, 0, (1, 0)] is the element: 5\n",
      "[1, 0, (1, 0)] is the element: 6\n",
      "[0, 0, (1, 0)] is the element: None (should be None, as there is no such element added)\n"
     ]
    }
   ],
   "source": [
    "pattern = pf.make_indexed_pattern(dimension = 3, adding_code = [0,1,0], deleting_code = [])\n",
    "element = pm.get_element_with_index([0,1,1], pattern)\n",
    "print(\"[0,1,1] is the element: {}\".format(element))\n",
    "\n",
    "element = pm.get_element_with_index([1, 0, (1, 0)], pattern)\n",
    "print(\"[1, 0, (1, 0)] is the element: {}\".format(element))\n",
    "\n",
    "element = pm.get_element_with_index([1, 0, (1, 1)], pattern)\n",
    "print(\"[1, 0, (1, 0)] is the element: {}\".format(element))\n",
    "\n",
    "element = pm.get_element_with_index([0, 0, (1, 1)], pattern)\n",
    "print(\"[0, 0, (1, 0)] is the element: {} (should be None, as there is no such element added)\".format(element))"
   ]
  },
  {
   "cell_type": "markdown",
   "metadata": {
    "ExecuteTime": {
     "end_time": "2021-02-04T12:42:23.092926Z",
     "start_time": "2021-02-04T12:42:23.082954Z"
    }
   },
   "source": [
    "## Antecedents and successors\n",
    "A new concept, defined in [1], is the **antecedent** of an element.\n",
    "\n",
    "Looking at a polytope as an oriented graph, edges become oriented arrows, oriented in chronological order ($a_0$ &rarr; $a_1$). In this example, $a_0$ is originating an arrow pointing towards $a_1$. $a_0$ is called \"antecedent\" of $a_1$, and $a_1$ is called \"successor\" of $a_0$.\n",
    "\n",
    "Hence, the antecedents of an element are all elements originating an arrow pointing towards them, and the successors of an element are the destination of all arrows they originate.\n",
    "\n",
    "For instance, in the following polytope, $a_3$ has two antecedents ($a_1$ and $a_2$), $a_4$ has one ($a_3$) and $a_5$ has one ($a_0$).\n",
    "\n",
    "<img src=\"imgs/dim_3_add_100_del_001.png\" width=\"200\"/>\n",
    "\n",
    "> NB: the definition of antecedents in [1] is wider, including every element originating an oriented *path* to the current one. In that definition, $a_0$ would be antecedent of every element. We didn't followed this definition and restricted ourselves with \"direct\" antecedents, *i.e.* element originating a direct arrow with the current element.\n",
    "\n",
    "Antecedents of an elements can be computed using the functions ``get_antecedents_from_element`` or ``get_antecedents_from_idx`` depending or whether the studied element is in the form of an element (element 1, 2, 3, etc) or as an index."
   ]
  },
  {
   "cell_type": "code",
   "execution_count": 39,
   "metadata": {
    "ExecuteTime": {
     "end_time": "2021-02-04T13:52:00.254181Z",
     "start_time": "2021-02-04T13:52:00.235967Z"
    }
   },
   "outputs": [
    {
     "name": "stdout",
     "output_type": "stream",
     "text": [
      "Antecedents of the element 3: [1, 2]\n",
      "Antecedents of the element [0,1,1]: [1, 2]\n"
     ]
    }
   ],
   "source": [
    "pattern = pf.make_indexed_pattern(dimension = 3, adding_code = [1,0,0], deleting_code = [0,0,1])\n",
    "\n",
    "ant_elt = pm.get_antecedents_from_element(3, pattern)\n",
    "print(\"Antecedents of the element 3: {}\".format(ant_elt))\n",
    "\n",
    "ant_idx = pm.get_antecedents_from_idx([0,1,1], pattern)\n",
    "print(\"Antecedents of the element [0,1,1]: {}\".format(ant_idx))"
   ]
  },
  {
   "cell_type": "markdown",
   "metadata": {},
   "source": [
    "One can also retreive the index of the antecedent from the index of the element, with the function ``get_antecedents_idx_from_idx``:"
   ]
  },
  {
   "cell_type": "code",
   "execution_count": 44,
   "metadata": {
    "ExecuteTime": {
     "end_time": "2021-02-04T16:55:05.991589Z",
     "start_time": "2021-02-04T16:55:05.986600Z"
    }
   },
   "outputs": [
    {
     "data": {
      "text/plain": [
       "[[0, 0, 1], [0, 1, 0]]"
      ]
     },
     "execution_count": 44,
     "metadata": {},
     "output_type": "execute_result"
    }
   ],
   "source": [
    "pm.get_antecedents_idx_from_idx([0,1,1])\n",
    "# This function does not need the pattern, but some of its outputs may not exist in every pattern"
   ]
  },
  {
   "cell_type": "markdown",
   "metadata": {},
   "source": [
    "In the paradigm of [1], each antecedent is associated with a \"pivot\" element, in order to construct a square system (implication system of 4 elements) with the primer ($a_0$, the first element of the polytope). In our example above, if we consider the antecedent $a_5$ of $a_6$, its pivot is $a_1$, because it defines a square system $(a_0, a_1, a_5, a_6)$. For further details, the reader should refer to [1] or [TODO: Add My Own Reference].\n",
    "\n",
    "In the code, this is made with the function ``get_pivot_from_idx`` (NB: the antecedent needs to be under its index form, and it returns the pivot as element, not index):"
   ]
  },
  {
   "cell_type": "code",
   "execution_count": 59,
   "metadata": {
    "ExecuteTime": {
     "end_time": "2021-02-04T17:10:58.309432Z",
     "start_time": "2021-02-04T17:10:58.303421Z"
    }
   },
   "outputs": [
    {
     "name": "stdout",
     "output_type": "stream",
     "text": [
      "Element: 6, antecedent: 1, pivot: 5\n"
     ]
    }
   ],
   "source": [
    "pattern = pf.make_indexed_pattern(dimension = 3, adding_code = [1,0,0], deleting_code = [0,0,1])\n",
    "\n",
    "element = 6\n",
    "elt_idx = pm.get_index_of_element(element, pattern)\n",
    "ant_idx = pm.get_antecedents_idx_from_idx(elt_idx)[0]\n",
    "pivot = pm.get_pivot_from_idx(elt_idx, ant_idx, pattern)\n",
    "print(\"Element: {}, antecedent: {}, pivot: {}\".format(element, pm.get_element_with_index(ant_idx, pattern), pivot))"
   ]
  },
  {
   "cell_type": "markdown",
   "metadata": {},
   "source": [
    "Finally, the function ``get_antecedents_with_pivots_from_idx`` returns couples (as tuples) of antecedents and their pivot from the index of an element:"
   ]
  },
  {
   "cell_type": "code",
   "execution_count": 58,
   "metadata": {
    "ExecuteTime": {
     "end_time": "2021-02-04T17:04:25.612458Z",
     "start_time": "2021-02-04T17:04:25.607437Z"
    }
   },
   "outputs": [
    {
     "data": {
      "text/plain": [
       "[(1, 5), (5, 1)]"
      ]
     },
     "execution_count": 58,
     "metadata": {},
     "output_type": "execute_result"
    }
   ],
   "source": [
    "pm.get_antecedents_with_pivots_from_idx(elt_idx, pattern)"
   ]
  },
  {
   "cell_type": "markdown",
   "metadata": {},
   "source": [
    "The same functions exist for successors of an element, *i.e.* ``get_successors_from_element``, ``get_successors_from_idx``, which returns the successors of an element (under its element form) when, respectively, it's as an element and as an index, and the function `get_successors_idx_from_idx`, which returns the successors of an element under its index form, from the element as an index.\n",
    "\n",
    "For example, to find the successors of $a_1$ (which are $a_3$ and $a_6$), one can use the functions:"
   ]
  },
  {
   "cell_type": "code",
   "execution_count": 63,
   "metadata": {
    "ExecuteTime": {
     "end_time": "2021-02-04T17:15:49.770175Z",
     "start_time": "2021-02-04T17:15:49.763194Z"
    }
   },
   "outputs": [
    {
     "name": "stdout",
     "output_type": "stream",
     "text": [
      "Successors of 1, as an element: [6, 3]\n",
      "Successors of 1, as an index: [6, 3]\n",
      "Successors of [0, 0, 1], as an index: [[1, 0, 1], [0, 1, 1]]\n"
     ]
    }
   ],
   "source": [
    "pattern = pf.make_indexed_pattern(dimension = 3, adding_code = [1,0,0], deleting_code = [0,0,1])\n",
    "\n",
    "element = 1\n",
    "suc_elt_from_elt = pm.get_successors_from_element(element, pattern)\n",
    "print(\"Successors of {}, as an element: {}\".format(element, suc_elt_from_elt))\n",
    "\n",
    "elt_idx = pm.get_index_of_element(element, pattern)\n",
    "suc_elt_from_idx = pm.get_successors_from_idx(elt_idx, pattern)\n",
    "print(\"Successors of {}, as an index: {}\".format(element, suc_elt_from_idx))\n",
    "\n",
    "suc_idx_from_idx = pm.get_successors_idx_from_idx(elt_idx)\n",
    "print(\"Successors of {}, as an index: {}\".format(elt_idx, suc_idx_from_idx))"
   ]
  },
  {
   "cell_type": "markdown",
   "metadata": {},
   "source": [
    "# PPP\n",
    "An interesting paradigm developed in [2] by C. Louboutin is the PPP, for Primer Preserving Permutation. The idea is to look at relation in a non-sequential way, and try to find implication systems which explain a music sequence in a different logic, and with different functions between elements (looking at the first beats of all bars between them, then second beats between them, etc).\n",
    "\n",
    "In this seminal work, PPP were only defined for regular polytopes, *i.e.* polytopes without alteration, with $2^n$ element ($n$ being the dimension). An illustration example is shown below:\n",
    "\n",
    "<img src=\"imgs/ppp_16.png\" width=\"400\"/>"
   ]
  },
  {
   "cell_type": "markdown",
   "metadata": {},
   "source": [
    "This work has been extended to irregular polytopes, and can be used with the function `generate_ppp`, starting from an indexed pattern.\n",
    "\n",
    "> This extension is not explained here, but is in [TODO: Add My Own Reference] (not released yet, so this document should be updated with the reference when available). In two words, the idea is to define the interesting faces with different couples of edges (seen as vectors), and compute polytope through these faces. In that sense, alteration does not change the paradigm, and are permuted too.\n",
    "\n",
    "An example of PPP on an irregular polytope is presented in the figure below:\n",
    "\n",
    "<img src=\"imgs/irregular_ppp.png\" width=\"800\"/>\n",
    "\n",
    "The code is presented below:"
   ]
  },
  {
   "cell_type": "code",
   "execution_count": 71,
   "metadata": {
    "ExecuteTime": {
     "end_time": "2021-02-04T17:20:49.947168Z",
     "start_time": "2021-02-04T17:20:49.938191Z"
    }
   },
   "outputs": [
    {
     "name": "stdout",
     "output_type": "stream",
     "text": [
      "Pattern: [[[[0, 1], [2, 3]], [[4, 5], [(6, 7), (8, 9)]]], [[[10, 11], [12, 13]], [[14, 15]]]]\n",
      "\n",
      "PPP 0 of this pattern:\n",
      "[[[[0, 1], [2, 3]], [[4, 5], [(6, 7), (8, 9)]]], [[[10, 11], [12, 13]], [[14, 15]]]]\n",
      "\n",
      "PPP 1 of this pattern:\n",
      "[[[[0, 1], [4, 5]], [[2, 3], [(6, 7), (8, 9)]]], [[[10, 11], [14, 15]], [[12, 13]]]]\n",
      "\n",
      "PPP 2 of this pattern:\n",
      "[[[[0, 1], [10, 11]], [[2, 3], [12, 13]]], [[[4, 5], [14, 15]], [[(6, 7), (8, 9)]]]]\n",
      "\n",
      "PPP 3 of this pattern:\n",
      "[[[[0, 2], [4, (6, 7)]], [[1, 3], [5, (8, 9)]]], [[[10, 12], [14]], [[11, 13], [15]]]]\n",
      "\n",
      "PPP 4 of this pattern:\n",
      "[[[[0, 2], [10, 12]], [[1, 3], [11, 13]]], [[[4, (6, 7)], [14]], [[5, (8, 9)], [15]]]]\n",
      "\n",
      "PPP 5 of this pattern:\n",
      "[[[[0, 4], [10, 14]], [[1, 5], [11, 15]]], [[[2, (6, 7)], [12]], [[3, (8, 9)], [13]]]]\n",
      "\n"
     ]
    }
   ],
   "source": [
    "pattern = pf.make_indexed_pattern(dimension = 4, adding_code = [1,0,0,1], deleting_code = [0,0,0,1])\n",
    "print(\"Pattern: {}\\n\".format(pattern))\n",
    "\n",
    "all_ppps = pm.generate_ppp(pattern)\n",
    "\n",
    "for idx, a_ppp in enumerate(all_ppps):\n",
    "    print(\"PPP {} of this pattern:\\n{}\\n\".format(idx, a_ppp))"
   ]
  }
 ],
 "metadata": {
  "kernelspec": {
   "display_name": "Python 3",
   "language": "python",
   "name": "python3"
  },
  "language_info": {
   "codemirror_mode": {
    "name": "ipython",
    "version": 3
   },
   "file_extension": ".py",
   "mimetype": "text/x-python",
   "name": "python",
   "nbconvert_exporter": "python",
   "pygments_lexer": "ipython3",
   "version": "3.7.5"
  },
  "toc": {
   "base_numbering": 1,
   "nav_menu": {},
   "number_sections": true,
   "sideBar": true,
   "skip_h1_title": false,
   "title_cell": "Table of Contents",
   "title_sidebar": "Contents",
   "toc_cell": false,
   "toc_position": {},
   "toc_section_display": true,
   "toc_window_display": false
  },
  "varInspector": {
   "cols": {
    "lenName": 16,
    "lenType": 16,
    "lenVar": 40
   },
   "kernels_config": {
    "python": {
     "delete_cmd_postfix": "",
     "delete_cmd_prefix": "del ",
     "library": "var_list.py",
     "varRefreshCmd": "print(var_dic_list())"
    },
    "r": {
     "delete_cmd_postfix": ") ",
     "delete_cmd_prefix": "rm(",
     "library": "var_list.r",
     "varRefreshCmd": "cat(var_dic_list()) "
    }
   },
   "types_to_exclude": [
    "module",
    "function",
    "builtin_function_or_method",
    "instance",
    "_Feature"
   ],
   "window_display": false
  }
 },
 "nbformat": 4,
 "nbformat_minor": 2
}
