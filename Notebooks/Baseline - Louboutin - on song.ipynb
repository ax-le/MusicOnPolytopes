{
 "cells": [
  {
   "cell_type": "code",
   "execution_count": 1,
   "metadata": {
    "ExecuteTime": {
     "end_time": "2021-01-04T12:49:08.668545Z",
     "start_time": "2021-01-04T12:49:07.252923Z"
    }
   },
   "outputs": [],
   "source": [
    "import os\n",
    "import time\n",
    "\n",
    "# Self-code imports\n",
    "import polytopes.segmentation_algorithms as algos\n",
    "from polytopes.model.note import Note\n",
    "from polytopes.model.chord import Chord\n",
    "import polytopes.polytopical_costs as pc\n",
    "import polytopes.data_manipulation as dm\n",
    "import polytopes.pattern_manip as pm\n",
    "import polytopes.pattern_factory as pf\n",
    "\n",
    "#Generic imports\n",
    "import numpy as np\n",
    "import matplotlib.pyplot as plt\n",
    "import pandas as pd\n",
    "import math\n",
    "import copy"
   ]
  },
  {
   "cell_type": "code",
   "execution_count": 2,
   "metadata": {
    "ExecuteTime": {
     "end_time": "2021-01-04T12:49:08.674521Z",
     "start_time": "2021-01-04T12:49:08.670531Z"
    }
   },
   "outputs": [],
   "source": [
    "# Hyperparams\n",
    "max_size = 47\n",
    "min_size = 8\n",
    "positive_segment_size_penalty = 0\n",
    "negative_segment_size_penalty = 0.125\n",
    "target_size = 32\n",
    "positive_penalty = 2.25\n",
    "negative_penalty = 3"
   ]
  },
  {
   "cell_type": "markdown",
   "metadata": {},
   "source": [
    "# On a song"
   ]
  },
  {
   "cell_type": "code",
   "execution_count": 3,
   "metadata": {
    "ExecuteTime": {
     "end_time": "2021-01-04T12:49:08.683498Z",
     "start_time": "2021-01-04T12:49:08.676516Z"
    }
   },
   "outputs": [],
   "source": [
    "flow_file_path = \"C:\\\\Users\\\\amarmore\\\\Desktop\\\\Annotations MIREX Quaero\\\\annotations_as_flow\\\\\"\n",
    "song = \"001\"\n",
    "bag_of_chords = []\n",
    "file = open(flow_file_path + song + \".flow\", \"r\") \n",
    "for chord in file.readlines():\n",
    "    bag_of_chords.append(chord.split(\"\\n\")[0])"
   ]
  },
  {
   "cell_type": "code",
   "execution_count": 4,
   "metadata": {
    "ExecuteTime": {
     "end_time": "2021-01-04T13:18:19.928387Z",
     "start_time": "2021-01-04T12:49:08.685493Z"
    },
    "scrolled": true
   },
   "outputs": [
    {
     "name": "stderr",
     "output_type": "stream",
     "text": [
      "c:\\users\\amarmore\\desktop\\projects\\phd main projects\\on git\\code\\polytopes and relation\\polytopes\\baselines.py:643: UserWarning: No Polytope is available for this size of segment. Trying sequential cost instead.\n",
      "  warnings.warn(\"No Polytope is available for this size of segment. Trying sequential cost instead.\")\n"
     ]
    },
    {
     "name": "stdout",
     "output_type": "stream",
     "text": [
      "My frontiers: [0, 24, 52, 84, 116, 148, 176, 196, 228, 256, 284, 316, 340, 368, 396, 428, 462]\n",
      "Guichaoua's frontiers: [0, 20, 52, 84, 112, 144, 176, 192, 220, 252, 284, 292, 332, 364, 396, 428, 462]\n",
      "Equality ? False\n",
      "\n"
     ]
    }
   ],
   "source": [
    "frontiers, costs = baselines.dynamic_minimization_louboutin_ppp(bag_of_chords)\n",
    "\n",
    "print(\"My frontiers: {}\".format(frontiers))\n",
    "#print(\"Costs: {}\".format(costs))\n",
    "\n",
    "guichaoua_estimates = open(flow_file_path + song + \".frontiers_estimated\", \"r\")\n",
    "tab = guichaoua_estimates.read().split(\" \")\n",
    "guichaoua_frontiers = [int(i) - 1 for i in tab if i != \"\\n\"]\n",
    "guichaoua_frontiers.append(frontiers[-1])\n",
    "print(\"Guichaoua's frontiers: {}\".format(guichaoua_frontiers))\n",
    "print(\"Equality ? {}\\n\".format(guichaoua_frontiers == frontiers))"
   ]
  },
  {
   "cell_type": "code",
   "execution_count": 6,
   "metadata": {
    "ExecuteTime": {
     "end_time": "2021-01-04T13:18:30.780002Z",
     "start_time": "2021-01-04T13:18:19.934454Z"
    },
    "scrolled": false
   },
   "outputs": [
    {
     "name": "stdout",
     "output_type": "stream",
     "text": [
      "Cost: 17.0 at size 24\n",
      "Cost: 15.5 at size 28\n",
      "Cost: 18 at size 32\n",
      "Cost: 15 at size 32\n",
      "Cost: 23 at size 32\n",
      "Cost: 15.5 at size 28\n",
      "Cost: 21.75 at size 20\n",
      "Cost: 17 at size 32\n",
      "Cost: 15.5 at size 28\n",
      "Cost: 15.5 at size 28\n",
      "Cost: 27 at size 32\n",
      "Cost: 26.0 at size 24\n",
      "Cost: 15.5 at size 28\n",
      "Cost: 15.5 at size 28\n",
      "Cost: 23 at size 32\n",
      "Cost: 20.25 at size 34\n",
      "Ze sum:301.0\n"
     ]
    }
   ],
   "source": [
    "the_sum = 0\n",
    "for start, end in zip(frontiers[:-1], frontiers[1:]):\n",
    "    segment = bag_of_chords[start:end]\n",
    "    #print(segment)\n",
    "    size = len(segment)\n",
    "    bag_of_patterns = baselines.compute_ppp_for_size(size)\n",
    "    the_min = math.inf\n",
    "    best_pattern = None\n",
    "    for a_pattern in bag_of_patterns:\n",
    "        this_polytope_cost = math.inf\n",
    "        for i in range(len(a_pattern[0])):\n",
    "            this_ppp_cost = baselines.louboutin_cost(segment, a_pattern[0][i], a_pattern[3][i], a_pattern[4][i])\n",
    "            if this_ppp_cost < this_polytope_cost:\n",
    "                this_polytope_cost = this_ppp_cost\n",
    "        cost = this_polytope_cost\n",
    "        cost += baselines.irregularities_penalty_guichaoua(adding_code = a_pattern[1], deleting_code = a_pattern[2], positive_penalty = positive_penalty, negative_penalty = negative_penalty)\n",
    "        if cost < the_min:\n",
    "            best_pattern = a_pattern\n",
    "            the_min = cost\n",
    "    the_min += baselines.penalty_cost_guichaoua(size, target_size = 32, positive_segment_size_penalty = positive_segment_size_penalty, negative_segment_size_penalty = negative_segment_size_penalty)\n",
    "    print(\"Cost: {} at size {}\".format(the_min, end-start))\n",
    "    the_sum += the_min\n",
    "print(\"Ze sum:{}\".format(the_sum))"
   ]
  },
  {
   "cell_type": "code",
   "execution_count": 7,
   "metadata": {
    "ExecuteTime": {
     "end_time": "2021-01-04T13:18:40.297340Z",
     "start_time": "2021-01-04T13:18:30.785260Z"
    }
   },
   "outputs": [
    {
     "name": "stdout",
     "output_type": "stream",
     "text": [
      "Cost: 8.75 at size 20\n",
      "Cost: 31 at size 32\n",
      "Cost: 18 at size 32\n",
      "Cost: 15.5 at size 28\n",
      "Cost: 10 at size 32\n",
      "Cost: 31 at size 32\n",
      "Cost: 18.25 at size 16\n",
      "Cost: 15.5 at size 28\n",
      "Cost: 10 at size 32\n",
      "Cost: 31 at size 32\n",
      "Cost: 13.0 at size 8\n",
      "Cost: 35.25 at size 40\n",
      "Cost: 12 at size 32\n",
      "Cost: 31 at size 32\n",
      "Cost: 23 at size 32\n",
      "Cost: 20.25 at size 34\n",
      "Ze sum:323.5\n"
     ]
    }
   ],
   "source": [
    "the_sum = 0\n",
    "for start, end in zip(guichaoua_frontiers[:-1], guichaoua_frontiers[1:]):\n",
    "    segment = bag_of_chords[start:end]\n",
    "    size = len(segment)\n",
    "    bag_of_patterns = baselines.compute_ppp_for_size(size)\n",
    "    the_min = math.inf\n",
    "    best_pattern = None\n",
    "    for a_pattern in bag_of_patterns:\n",
    "        this_polytope_cost = math.inf\n",
    "        for i in range(len(a_pattern[0])):\n",
    "            this_ppp_cost = baselines.louboutin_cost(segment, a_pattern[0][i], a_pattern[3][i], a_pattern[4][i])\n",
    "            if this_ppp_cost < this_polytope_cost:\n",
    "                this_polytope_cost = this_ppp_cost\n",
    "        cost = this_polytope_cost\n",
    "        cost += baselines.irregularities_penalty_guichaoua(adding_code = a_pattern[1], deleting_code = a_pattern[2], positive_penalty = positive_penalty, negative_penalty = negative_penalty)\n",
    "        if cost < the_min:\n",
    "            best_pattern = a_pattern\n",
    "            the_min = cost\n",
    "    the_min += baselines.penalty_cost_guichaoua(size, target_size = 32, positive_segment_size_penalty = positive_segment_size_penalty, negative_segment_size_penalty = negative_segment_size_penalty)\n",
    "    print(\"Cost: {} at size {}\".format(the_min, end-start))\n",
    "    the_sum += the_min\n",
    "print(\"Ze sum:{}\".format(the_sum))"
   ]
  }
 ],
 "metadata": {
  "kernelspec": {
   "display_name": "Python 3",
   "language": "python",
   "name": "python3"
  },
  "language_info": {
   "codemirror_mode": {
    "name": "ipython",
    "version": 3
   },
   "file_extension": ".py",
   "mimetype": "text/x-python",
   "name": "python",
   "nbconvert_exporter": "python",
   "pygments_lexer": "ipython3",
   "version": "3.7.5"
  },
  "toc": {
   "base_numbering": 1,
   "nav_menu": {},
   "number_sections": true,
   "sideBar": true,
   "skip_h1_title": false,
   "title_cell": "Table of Contents",
   "title_sidebar": "Contents",
   "toc_cell": false,
   "toc_position": {},
   "toc_section_display": true,
   "toc_window_display": false
  },
  "varInspector": {
   "cols": {
    "lenName": 16,
    "lenType": 16,
    "lenVar": 40
   },
   "kernels_config": {
    "python": {
     "delete_cmd_postfix": "",
     "delete_cmd_prefix": "del ",
     "library": "var_list.py",
     "varRefreshCmd": "print(var_dic_list())"
    },
    "r": {
     "delete_cmd_postfix": ") ",
     "delete_cmd_prefix": "rm(",
     "library": "var_list.r",
     "varRefreshCmd": "cat(var_dic_list()) "
    }
   },
   "types_to_exclude": [
    "module",
    "function",
    "builtin_function_or_method",
    "instance",
    "_Feature"
   ],
   "window_display": false
  }
 },
 "nbformat": 4,
 "nbformat_minor": 2
}
