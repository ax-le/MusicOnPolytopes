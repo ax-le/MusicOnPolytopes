{
 "cells": [
  {
   "cell_type": "code",
   "execution_count": 1,
   "metadata": {
    "ExecuteTime": {
     "end_time": "2021-01-21T17:29:55.265096Z",
     "start_time": "2021-01-21T17:29:53.064544Z"
    }
   },
   "outputs": [],
   "source": [
    "import os\n",
    "import time\n",
    "\n",
    "# Self-code imports\n",
    "import polytopes.baselines as baselines\n",
    "from polytopes.model.note import Note\n",
    "from polytopes.model.chord import Chord\n",
    "import polytopes.polytopical_costs as pc\n",
    "import polytopes.data_manipulation as dm\n",
    "import polytopes.chord_movement as mvt\n",
    "import polytopes.pattern_manipulation as pm\n",
    "import polytopes.sequence_segmentation as seq_seg\n",
    "\n",
    "\n",
    "#Generic imports\n",
    "import numpy as np\n",
    "import matplotlib.pyplot as plt\n",
    "import pandas as pd\n",
    "import math\n",
    "import copy"
   ]
  },
  {
   "cell_type": "code",
   "execution_count": 2,
   "metadata": {
    "ExecuteTime": {
     "end_time": "2021-01-21T17:29:55.279060Z",
     "start_time": "2021-01-21T17:29:55.268089Z"
    }
   },
   "outputs": [],
   "source": [
    "pattern_persist_path = \"C:\\\\Users\\\\amarmore\\\\Desktop\\\\Projects\\\\PhD main projects\\\\On Git\\\\Code\\\\Polytopes and relation\\\\polytopes\"\n",
    "flow_file_path = \"C:\\\\Users\\\\amarmore\\\\Desktop\\\\Annotations MIREX Quaero\\\\annotations_as_flow\\\\\"\n",
    "song = \"002\"\n",
    "bag_of_chords = []\n",
    "max_size = 48\n",
    "file = open(flow_file_path + song + \".flow\", \"r\") \n",
    "for chord in file.readlines():\n",
    "    bag_of_chords.append(chord.split(\"\\n\")[0])"
   ]
  },
  {
   "cell_type": "code",
   "execution_count": 3,
   "metadata": {
    "ExecuteTime": {
     "end_time": "2021-01-21T17:34:18.787824Z",
     "start_time": "2021-01-21T17:29:55.282052Z"
    }
   },
   "outputs": [
    {
     "name": "stderr",
     "output_type": "stream",
     "text": [
      "C:\\Users\\amarmore\\AppData\\Local\\Continuum\\anaconda3\\envs\\s_and_c\\lib\\site-packages\\ipykernel_launcher.py:27: DeprecationWarning: elementwise comparison failed; this will raise an error in the future.\n",
      "C:\\Users\\amarmore\\AppData\\Local\\Continuum\\anaconda3\\envs\\s_and_c\\lib\\site-packages\\ipykernel_launcher.py:27: DeprecationWarning: The truth value of an empty array is ambiguous. Returning False, but in future this will result in an error. Use `array.size > 0` to check that an array is not empty.\n"
     ]
    },
    {
     "data": {
      "image/png": "[encoded data removed]",
      "text/plain": [
       "<Figure size 432x288 with 1 Axes>"
      ]
     },
     "metadata": {
      "needs_background": "light"
     },
     "output_type": "display_data"
    },
    {
     "data": {
      "image/png": "[encoded data removed]",
      "text/plain": [
       "<Figure size 432x288 with 1 Axes>"
      ]
     },
     "metadata": {
      "needs_background": "light"
     },
     "output_type": "display_data"
    }
   ],
   "source": [
    "cnt_equal = []\n",
    "cnt_diff = []\n",
    "for current_idx in range(2, len(bag_of_chords)):\n",
    "    if current_idx < 8:\n",
    "        possible_starts = [0]\n",
    "    elif current_idx == len(bag_of_chords) - 1:\n",
    "        possible_starts = sh.possible_segment_start(current_idx, min_size = 2, max_size = max_size)\n",
    "    else:\n",
    "        possible_starts = sh.possible_segment_start(current_idx, min_size = 8, max_size = max_size)\n",
    "    for possible_start_idx in possible_starts:\n",
    "        if possible_start_idx < 0:\n",
    "            raise err.ToDebugException(\"Invalid value of start index.\")\n",
    "        segment = [bag_of_chords[k] for k in range(possible_start_idx, current_idx + 1)]\n",
    "        segment_size = len(segment)\n",
    "        \n",
    "        try:\n",
    "            this_bag_direct = np.load(\"{}\\\\persisted_content\\\\compute_patterns_with_antecedents_for_size_{}.npy\".format(pattern_persist_path, segment_size), allow_pickle = True)\n",
    "            this_bag_global = np.load(\"{}\\\\persisted_content\\\\compute_patterns_with_global_antecedents_for_size_{}.npy\".format(pattern_persist_path, segment_size), allow_pickle = True)\n",
    "        except FileNotFoundError:\n",
    "            this_bag_direct = sh.compute_patterns_with_antecedents_for_size(segment_size)\n",
    "            arr = np.array(this_bag_direct, dtype=object)\n",
    "            np.save(\"{}\\\\persisted_content\\\\compute_patterns_with_antecedents_for_size_{}\".format(pattern_persist_path, segment_size), arr)\n",
    "            this_bag_global = sh.compute_patterns_with_global_antecedents_for_size(segment_size)\n",
    "            arr_glob = np.array(this_bag_global, dtype=object)\n",
    "            np.save(\"{}\\\\persisted_content\\\\compute_patterns_with_global_antecedents_for_size_{}\".format(pattern_persist_path, segment_size), arr_glob)\n",
    "\n",
    "        if this_bag_direct != []:\n",
    "            this_segment_cost = math.inf\n",
    "            \n",
    "            if len(this_bag_direct) != len(this_bag_global):\n",
    "                raise NotImplementedError(\"Chelou\")\n",
    "\n",
    "            for i in range(len(this_bag_direct)):\n",
    "                a_pattern_direct = this_bag_direct[i]\n",
    "                a_pattern_global = this_bag_global[i]\n",
    "                if not np.array(a_pattern_direct[0] == a_pattern_global[0]):               \n",
    "                    raise NotImplementedError(\"Aussi chelou\")\n",
    "\n",
    "                this_polytope_cost_direct = pc.guichaoua_cost(segment, a_pattern_direct[0], a_pattern_direct[3], a_pattern_direct[4], a_pattern_direct[5])\n",
    "                this_polytope_cost_global = pc.guichaoua_cost_global_antecedents_successors(segment, a_pattern_global[0], a_pattern_global[3], a_pattern_global[4], a_pattern_global[5])\n",
    "                if this_polytope_cost_direct != this_polytope_cost_global:\n",
    "                    cnt_diff.append(segment_size)\n",
    "                    #print(\"la\")\n",
    "                else:\n",
    "                    cnt_equal.append(segment_size)\n",
    "                    \n",
    "plt.hist(cnt_diff)\n",
    "plt.show()\n",
    "plt.hist(cnt_equal)\n",
    "plt.show()"
   ]
  }
 ],
 "metadata": {
  "kernelspec": {
   "display_name": "Python 3",
   "language": "python",
   "name": "python3"
  },
  "language_info": {
   "codemirror_mode": {
    "name": "ipython",
    "version": 3
   },
   "file_extension": ".py",
   "mimetype": "text/x-python",
   "name": "python",
   "nbconvert_exporter": "python",
   "pygments_lexer": "ipython3",
   "version": "3.7.5"
  },
  "toc": {
   "base_numbering": 1,
   "nav_menu": {},
   "number_sections": true,
   "sideBar": true,
   "skip_h1_title": false,
   "title_cell": "Table of Contents",
   "title_sidebar": "Contents",
   "toc_cell": false,
   "toc_position": {},
   "toc_section_display": true,
   "toc_window_display": false
  },
  "varInspector": {
   "cols": {
    "lenName": 16,
    "lenType": 16,
    "lenVar": 40
   },
   "kernels_config": {
    "python": {
     "delete_cmd_postfix": "",
     "delete_cmd_prefix": "del ",
     "library": "var_list.py",
     "varRefreshCmd": "print(var_dic_list())"
    },
    "r": {
     "delete_cmd_postfix": ") ",
     "delete_cmd_prefix": "rm(",
     "library": "var_list.r",
     "varRefreshCmd": "cat(var_dic_list()) "
    }
   },
   "types_to_exclude": [
    "module",
    "function",
    "builtin_function_or_method",
    "instance",
    "_Feature"
   ],
   "window_display": false
  }
 },
 "nbformat": 4,
 "nbformat_minor": 2
}
