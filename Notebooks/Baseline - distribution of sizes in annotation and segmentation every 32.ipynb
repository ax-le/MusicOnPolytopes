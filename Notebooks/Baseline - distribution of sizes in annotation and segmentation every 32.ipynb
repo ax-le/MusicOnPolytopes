{
 "cells": [
  {
   "cell_type": "code",
   "execution_count": 1,
   "metadata": {
    "ExecuteTime": {
     "end_time": "2020-11-26T12:48:49.072741Z",
     "start_time": "2020-11-26T12:48:47.532779Z"
    }
   },
   "outputs": [],
   "source": [
    "import os\n",
    "import time\n",
    "\n",
    "# Self-code imports\n",
    "from polytopes.model.chord import Chord\n",
    "import polytopes.data_manipulation as dm\n",
    "\n",
    "#Generic imports\n",
    "import numpy as np\n",
    "import matplotlib.pyplot as plt\n",
    "import pandas as pd\n",
    "import math"
   ]
  },
  {
   "cell_type": "markdown",
   "metadata": {},
   "source": [
    "# Segment size distribution"
   ]
  },
  {
   "cell_type": "code",
   "execution_count": 2,
   "metadata": {
    "ExecuteTime": {
     "end_time": "2020-11-26T12:48:49.542431Z",
     "start_time": "2020-11-26T12:48:49.072741Z"
    }
   },
   "outputs": [
    {
     "data": {
      "text/plain": [
       "[]"
      ]
     },
     "execution_count": 2,
     "metadata": {},
     "output_type": "execute_result"
    },
    {
     "data": {
      "image/png": "[encoded data removed]",
      "text/plain": [
       "<Figure size 1080x360 with 1 Axes>"
      ]
     },
     "metadata": {
      "needs_background": "light"
     },
     "output_type": "display_data"
    }
   ],
   "source": [
    "annotations_folder_path = \"C:\\\\Users\\\\amarmore\\\\Desktop\\\\Audio samples\\\\RWC Pop\\\\annotations\\\\MIREX10\"\n",
    "persisted_path = \"C:\\\\Users\\\\amarmore\\\\Desktop\\\\data_persisted\"\n",
    "\n",
    "# Files to load: .seq\n",
    "all_mirex_ten = \"C:\\\\Users\\\\amarmore\\\\Desktop\\\\Projects\\\\RWC_annotations\\\\final_bimbot_al\\\\\"\n",
    "all_manual = []\n",
    "for file in os.listdir(all_mirex_ten):\n",
    "    bag_of_words = file.split(\".\")\n",
    "    if bag_of_words[-1] == \"seq\":\n",
    "        if bag_of_words[-2] == \"manual\":\n",
    "            all_manual.append(file)\n",
    "\n",
    "all_res = []\n",
    "distrib_segments = []\n",
    "for song in all_manual:\n",
    "    song_number = song.split(\".\")[0]\n",
    "    annot_name = \"{:03d}.manual.seg\".format(int(song_number))\n",
    "    annotation_file = open(all_mirex_ten + annot_name,'r')\n",
    "    annotation = annotation_file.read().replace(\"\\n\", \"\").split()\n",
    "    annotation = np.array([int(x) - 1 for x in annotation])\n",
    "    beat_indexed_annotation = np.array(dm.frontiers_to_segments(annotation))\n",
    "    \n",
    "    for fst, snd in zip(annotation[:-1], annotation[1:]):\n",
    "        distrib_segments.append(snd - fst)\n",
    "    \n",
    "plt.figure(figsize=(15,5))\n",
    "plt.hist(distrib_segments, bins = range(48))\n",
    "plt.xlabel(\"Segment's size in annotation (in nb of beats)\")\n",
    "plt.title(\"Distribution of segment sizes in Manual annotation\")\n",
    "plt.plot()"
   ]
  },
  {
   "cell_type": "markdown",
   "metadata": {},
   "source": [
    "# Segmentation with segment every 32 beats"
   ]
  },
  {
   "cell_type": "code",
   "execution_count": 3,
   "metadata": {
    "ExecuteTime": {
     "end_time": "2020-11-26T12:48:51.182876Z",
     "start_time": "2020-11-26T12:48:49.542431Z"
    }
   },
   "outputs": [
    {
     "name": "stdout",
     "output_type": "stream",
     "text": [
      "Prec: 0.3597, Rec: 0.3615 Fmes: 0.3601\n"
     ]
    }
   ],
   "source": [
    "annotations_folder_path = \"C:\\\\Users\\\\amarmore\\\\Desktop\\\\Audio samples\\\\RWC Pop\\\\annotations\\\\MIREX10\"\n",
    "persisted_path = \"C:\\\\Users\\\\amarmore\\\\Desktop\\\\data_persisted\"\n",
    "\n",
    "# Files to load: .seq\n",
    "all_mirex_ten = \"C:\\\\Users\\\\amarmore\\\\Desktop\\\\Projects\\\\RWC_annotations\\\\final_bimbot_al\\\\\"\n",
    "all_manual = []\n",
    "for file in os.listdir(all_mirex_ten):\n",
    "    bag_of_words = file.split(\".\")\n",
    "    if bag_of_words[-1] == \"seq\":\n",
    "        if bag_of_words[-2] == \"manual\":\n",
    "            all_manual.append(file)\n",
    "\n",
    "all_res = []\n",
    "distrib_segments = []\n",
    "for song in all_manual:\n",
    "    bag_of_chords = dm.flowify_song(all_mirex_ten + song)\n",
    "\n",
    "    frontiers = [i for i in range(0,len(bag_of_chords), 32)]\n",
    "    \n",
    "    #Scores, computed on the beat annotation\n",
    "    beat_indexed_segments = dm.frontiers_to_segments(frontiers)\n",
    "\n",
    "    song_number = song.split(\".\")[0]\n",
    "    annot_name = \"{:03d}.manual.seg\".format(int(song_number))\n",
    "    annotation_file = open(all_mirex_ten + annot_name,'r')\n",
    "    annotation = annotation_file.read().replace(\"\\n\", \"\").split()\n",
    "    annotation = np.array([int(x) - 1 for x in annotation])\n",
    "    beat_indexed_annotation = np.array(dm.frontiers_to_segments(annotation))\n",
    "    prec, rec, fmes = dm.compute_score_of_segmentation(beat_indexed_annotation, beat_indexed_segments, window_length = 0.5)\n",
    "    all_res.append([prec, rec, fmes])\n",
    "\n",
    "results = np.array(all_res)\n",
    "prec, rap, fmes = round(np.mean(results[:,0]),4), round(np.mean(results[:,1]),4), round(np.mean(results[:,2]),4)\n",
    "print(\"Prec: {}, Rec: {} Fmes: {}\".format(prec, rap, fmes))"
   ]
  }
 ],
 "metadata": {
  "kernelspec": {
   "display_name": "Python 3",
   "language": "python",
   "name": "python3"
  },
  "language_info": {
   "codemirror_mode": {
    "name": "ipython",
    "version": 3
   },
   "file_extension": ".py",
   "mimetype": "text/x-python",
   "name": "python",
   "nbconvert_exporter": "python",
   "pygments_lexer": "ipython3",
   "version": "3.7.5"
  },
  "toc": {
   "base_numbering": 1,
   "nav_menu": {},
   "number_sections": true,
   "sideBar": true,
   "skip_h1_title": false,
   "title_cell": "Table of Contents",
   "title_sidebar": "Contents",
   "toc_cell": false,
   "toc_position": {},
   "toc_section_display": true,
   "toc_window_display": false
  },
  "varInspector": {
   "cols": {
    "lenName": 16,
    "lenType": 16,
    "lenVar": 40
   },
   "kernels_config": {
    "python": {
     "delete_cmd_postfix": "",
     "delete_cmd_prefix": "del ",
     "library": "var_list.py",
     "varRefreshCmd": "print(var_dic_list())"
    },
    "r": {
     "delete_cmd_postfix": ") ",
     "delete_cmd_prefix": "rm(",
     "library": "var_list.r",
     "varRefreshCmd": "cat(var_dic_list()) "
    }
   },
   "types_to_exclude": [
    "module",
    "function",
    "builtin_function_or_method",
    "instance",
    "_Feature"
   ],
   "window_display": false
  }
 },
 "nbformat": 4,
 "nbformat_minor": 2
}
