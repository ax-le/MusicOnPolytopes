{
 "cells": [
  {
   "cell_type": "code",
   "execution_count": 1,
   "metadata": {
    "ExecuteTime": {
     "end_time": "2021-01-21T17:25:28.291265Z",
     "start_time": "2021-01-21T17:25:26.703476Z"
    }
   },
   "outputs": [],
   "source": [
    "import os\n",
    "import time\n",
    "\n",
    "# Self-code imports\n",
    "import polytopes.segmentation_algorithms as algos\n",
    "from polytopes.model.note import Note\n",
    "from polytopes.model.chord import Chord\n",
    "import polytopes.polytopical_costs as pc\n",
    "import polytopes.data_manipulation as dm\n",
    "import polytopes.pattern_manip as pm\n",
    "import polytopes.pattern_factory as pf\n",
    "import polytopes.segmentation_helper as sh\n",
    "\n",
    "#Generic imports\n",
    "import numpy as np\n",
    "import matplotlib.pyplot as plt\n",
    "import pandas as pd\n",
    "import math\n",
    "import copy"
   ]
  },
  {
   "cell_type": "code",
   "execution_count": 2,
   "metadata": {
    "ExecuteTime": {
     "end_time": "2021-01-21T17:25:28.303197Z",
     "start_time": "2021-01-21T17:25:28.296232Z"
    }
   },
   "outputs": [],
   "source": [
    "# Hyperparams\n",
    "max_size = 47\n",
    "min_size = 8\n",
    "positive_segment_size_penalty = 0\n",
    "negative_segment_size_penalty = 0#.125\n",
    "target_size = 32\n",
    "positive_penalty = 0#2.25\n",
    "negative_penalty = 0#3"
   ]
  },
  {
   "cell_type": "markdown",
   "metadata": {},
   "source": [
    "# On a song"
   ]
  },
  {
   "cell_type": "code",
   "execution_count": 3,
   "metadata": {
    "ExecuteTime": {
     "end_time": "2021-01-21T17:25:28.320154Z",
     "start_time": "2021-01-21T17:25:28.306191Z"
    }
   },
   "outputs": [],
   "source": [
    "flow_file_path = \"C:\\\\Users\\\\amarmore\\\\Desktop\\\\Annotations MIREX Quaero\\\\annotations_as_flow\\\\\"\n",
    "song = \"001\"\n",
    "bag_of_chords = []\n",
    "file = open(flow_file_path + song + \".flow\", \"r\") \n",
    "for chord in file.readlines():\n",
    "    bag_of_chords.append(chord.split(\"\\n\")[0])"
   ]
  },
  {
   "cell_type": "code",
   "execution_count": 4,
   "metadata": {
    "ExecuteTime": {
     "end_time": "2021-01-21T17:58:19.456535Z",
     "start_time": "2021-01-21T17:25:28.323147Z"
    },
    "scrolled": true
   },
   "outputs": [
    {
     "name": "stderr",
     "output_type": "stream",
     "text": [
      "c:\\users\\amarmore\\desktop\\projects\\phd main projects\\on git\\code\\polytopes and relation\\polytopes\\segmentation_algorithms.py:119: UserWarning: No Polytope is available for this size of segment. Trying sequential cost instead.\n",
      "  warnings.warn(\"No Polytope is available for this size of segment. Trying sequential cost instead.\")\n"
     ]
    },
    {
     "name": "stdout",
     "output_type": "stream",
     "text": [
      "My frontiers: [0, 24, 56, 84, 112, 148, 176, 184, 192, 220, 256, 284, 292, 317, 328, 356, 368, 396, 428, 462]\n",
      "Cost: 237\n",
      "Guichaoua's frontiers: [0, 20, 52, 84, 112, 144, 176, 192, 220, 252, 284, 292, 332, 364, 396, 428, 462]\n",
      "Equality ? False\n",
      "\n"
     ]
    }
   ],
   "source": [
    "frontiers, costs = algos.dynamic_minimization_louboutaoua(bag_of_chords, segment_size_penalty = 0, irregularity_penalty = 0)\n",
    "\n",
    "print(\"My frontiers: {}\".format(frontiers))\n",
    "print(\"Cost: {}\".format(costs))\n",
    "\n",
    "guichaoua_estimates = open(flow_file_path + \"Guichaoua Estimates\\\\Experiments\\\\\" + song + \".frontiers_estimated\", \"r\")\n",
    "tab = guichaoua_estimates.read().split(\" \")\n",
    "guichaoua_frontiers = [int(i) - 1 for i in tab if i != \"\\n\"]\n",
    "guichaoua_frontiers.append(frontiers[-1])\n",
    "print(\"Guichaoua's frontiers: {}\".format(guichaoua_frontiers))\n",
    "print(\"Equality ? {}\\n\".format(guichaoua_frontiers == frontiers))"
   ]
  },
  {
   "cell_type": "code",
   "execution_count": 5,
   "metadata": {
    "ExecuteTime": {
     "end_time": "2021-01-21T17:58:19.462481Z",
     "start_time": "2021-01-21T17:58:19.457493Z"
    }
   },
   "outputs": [],
   "source": [
    "frontiers = [0, 24, 56, 84, 112, 148, 180, 220, 256, 292, 328, 368, 396, 428, 462] # this_poltyope_cost, 23min\n",
    "#333, [0, 24, 56, 84, 112, 148, 180, 220, 256, 292, 328, 368, 396, 428, 462] #this_segment_cost, 23min34\n",
    "#333, [0, 24, 56, 84, 112, 148, 180, 220, 256, 292, 328, 368, 396, 428, 462] #Nothing, 24 min24"
   ]
  },
  {
   "cell_type": "code",
   "execution_count": 6,
   "metadata": {
    "ExecuteTime": {
     "end_time": "2021-01-21T17:58:43.325834Z",
     "start_time": "2021-01-21T17:58:19.463478Z"
    },
    "scrolled": true
   },
   "outputs": [
    {
     "name": "stdout",
     "output_type": "stream",
     "text": [
      "Cost: 12 at size 24\n",
      "Sequence: [[[[['Abm', 'Abm'], ['Abm', 'Abm']], [['F#', 'F#'], ['F#', 'F#']]], [[['E', 'E'], ['E', 'E']], [['F#', 'F#'], ['F#', 'F#']]]], [[[['F#', 'F#'], ['F#', 'F#']], [['Eb', 'Eb'], ['Eb', 'Eb']]]]]\n",
      "0\n",
      "Cost: 21 at size 32\n",
      "Sequence: [[[[['Abm', 'Abm'], ['B', 'B']], [['Abm', 'Abm'], ['B', 'B']]], [[['E', 'E'], ['Eb', 'Eb']], [['E', 'E'], ['Eb', 'Eb']]]], [[[['Abm', 'Abm'], ['F#', 'Eb']], [['Abm', 'Abm'], ['F#', 'Eb']]], [[['E', 'E'], ['Abm', 'Abm']], [['E', 'E'], ['Abm', 'Abm']]]]]\n",
      "5\n",
      "Cost: 12 at size 28\n",
      "Sequence: [[[[['F#', 'F#'], ['F#', 'F#']], [['C#', 'C#'], ['C#', 'C#']]], [[['E', 'E'], ['F#', 'F#']], [['Abm', 'Abm'], ['Abm', 'Abm']]]], [[[['F#', 'F#'], ['F#', 'F#']], [['C#', 'C#'], ['C#', 'C#']]], [[['E', 'E'], ['F#', 'F#']]]]]\n",
      "4\n",
      "Cost: 13 at size 28\n",
      "Sequence: [[[[['Cm', 'Cm'], ['Cm', 'Cm']], [['Cm', 'Cm'], ['Cm', 'F']]], [[['Cm', 'Cm'], ['Cm', 'Cm']], [['Cm', 'Cm'], ['Cm', 'Bb']]]], [[[['Cm', 'Cm'], ['Cm', 'Cm']], [['Cm', 'Cm'], ['Cm', 'F']]], [[['Ab', 'Ab'], ['Bb', 'Bb']]]]]\n",
      "5\n",
      "Cost: 12 at size 36\n",
      "Sequence: [[[[['Cm', 'Cm'], ['Ab', 'Ab']], [['Cm', 'Cm'], ['Ab', 'Ab']]], [[['Eb', 'Eb'], ['G', 'G']], [['Eb', 'Eb'], ['G', 'G']]]], [[[['Cm', 'Cm'], ['Ab', 'Ab']], [['Cm', 'Cm'], ['Ab', 'Ab']]], [[['Eb', 'Eb'], [('G', 'G'), ('G', 'G')]], [['Eb', 'Eb'], [('Eb', 'Eb'), ('Eb', 'Eb')]]]]]\n",
      "9\n",
      "Cost: 21 at size 32\n",
      "Sequence: [[[[['Abm', 'Abm'], ['B', 'B']], [['Abm', 'Abm'], ['B', 'B']]], [[['E', 'E'], ['Eb', 'Eb']], [['E', 'E'], ['Eb', 'Eb']]]], [[[['Abm', 'Abm'], ['F#', 'Eb']], [['Abm', 'Abm'], ['F#', 'Eb']]], [[['E', 'E'], ['Abm', 'Abm']], [['E', 'E'], ['Abm', 'Abm']]]]]\n",
      "5\n",
      "Cost: 38 at size 40\n",
      "Sequence: [[[[['F#', 'F#'], ['E', 'F#']], [['F#', 'F#'], ['E', 'F#']]], [[['C#', 'C#'], [('Cm', 'Cm'), ('Cm', 'Cm')]], [['C#', 'C#'], [('Cm', 'Cm'), ('Cm', 'F')]]]], [[[['Cm', 'Cm'], ['Cm', 'Cm']], [['Cm', 'Cm'], ['Cm', 'Cm']]], [[['Cm', 'Cm'], [('Cm', 'Cm'), ('Ab', 'Ab')]], [['Cm', 'Bb'], [('Cm', 'F'), ('Bb', 'Bb')]]]]]\n",
      "8\n",
      "Cost: 12 at size 36\n",
      "Sequence: [[[[['Cm', 'Cm'], ['Ab', 'Ab']], [['Cm', 'Cm'], ['Ab', 'Ab']]], [[['Eb', 'Eb'], ['G', 'G']], [['Eb', 'Eb'], ['G', 'G']]]], [[[['Cm', 'Cm'], ['Ab', 'Ab']], [['Cm', 'Cm'], ['Ab', 'Ab']]], [[['Eb', 'Eb'], [('G', 'G'), ('G', 'G')]], [['Eb', 'Eb'], [('Eb', 'Eb'), ('Eb', 'Eb')]]]]]\n",
      "9\n",
      "Cost: 32 at size 36\n",
      "Sequence: [[[[['Abm', 'Abm'], ['B', 'B']], [['Abm', 'Abm'], ['B', 'B']]], [[['E', 'E'], ['Eb', 'Eb']], [['E', 'E'], ['Eb', 'Eb']]]], [[[['Abm', 'Abm'], ['F#', 'Eb']], [['Abm', 'Abm'], ['F#', 'Eb']]], [[['E', 'E'], [('Abm', 'Abm'), ('Abm', 'Abm')]], [['E', 'E'], [('Abm', 'Abm'), ('E', 'Eb')]]]]]\n",
      "2\n",
      "Cost: 21 at size 36\n",
      "Sequence: [[[[['Ebm', 'Ebm'], ['Ebm', 'Ebm']], [['Ebm', 'Ebm'], ['Ebm', 'Ab']]], [[['Ebm', 'Ebm'], ['Ebm', 'Ebm']], [['Ebm', 'Ebm'], ['Ebm', 'C#']]]], [[[['Ebm', 'Ebm'], ['Ebm', 'Ebm']], [['Ebm', 'Ebm'], ['Ebm', 'Ab']]], [[['C#', ('F#', 'F#')], ['E', ('A', 'A')]], [['C#', ('B', 'B')], ['E', ('D', 'D')]]]]]\n",
      "1\n",
      "Cost: 26 at size 40\n",
      "Sequence: [[[[['Eb', 'Eb'], ['Eb', 'Eb']], [['Eb', 'Eb'], ['Eb', 'Eb']]], [[['Ab', 'Ab'], [('Eb', 'Eb'), ('Eb', 'Eb')]], [['Ab', 'Ab'], [('G', 'G'), ('G', 'G')]]]], [[[['Cm', 'Cm'], ['Ab', 'Ab']], [['Cm', 'Cm'], ['Ab', 'Ab']]], [[['Eb', 'Eb'], [('G', 'G'), ('G', 'G')]], [['Eb', 'Eb'], [('Eb', 'Eb'), ('Eb', 'Eb')]]]]]\n",
      "3\n",
      "Cost: 14 at size 28\n",
      "Sequence: [[[[['Abm', 'Abm'], ['Abm', 'Abm']], [['Abm', 'Abm'], ['Abm', 'Abm']]], [[['E', 'E'], ['E', 'E']], [['E', 'E'], ['E', 'E']]]], [[[['B', 'B'], ['F#', 'F#']], [['B', 'B']]], [[['Eb', 'Eb'], ['Eb', 'Eb']], [['Eb', 'Eb']]]]]\n",
      "6\n",
      "Cost: 21 at size 32\n",
      "Sequence: [[[[['Abm', 'Abm'], ['B', 'B']], [['Abm', 'Abm'], ['B', 'B']]], [[['E', 'E'], ['Eb', 'Eb']], [['E', 'E'], ['Eb', 'Eb']]]], [[[['Abm', 'Abm'], ['F#', 'Eb']], [['Abm', 'Abm'], ['F#', 'Eb']]], [[['E', 'E'], ['Abm', 'Abm']], [['E', 'E'], ['Abm', 'Abm']]]]]\n",
      "5\n",
      "Cost: 12 at size 34\n",
      "Sequence: [[[[['F#', 'F#'], ['F#', 'F#']], [['C#', 'C#'], ['C#', 'C#']]], [[['E', 'E'], ['F#', 'F#']], [['Abm', 'Abm'], ['Abm', 'Abm']]]], [[[['F#', 'F#'], ['F#', 'F#']], [['C#', 'C#'], ['C#', 'C#']]], [[['E', 'E'], [('F#', 'F#'), ('F#', 'F#')]], [['Abm', 'Abm'], [('Abm', 'Abm')]]]]]\n",
      "0\n",
      "Ze sum:267\n"
     ]
    }
   ],
   "source": [
    "the_sum = 0\n",
    "for start, end in zip(frontiers[:-1], frontiers[1:]):\n",
    "    segment = bag_of_chords[start:end]\n",
    "    #print(segment)\n",
    "    size = len(segment)\n",
    "    bag_of_patterns = sh.compute_patterns_with_ppp_and_antecedents_for_size(size)\n",
    "    the_min = math.inf\n",
    "    best_pattern = None\n",
    "    for a_pattern in bag_of_patterns:\n",
    "        this_polytope_cost = math.inf\n",
    "        best_ppp_idx = None\n",
    "        for i in range(len(a_pattern[0])):\n",
    "            this_ppp_cost = pc.louboutaoua_cost(segment, a_pattern[0][i], a_pattern[3], a_pattern[4], a_pattern[5], a_pattern[6][i])\n",
    "            if this_ppp_cost < this_polytope_cost:\n",
    "                best_ppp_idx = i\n",
    "                this_polytope_cost = this_ppp_cost\n",
    "        cost = this_polytope_cost\n",
    "        cost += pc.irregularities_penalty_guichaoua(adding_code = a_pattern[1], deleting_code = a_pattern[2], positive_penalty = positive_penalty, negative_penalty = negative_penalty)\n",
    "        if cost < the_min:\n",
    "            best_ppp = a_pattern[0][best_ppp_idx]\n",
    "            the_min = cost\n",
    "    the_min += sh.penalty_cost_guichaoua(size, target_size = 32, positive_segment_size_penalty = positive_segment_size_penalty, negative_segment_size_penalty = negative_segment_size_penalty)\n",
    "    if the_min != math.inf:\n",
    "        print(\"Cost: {} at size {}\".format(the_min, end-start))\n",
    "        print(\"Sequence: {}\".format(pf.apply_chords_on_pattern(best_ppp,segment)))\n",
    "        print(best_ppp_idx)\n",
    "        the_sum += the_min\n",
    "    else:\n",
    "        print(\"Sequential cost at size {}, not computed\".format(end-start))\n",
    "print(\"Ze sum:{}\".format(the_sum))"
   ]
  },
  {
   "cell_type": "code",
   "execution_count": 7,
   "metadata": {
    "ExecuteTime": {
     "end_time": "2021-01-21T17:59:14.568432Z",
     "start_time": "2021-01-21T17:58:43.329792Z"
    }
   },
   "outputs": [
    {
     "name": "stdout",
     "output_type": "stream",
     "text": [
      "Cost: 6 at size 20\n",
      "Sequence: [[[['Abm', 'Abm'], ['Abm', 'Abm']], [['F#', 'F#'], ['F#', 'F#']]], [[['E', 'E'], ['E', 'E']], [[('F#', 'F#'), ('F#', 'F#')], [('F#', 'F#'), ('F#', 'F#')]]]]\n",
      "Cost: 39 at size 32\n",
      "Sequence: [[[[['Eb', 'Eb'], ['Eb', 'Eb']], [['Abm', 'Abm'], ['Abm', 'Abm']]], [[['E', 'E'], ['E', 'E']], [['B', 'B'], ['B', 'B']]]], [[[['Eb', 'Eb'], ['Eb', 'Eb']], [['Abm', 'Abm'], ['Abm', 'Abm']]], [[['E', 'E'], ['E', 'E']], [['F#', 'F#'], ['Eb', 'Eb']]]]]\n",
      "Cost: 20 at size 32\n",
      "Sequence: [[[[['Abm', 'Abm'], ['Abm', 'Abm']], [['F#', 'F#'], ['F#', 'F#']]], [[['C#', 'C#'], [('C#', 'C#'), ('E', 'E')]], [['F#', 'F#']]]], [[[['Abm', 'Abm'], ['Abm', 'Abm']], [['F#', 'F#'], ['F#', 'F#']]], [[['C#', 'C#'], [('C#', 'C#'), ('E', 'E')]], [['F#', 'F#']]]]]\n",
      "Cost: 13 at size 28\n",
      "Sequence: [[[[['Cm', 'Cm'], ['Cm', 'Cm']], [['Cm', 'Cm'], ['Cm', 'F']]], [[['Cm', 'Cm'], ['Cm', 'Cm']], [['Cm', 'Cm'], ['Cm', 'Bb']]]], [[[['Cm', 'Cm'], ['Cm', 'Cm']], [['Cm', 'Cm'], ['Cm', 'F']]], [[['Ab', 'Ab'], ['Bb', 'Bb']]]]]\n",
      "Cost: 12 at size 32\n",
      "Sequence: [[[[['Cm', 'Cm'], ['Cm', 'Cm']], [['Ab', 'Ab'], ['Ab', 'Ab']]], [[['Eb', 'Eb'], ['Eb', 'Eb']], [['G', 'G'], ['G', 'G']]]], [[[['Cm', 'Cm'], ['Cm', 'Cm']], [['Ab', 'Ab'], ['Ab', 'Ab']]], [[['Eb', 'Eb'], ['Eb', 'Eb']], [['G', 'G'], ['G', 'G']]]]]\n",
      "Cost: 39 at size 32\n",
      "Sequence: [[[[['Eb', 'Eb'], ['Eb', 'Eb']], [['Abm', 'Abm'], ['Abm', 'Abm']]], [[['E', 'E'], ['E', 'E']], [['B', 'B'], ['B', 'B']]]], [[[['Eb', 'Eb'], ['Eb', 'Eb']], [['Abm', 'Abm'], ['Abm', 'Abm']]], [[['E', 'E'], ['E', 'E']], [['F#', 'F#'], ['Eb', 'Eb']]]]]\n",
      "Cost: 20 at size 16\n",
      "Sequence: [[[['Abm', 'Abm'], ['Abm', 'Abm']], [['F#', 'F#'], ['F#', 'F#']]], [[['C#', 'C#'], [('C#', 'C#'), ('E', 'E')]], [['F#', 'F#']]]]\n",
      "Cost: 13 at size 28\n",
      "Sequence: [[[[['Cm', 'Cm'], ['Cm', 'Cm']], [['Cm', 'Cm'], ['Cm', 'F']]], [[['Cm', 'Cm'], ['Cm', 'Cm']], [['Cm', 'Cm'], ['Cm', 'Bb']]]], [[[['Cm', 'Cm'], ['Cm', 'Cm']], [['Cm', 'Cm'], ['Cm', 'F']]], [[['Ab', 'Ab'], ['Bb', 'Bb']]]]]\n",
      "Cost: 12 at size 32\n",
      "Sequence: [[[[['Cm', 'Cm'], ['Cm', 'Cm']], [['Ab', 'Ab'], ['Ab', 'Ab']]], [[['Eb', 'Eb'], ['Eb', 'Eb']], [['G', 'G'], ['G', 'G']]]], [[[['Cm', 'Cm'], ['Cm', 'Cm']], [['Ab', 'Ab'], ['Ab', 'Ab']]], [[['Eb', 'Eb'], ['Eb', 'Eb']], [['G', 'G'], ['G', 'G']]]]]\n",
      "Cost: 39 at size 32\n",
      "Sequence: [[[[['Eb', 'Eb'], ['Eb', 'Eb']], [['Abm', 'Abm'], ['Abm', 'Abm']]], [[['E', 'E'], ['E', 'E']], [['B', 'B'], ['B', 'B']]]], [[[['Eb', 'Eb'], ['Eb', 'Eb']], [['Abm', 'Abm'], ['Abm', 'Abm']]], [[['E', 'E'], ['E', 'E']], [['F#', 'F#'], ['Eb', 'Eb']]]]]\n",
      "Cost: 11 at size 8\n",
      "Sequence: [[['Abm', 'Abm'], ['Abm', 'Abm']], [['Abm', ('Abm', 'E')], ['Eb']]]\n",
      "Cost: 33 at size 40\n",
      "Sequence: [[[[['Ebm', 'Ebm'], ['Ebm', 'Ebm']], [['Ebm', 'Ebm'], ['Ebm', 'Ebm']]], [[['Ebm', 'Ebm'], ['Ebm', 'Ebm']], [['Ebm', 'Ab'], ['Ebm', 'C#']]]], [[[['Ebm', 'Ebm'], ['B', 'B']], [['Ebm', 'Ebm'], ['E', 'E']]], [[[('Ebm', 'Ebm'), ('Ebm', 'Ab')], [('A', 'A'), ('D', 'D')]], [[('C#', 'C#'), ('F#', 'F#')], [('Eb', 'Eb'), ('Eb', 'Eb')]]]]]\n",
      "Cost: 16 at size 32\n",
      "Sequence: [[[[['Eb', 'Eb'], ['Cm', 'Cm']], [['Eb', 'Eb'], ['Cm', 'Cm']]], [[['Ab', 'Ab'], ['Ab', 'Ab']], [['Ab', 'Ab'], ['Ab', 'Ab']]]], [[[['Eb', 'Eb'], ['Eb', 'Eb']], [['Eb', 'Eb'], ['Eb', 'Eb']]], [[['G', 'G'], ['G', 'G']], [['G', 'G'], ['G', 'G']]]]]\n",
      "Cost: 39 at size 32\n",
      "Sequence: [[[[['Eb', 'Eb'], ['Eb', 'Eb']], [['Abm', 'Abm'], ['Abm', 'Abm']]], [[['E', 'E'], ['E', 'E']], [['B', 'B'], ['B', 'B']]]], [[[['Eb', 'Eb'], ['Eb', 'Eb']], [['Abm', 'Abm'], ['Abm', 'Abm']]], [[['E', 'E'], ['E', 'E']], [['F#', 'F#'], ['Eb', 'Eb']]]]]\n",
      "Cost: 21 at size 32\n",
      "Sequence: [[[[['Abm', 'Abm'], ['B', 'B']], [['Abm', 'Abm'], ['B', 'B']]], [[['E', 'E'], ['Eb', 'Eb']], [['E', 'E'], ['Eb', 'Eb']]]], [[[['Abm', 'Abm'], ['F#', 'Eb']], [['Abm', 'Abm'], ['F#', 'Eb']]], [[['E', 'E'], ['Abm', 'Abm']], [['E', 'E'], ['Abm', 'Abm']]]]]\n",
      "Cost: 12 at size 34\n",
      "Sequence: [[[[['F#', 'F#'], ['F#', 'F#']], [['C#', 'C#'], ['C#', 'C#']]], [[['E', 'E'], ['F#', 'F#']], [['Abm', 'Abm'], ['Abm', 'Abm']]]], [[[['F#', 'F#'], ['F#', 'F#']], [['C#', 'C#'], ['C#', 'C#']]], [[['E', 'E'], [('F#', 'F#'), ('F#', 'F#')]], [['Abm', 'Abm'], [('Abm', 'Abm')]]]]]\n",
      "Ze sum:345\n"
     ]
    }
   ],
   "source": [
    "the_sum = 0\n",
    "for start, end in zip(guichaoua_frontiers[:-1], guichaoua_frontiers[1:]):\n",
    "    segment = bag_of_chords[start:end]\n",
    "    size = len(segment)\n",
    "    bag_of_patterns = sh.compute_patterns_with_ppp_and_antecedents_for_size(size)\n",
    "    the_min = math.inf\n",
    "    best_pattern = None\n",
    "    for a_pattern in bag_of_patterns:\n",
    "        this_polytope_cost = math.inf\n",
    "        for i in range(len(a_pattern[0])):\n",
    "            this_ppp_cost = pc.louboutaoua_cost(segment, a_pattern[0][i], a_pattern[3], a_pattern[4], a_pattern[5], a_pattern[6][i])\n",
    "            if this_ppp_cost < this_polytope_cost:\n",
    "                best_ppp_idx = i\n",
    "                this_polytope_cost = this_ppp_cost\n",
    "        cost = this_polytope_cost\n",
    "        cost += pc.irregularities_penalty_guichaoua(adding_code = a_pattern[1], deleting_code = a_pattern[2], positive_penalty = positive_penalty, negative_penalty = negative_penalty)\n",
    "        if cost < the_min:\n",
    "            best_ppp = a_pattern[0][best_ppp_idx]\n",
    "            the_min = cost\n",
    "    the_min += sh.penalty_cost_guichaoua(size, target_size = 32, positive_segment_size_penalty = positive_segment_size_penalty, negative_segment_size_penalty = negative_segment_size_penalty)\n",
    "    print(\"Cost: {} at size {}\".format(the_min, end-start))\n",
    "    print(\"Sequence: {}\".format(pf.apply_chords_on_pattern(best_ppp,segment)))\n",
    "    the_sum += the_min\n",
    "print(\"Ze sum:{}\".format(the_sum))"
   ]
  }
 ],
 "metadata": {
  "kernelspec": {
   "display_name": "Python 3",
   "language": "python",
   "name": "python3"
  },
  "language_info": {
   "codemirror_mode": {
    "name": "ipython",
    "version": 3
   },
   "file_extension": ".py",
   "mimetype": "text/x-python",
   "name": "python",
   "nbconvert_exporter": "python",
   "pygments_lexer": "ipython3",
   "version": "3.7.5"
  },
  "toc": {
   "base_numbering": 1,
   "nav_menu": {},
   "number_sections": true,
   "sideBar": true,
   "skip_h1_title": false,
   "title_cell": "Table of Contents",
   "title_sidebar": "Contents",
   "toc_cell": false,
   "toc_position": {},
   "toc_section_display": true,
   "toc_window_display": false
  },
  "varInspector": {
   "cols": {
    "lenName": 16,
    "lenType": 16,
    "lenVar": 40
   },
   "kernels_config": {
    "python": {
     "delete_cmd_postfix": "",
     "delete_cmd_prefix": "del ",
     "library": "var_list.py",
     "varRefreshCmd": "print(var_dic_list())"
    },
    "r": {
     "delete_cmd_postfix": ") ",
     "delete_cmd_prefix": "rm(",
     "library": "var_list.r",
     "varRefreshCmd": "cat(var_dic_list()) "
    }
   },
   "types_to_exclude": [
    "module",
    "function",
    "builtin_function_or_method",
    "instance",
    "_Feature"
   ],
   "window_display": false
  }
 },
 "nbformat": 4,
 "nbformat_minor": 2
}
