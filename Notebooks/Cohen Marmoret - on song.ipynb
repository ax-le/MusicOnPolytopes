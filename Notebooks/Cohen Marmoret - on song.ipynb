{
 "cells": [
  {
   "cell_type": "code",
   "execution_count": 1,
   "metadata": {
    "ExecuteTime": {
     "end_time": "2021-01-21T17:39:46.629984Z",
     "start_time": "2021-01-21T17:39:45.120964Z"
    }
   },
   "outputs": [],
   "source": [
    "import os\n",
    "import time\n",
    "\n",
    "# Self-code imports\n",
    "import polytopes.segmentation_algorithms as algos\n",
    "from polytopes.model.note import Note\n",
    "from polytopes.model.chord import Chord\n",
    "import polytopes.polytopical_costs as pc\n",
    "import polytopes.data_manipulation as dm\n",
    "import polytopes.pattern_manip as pm\n",
    "import polytopes.pattern_factory as pf\n",
    "import polytopes.segmentation_helper as sh\n",
    "\n",
    "#Generic imports\n",
    "import numpy as np\n",
    "import matplotlib.pyplot as plt\n",
    "import pandas as pd\n",
    "import math\n",
    "import copy"
   ]
  },
  {
   "cell_type": "code",
   "execution_count": 2,
   "metadata": {
    "ExecuteTime": {
     "end_time": "2021-01-21T17:39:46.637927Z",
     "start_time": "2021-01-21T17:39:46.631940Z"
    }
   },
   "outputs": [],
   "source": [
    "# Hyperparams\n",
    "max_size = 47\n",
    "min_size = 8\n",
    "positive_segment_size_penalty = 0\n",
    "negative_segment_size_penalty = 0#.125\n",
    "target_size = 32\n",
    "positive_penalty = 0#2.25\n",
    "negative_penalty = 0#3"
   ]
  },
  {
   "cell_type": "markdown",
   "metadata": {},
   "source": [
    "# On a song"
   ]
  },
  {
   "cell_type": "code",
   "execution_count": 3,
   "metadata": {
    "ExecuteTime": {
     "end_time": "2021-01-21T17:39:46.647900Z",
     "start_time": "2021-01-21T17:39:46.640917Z"
    }
   },
   "outputs": [],
   "source": [
    "flow_file_path = \"C:\\\\Users\\\\amarmore\\\\Desktop\\\\Annotations MIREX Quaero\\\\annotations_as_flow\\\\\"\n",
    "song = \"001\"\n",
    "bag_of_chords = []\n",
    "file = open(flow_file_path + song + \".flow\", \"r\") \n",
    "for chord in file.readlines():\n",
    "    bag_of_chords.append(chord.split(\"\\n\")[0])"
   ]
  },
  {
   "cell_type": "code",
   "execution_count": 4,
   "metadata": {
    "ExecuteTime": {
     "end_time": "2021-01-21T17:44:58.341425Z",
     "start_time": "2021-01-21T17:39:46.649893Z"
    },
    "scrolled": true
   },
   "outputs": [
    {
     "name": "stderr",
     "output_type": "stream",
     "text": [
      "c:\\users\\amarmore\\desktop\\projects\\phd main projects\\on git\\code\\polytopes and relation\\polytopes\\segmentation_algorithms.py:239: UserWarning: No Polytope is available for this size of segment. Trying sequential cost instead.\n",
      "  warnings.warn(\"No Polytope is available for this size of segment. Trying sequential cost instead.\")\n"
     ]
    },
    {
     "name": "stdout",
     "output_type": "stream",
     "text": [
      "My frontiers: [0, 24, 52, 84, 116, 148, 180, 192, 224, 256, 284, 315, 336, 368, 396, 428, 462]\n",
      "Costs: 425\n",
      "Guichaoua's frontiers: [0, 20, 52, 84, 112, 144, 176, 192, 220, 252, 284, 292, 332, 364, 396, 428, 462]\n",
      "Equality ? False\n",
      "\n"
     ]
    }
   ],
   "source": [
    "frontiers, costs = algos.dynamic_minimization_cohen_marmoret(bag_of_chords)\n",
    "\n",
    "print(\"My frontiers: {}\".format(frontiers))\n",
    "print(\"Costs: {}\".format(costs))\n",
    "\n",
    "guichaoua_estimates = open(flow_file_path + \"Guichaoua Estimates\\\\Experiments\\\\\" + song + \".frontiers_estimated\", \"r\")\n",
    "tab = guichaoua_estimates.read().split(\" \")\n",
    "guichaoua_frontiers = [int(i) - 1 for i in tab if i != \"\\n\"]\n",
    "guichaoua_frontiers.append(frontiers[-1])\n",
    "print(\"Guichaoua's frontiers: {}\".format(guichaoua_frontiers))\n",
    "print(\"Equality ? {}\\n\".format(guichaoua_frontiers == frontiers))"
   ]
  },
  {
   "cell_type": "code",
   "execution_count": 6,
   "metadata": {
    "ExecuteTime": {
     "end_time": "2021-01-21T17:47:02.961257Z",
     "start_time": "2021-01-21T17:46:56.267145Z"
    },
    "scrolled": true
   },
   "outputs": [
    {
     "name": "stdout",
     "output_type": "stream",
     "text": [
      "['Abm', 'Abm', 'Abm', 'Abm', 'F#', 'F#', 'F#', 'F#', 'E', 'E', 'E', 'E', 'F#', 'F#', 'F#', 'F#', 'F#', 'F#', 'F#', 'F#', 'Eb', 'Eb', 'Eb', 'Eb']\n",
      "Sequence: [[[[['Abm', 'Abm'], ['Abm', 'Abm']], [['F#', 'F#'], ['F#', 'F#']]], [[['E', 'E'], ['E', 'E']], [['F#', 'F#'], ['F#', 'F#']]]], [[[['F#', 'F#'], ['F#', 'F#']], [['Eb', 'Eb'], ['Eb', 'Eb']]]]]\n",
      "Cost: 16 at size 24\n",
      "['Abm', 'Abm', 'Abm', 'Abm', 'E', 'E', 'E', 'E', 'B', 'B', 'B', 'B', 'Eb', 'Eb', 'Eb', 'Eb', 'Abm', 'Abm', 'Abm', 'Abm', 'E', 'E', 'E', 'E', 'F#', 'F#', 'Eb', 'Eb']\n",
      "Sequence: [[[[['Abm', 'Abm'], ['Abm', 'Abm']], [['E', 'E'], ['E', 'E']]], [[['B', 'B'], ['B', 'B']], [['Eb', 'Eb'], ['Eb', 'Eb']]]], [[[['Abm', 'Abm'], ['Abm', 'Abm']], [['E', 'E'], ['E', 'E']]], [[['F#', 'F#']], [['Eb', 'Eb']]]]]\n",
      "Cost: 23 at size 28\n",
      "['Abm', 'Abm', 'Abm', 'Abm', 'F#', 'F#', 'F#', 'F#', 'C#', 'C#', 'C#', 'C#', 'E', 'E', 'F#', 'F#', 'Abm', 'Abm', 'Abm', 'Abm', 'F#', 'F#', 'F#', 'F#', 'C#', 'C#', 'C#', 'C#', 'E', 'E', 'F#', 'F#']\n",
      "Sequence: [[[[['Abm', 'Abm'], ['Abm', 'Abm']], [['F#', 'F#'], ['F#', 'F#']]], [[['C#', 'C#'], [('C#', 'C#'), ('E', 'E')]], [['F#', 'F#']]]], [[[['Abm', 'Abm'], ['Abm', 'Abm']], [['F#', 'F#'], ['F#', 'F#']]], [[['C#', 'C#'], [('C#', 'C#'), ('E', 'E')]], [['F#', 'F#']]]]]\n",
      "Cost: 20 at size 32\n",
      "['Cm', 'Cm', 'Cm', 'Cm', 'Cm', 'Cm', 'Cm', 'F', 'Cm', 'Cm', 'Cm', 'Cm', 'Cm', 'Cm', 'Cm', 'Bb', 'Cm', 'Cm', 'Cm', 'Cm', 'Cm', 'Cm', 'Cm', 'F', 'Ab', 'Ab', 'Bb', 'Bb', 'Cm', 'Cm', 'Cm', 'Cm']\n",
      "Sequence: [[[[['Cm', 'Cm'], ['Cm', 'Cm']], [['Cm', 'Cm'], ['Cm', 'F']]], [[['Cm', 'Cm'], ['Cm', 'Cm']], [['Cm', 'Cm'], ['Cm', 'Bb']]]], [[[['Cm', 'Cm'], ['Cm', 'Cm']], [['Cm', 'Cm'], ['Cm', 'F']]], [[['Ab', 'Ab'], ['Bb', 'Bb']], [[('Cm', 'Cm'), ('Cm', 'Cm')]]]]]\n",
      "Cost: 14 at size 32\n",
      "['Ab', 'Ab', 'Ab', 'Ab', 'Eb', 'Eb', 'Eb', 'Eb', 'G', 'G', 'G', 'G', 'Cm', 'Cm', 'Cm', 'Cm', 'Ab', 'Ab', 'Ab', 'Ab', 'Eb', 'Eb', 'Eb', 'Eb', 'G', 'G', 'G', 'G', 'Eb', 'Eb', 'Eb', 'Eb']\n",
      "Sequence: [[[[['Ab', 'Ab'], ['Ab', 'Ab']], [['Eb', 'Eb'], ['Eb', 'Eb']]], [[['G', 'G'], ['G', 'G']], [['Cm', 'Cm'], [('Cm', 'Cm')]]]], [[[['Ab', 'Ab'], ['Ab', 'Ab']], [['Eb', 'Eb'], ['Eb', 'Eb']]], [[['G', 'G'], ['G', 'G']], [['Eb', 'Eb'], [('Eb', 'Eb')]]]]]\n",
      "Cost: 25 at size 32\n",
      "['Abm', 'Abm', 'Abm', 'Abm', 'E', 'E', 'E', 'E', 'B', 'B', 'B', 'B', 'Eb', 'Eb', 'Eb', 'Eb', 'Abm', 'Abm', 'Abm', 'Abm', 'E', 'E', 'E', 'E', 'F#', 'F#', 'Eb', 'Eb', 'Abm', 'Abm', 'Abm', 'Abm']\n",
      "Sequence: [[[[['Abm', 'Abm'], ['Abm', 'Abm']], [['E', 'E'], ['E', 'E']]], [[['B', 'B'], ['B', 'B']], [['Eb', 'Eb'], [('Eb', 'Eb')]]]], [[[['Abm', 'Abm'], ['Abm', 'Abm']], [['E', 'E'], ['E', 'E']]], [[['F#', 'F#'], ['Eb', 'Eb']], [['Abm', 'Abm'], [('Abm', 'Abm')]]]]]\n",
      "Cost: 29 at size 32\n",
      "['F#', 'F#', 'F#', 'F#', 'C#', 'C#', 'C#', 'C#', 'E', 'E', 'F#', 'F#']\n",
      "Sequence: [[[['F#', 'F#'], ['F#', 'F#']], [['C#', 'C#'], ['C#', 'C#']]], [[['E', 'E']], [['F#', 'F#']]]]\n",
      "Cost: 9 at size 12\n",
      "['Cm', 'Cm', 'Cm', 'Cm', 'Cm', 'Cm', 'Cm', 'F', 'Cm', 'Cm', 'Cm', 'Cm', 'Cm', 'Cm', 'Cm', 'Bb', 'Cm', 'Cm', 'Cm', 'Cm', 'Cm', 'Cm', 'Cm', 'F', 'Ab', 'Ab', 'Bb', 'Bb', 'Cm', 'Cm', 'Cm', 'Cm']\n",
      "Sequence: [[[[['Cm', 'Cm'], ['Cm', 'Cm']], [['Cm', 'Cm'], ['Cm', 'F']]], [[['Cm', 'Cm'], ['Cm', 'Cm']], [['Cm', 'Cm'], ['Cm', 'Bb']]]], [[[['Cm', 'Cm'], ['Cm', 'Cm']], [['Cm', 'Cm'], ['Cm', 'F']]], [[['Ab', 'Ab'], ['Bb', 'Bb']], [[('Cm', 'Cm'), ('Cm', 'Cm')]]]]]\n",
      "Cost: 14 at size 32\n",
      "['Ab', 'Ab', 'Ab', 'Ab', 'Eb', 'Eb', 'Eb', 'Eb', 'G', 'G', 'G', 'G', 'Cm', 'Cm', 'Cm', 'Cm', 'Ab', 'Ab', 'Ab', 'Ab', 'Eb', 'Eb', 'Eb', 'Eb', 'G', 'G', 'G', 'G', 'Eb', 'Eb', 'Eb', 'Eb']\n",
      "Sequence: [[[[['Ab', 'Ab'], ['Ab', 'Ab']], [['Eb', 'Eb'], ['Eb', 'Eb']]], [[['G', 'G'], ['G', 'G']], [['Cm', 'Cm'], [('Cm', 'Cm')]]]], [[[['Ab', 'Ab'], ['Ab', 'Ab']], [['Eb', 'Eb'], ['Eb', 'Eb']]], [[['G', 'G'], ['G', 'G']], [['Eb', 'Eb'], [('Eb', 'Eb')]]]]]\n",
      "Cost: 25 at size 32\n",
      "['Abm', 'Abm', 'Abm', 'Abm', 'E', 'E', 'E', 'E', 'B', 'B', 'B', 'B', 'Eb', 'Eb', 'Eb', 'Eb', 'Abm', 'Abm', 'Abm', 'Abm', 'E', 'E', 'E', 'E', 'F#', 'F#', 'Eb', 'Eb']\n",
      "Sequence: [[[[['Abm', 'Abm'], ['Abm', 'Abm']], [['E', 'E'], ['E', 'E']]], [[['B', 'B'], ['B', 'B']], [['Eb', 'Eb'], ['Eb', 'Eb']]]], [[[['Abm', 'Abm'], ['Abm', 'Abm']], [['E', 'E'], ['E', 'E']]], [[['F#', 'F#']], [['Eb', 'Eb']]]]]\n",
      "Cost: 23 at size 28\n",
      "['Abm', 'Abm', 'Abm', 'Abm', 'Abm', 'Abm', 'E', 'Eb', 'Ebm', 'Ebm', 'Ebm', 'Ebm', 'Ebm', 'Ebm', 'Ebm', 'Ab', 'Ebm', 'Ebm', 'Ebm', 'Ebm', 'Ebm', 'Ebm', 'Ebm', 'C#', 'Ebm', 'Ebm', 'Ebm', 'Ebm', 'Ebm', 'Ebm', 'Ebm']\n",
      "Sequence: [[[[['Abm', 'Abm'], ['Abm', 'Abm']], [['Abm', 'Abm'], ['E', 'Eb']]], [[['Ebm', 'Ebm'], ['Ebm', 'Ebm']], [['Ebm', 'Ebm'], ['Ebm', 'Ab']]]], [[[['Ebm', 'Ebm'], ['Ebm', 'Ebm']], [['Ebm', 'Ebm'], ['Ebm']]], [[['C#', 'Ebm'], ['Ebm', 'Ebm']], [['Ebm', 'Ebm'], [('Ebm', 'Ebm')]]]]]\n",
      "Cost: 32 at size 31\n",
      "['Ab', 'C#', 'C#', 'F#', 'F#', 'B', 'B', 'E', 'E', 'A', 'A', 'D', 'D', 'Eb', 'Eb', 'Eb', 'Eb', 'Eb', 'Eb', 'Eb', 'Eb']\n",
      "Sequential cost\n",
      "Ze sum:230\n"
     ]
    }
   ],
   "source": [
    "the_sum = 0\n",
    "for start, end in zip(frontiers[:-1], frontiers[1:]):\n",
    "    segment = bag_of_chords[start:end]\n",
    "    #print(segment)\n",
    "    size = len(segment)\n",
    "    print(segment)\n",
    "    bag_of_patterns = sh.compute_patterns_with_antecedents_for_size(size)\n",
    "    the_min = math.inf\n",
    "    best_pattern = None\n",
    "    for a_pattern in bag_of_patterns:\n",
    "        this_polytope_cost = math.inf\n",
    "        for i in range(len(a_pattern[0])):\n",
    "            this_ppp_cost = pc.cohen_marmoret_cost(segment, a_pattern[0], a_pattern[3])\n",
    "            if this_ppp_cost < this_polytope_cost:\n",
    "                this_polytope_cost = this_ppp_cost\n",
    "        cost = this_polytope_cost\n",
    "        cost += pc.irregularities_penalty_guichaoua(adding_code = a_pattern[1], deleting_code = a_pattern[2], positive_penalty = positive_penalty, negative_penalty = negative_penalty)\n",
    "        if cost < the_min:\n",
    "            best_pattern = a_pattern\n",
    "            the_min = cost\n",
    "    the_min += sh.penalty_cost_guichaoua(size, target_size = 32, positive_segment_size_penalty = positive_segment_size_penalty, negative_segment_size_penalty = negative_segment_size_penalty)\n",
    "    if bag_of_patterns == []:\n",
    "        print(\"Sequential cost\")\n",
    "        break\n",
    "    print(\"Sequence: {}\".format(pf.apply_chords_on_pattern(best_pattern[0],segment)))\n",
    "    print(\"Cost: {} at size {}\".format(the_min, end-start))\n",
    "    the_sum += the_min\n",
    "print(\"Ze sum:{}\".format(the_sum))"
   ]
  },
  {
   "cell_type": "code",
   "execution_count": 8,
   "metadata": {
    "ExecuteTime": {
     "end_time": "2021-01-21T17:48:21.919557Z",
     "start_time": "2021-01-21T17:48:12.829436Z"
    }
   },
   "outputs": [
    {
     "name": "stdout",
     "output_type": "stream",
     "text": [
      "['Abm', 'Abm', 'Abm', 'Abm', 'F#', 'F#', 'F#', 'F#', 'E', 'E', 'E', 'E', 'F#', 'F#', 'F#', 'F#', 'F#', 'F#', 'F#', 'F#']\n",
      "Sequence: [[[['Abm', 'Abm'], ['Abm', 'Abm']], [['F#', 'F#'], ['F#', 'F#']]], [[['E', 'E'], ['E', 'E']], [[('F#', 'F#'), ('F#', 'F#')], [('F#', 'F#'), ('F#', 'F#')]]]]\n",
      "Cost: 7 at size 20\n",
      "['Eb', 'Eb', 'Eb', 'Eb', 'Abm', 'Abm', 'Abm', 'Abm', 'E', 'E', 'E', 'E', 'B', 'B', 'B', 'B', 'Eb', 'Eb', 'Eb', 'Eb', 'Abm', 'Abm', 'Abm', 'Abm', 'E', 'E', 'E', 'E', 'F#', 'F#', 'Eb', 'Eb']\n",
      "Sequence: [[[[['Eb', 'Eb'], ['Eb', 'Eb']], [['Abm', 'Abm'], ['Abm', 'Abm']]], [[['E', 'E'], ['E', 'E']], [['B', 'B'], [('B', 'B')]]]], [[[['Eb', 'Eb'], ['Eb', 'Eb']], [['Abm', 'Abm'], ['Abm', 'Abm']]], [[['E', 'E'], ['E', 'E']], [['F#', 'F#'], [('Eb', 'Eb')]]]]]\n",
      "Cost: 39 at size 32\n",
      "['Abm', 'Abm', 'Abm', 'Abm', 'F#', 'F#', 'F#', 'F#', 'C#', 'C#', 'C#', 'C#', 'E', 'E', 'F#', 'F#', 'Abm', 'Abm', 'Abm', 'Abm', 'F#', 'F#', 'F#', 'F#', 'C#', 'C#', 'C#', 'C#', 'E', 'E', 'F#', 'F#']\n",
      "Sequence: [[[[['Abm', 'Abm'], ['Abm', 'Abm']], [['F#', 'F#'], ['F#', 'F#']]], [[['C#', 'C#'], [('C#', 'C#'), ('E', 'E')]], [['F#', 'F#']]]], [[[['Abm', 'Abm'], ['Abm', 'Abm']], [['F#', 'F#'], ['F#', 'F#']]], [[['C#', 'C#'], [('C#', 'C#'), ('E', 'E')]], [['F#', 'F#']]]]]\n",
      "Cost: 20 at size 32\n",
      "['Cm', 'Cm', 'Cm', 'Cm', 'Cm', 'Cm', 'Cm', 'F', 'Cm', 'Cm', 'Cm', 'Cm', 'Cm', 'Cm', 'Cm', 'Bb', 'Cm', 'Cm', 'Cm', 'Cm', 'Cm', 'Cm', 'Cm', 'F', 'Ab', 'Ab', 'Bb', 'Bb']\n",
      "Sequence: [[[[['Cm', 'Cm'], ['Cm', 'Cm']], [['Cm', 'Cm'], ['Cm', 'F']]], [[['Cm', 'Cm'], ['Cm', 'Cm']], [['Cm', 'Cm'], ['Cm', 'Bb']]]], [[[['Cm', 'Cm'], ['Cm', 'Cm']], [['Cm', 'Cm'], ['Cm', 'F']]], [[['Ab', 'Ab'], ['Bb', 'Bb']]]]]\n",
      "Cost: 13 at size 28\n",
      "['Cm', 'Cm', 'Cm', 'Cm', 'Ab', 'Ab', 'Ab', 'Ab', 'Eb', 'Eb', 'Eb', 'Eb', 'G', 'G', 'G', 'G', 'Cm', 'Cm', 'Cm', 'Cm', 'Ab', 'Ab', 'Ab', 'Ab', 'Eb', 'Eb', 'Eb', 'Eb', 'G', 'G', 'G', 'G']\n",
      "Sequence: [[[[['Cm', 'Cm'], ['Cm', 'Cm']], [['Ab', 'Ab'], ['Ab', 'Ab']]], [[['Eb', 'Eb'], ['Eb', 'Eb']], [['G', 'G'], [('G', 'G')]]]], [[[['Cm', 'Cm'], ['Cm', 'Cm']], [['Ab', 'Ab'], ['Ab', 'Ab']]], [[['Eb', 'Eb'], ['Eb', 'Eb']], [['G', 'G'], [('G', 'G')]]]]]\n",
      "Cost: 12 at size 32\n",
      "['Eb', 'Eb', 'Eb', 'Eb', 'Abm', 'Abm', 'Abm', 'Abm', 'E', 'E', 'E', 'E', 'B', 'B', 'B', 'B', 'Eb', 'Eb', 'Eb', 'Eb', 'Abm', 'Abm', 'Abm', 'Abm', 'E', 'E', 'E', 'E', 'F#', 'F#', 'Eb', 'Eb']\n",
      "Sequence: [[[[['Eb', 'Eb'], ['Eb', 'Eb']], [['Abm', 'Abm'], ['Abm', 'Abm']]], [[['E', 'E'], ['E', 'E']], [['B', 'B'], [('B', 'B')]]]], [[[['Eb', 'Eb'], ['Eb', 'Eb']], [['Abm', 'Abm'], ['Abm', 'Abm']]], [[['E', 'E'], ['E', 'E']], [['F#', 'F#'], [('Eb', 'Eb')]]]]]\n",
      "Cost: 39 at size 32\n",
      "['Abm', 'Abm', 'Abm', 'Abm', 'F#', 'F#', 'F#', 'F#', 'C#', 'C#', 'C#', 'C#', 'E', 'E', 'F#', 'F#']\n",
      "Sequence: [[[['Abm', 'Abm'], ['Abm', 'Abm']], [['F#', 'F#'], ['F#', 'F#']]], [[['C#', 'C#'], [('C#', 'C#'), ('E', 'E')]], [['F#', 'F#']]]]\n",
      "Cost: 20 at size 16\n",
      "['Cm', 'Cm', 'Cm', 'Cm', 'Cm', 'Cm', 'Cm', 'F', 'Cm', 'Cm', 'Cm', 'Cm', 'Cm', 'Cm', 'Cm', 'Bb', 'Cm', 'Cm', 'Cm', 'Cm', 'Cm', 'Cm', 'Cm', 'F', 'Ab', 'Ab', 'Bb', 'Bb']\n",
      "Sequence: [[[[['Cm', 'Cm'], ['Cm', 'Cm']], [['Cm', 'Cm'], ['Cm', 'F']]], [[['Cm', 'Cm'], ['Cm', 'Cm']], [['Cm', 'Cm'], ['Cm', 'Bb']]]], [[[['Cm', 'Cm'], ['Cm', 'Cm']], [['Cm', 'Cm'], ['Cm', 'F']]], [[['Ab', 'Ab'], ['Bb', 'Bb']]]]]\n",
      "Cost: 13 at size 28\n",
      "['Cm', 'Cm', 'Cm', 'Cm', 'Ab', 'Ab', 'Ab', 'Ab', 'Eb', 'Eb', 'Eb', 'Eb', 'G', 'G', 'G', 'G', 'Cm', 'Cm', 'Cm', 'Cm', 'Ab', 'Ab', 'Ab', 'Ab', 'Eb', 'Eb', 'Eb', 'Eb', 'G', 'G', 'G', 'G']\n",
      "Sequence: [[[[['Cm', 'Cm'], ['Cm', 'Cm']], [['Ab', 'Ab'], ['Ab', 'Ab']]], [[['Eb', 'Eb'], ['Eb', 'Eb']], [['G', 'G'], [('G', 'G')]]]], [[[['Cm', 'Cm'], ['Cm', 'Cm']], [['Ab', 'Ab'], ['Ab', 'Ab']]], [[['Eb', 'Eb'], ['Eb', 'Eb']], [['G', 'G'], [('G', 'G')]]]]]\n",
      "Cost: 12 at size 32\n",
      "['Eb', 'Eb', 'Eb', 'Eb', 'Abm', 'Abm', 'Abm', 'Abm', 'E', 'E', 'E', 'E', 'B', 'B', 'B', 'B', 'Eb', 'Eb', 'Eb', 'Eb', 'Abm', 'Abm', 'Abm', 'Abm', 'E', 'E', 'E', 'E', 'F#', 'F#', 'Eb', 'Eb']\n",
      "Sequence: [[[[['Eb', 'Eb'], ['Eb', 'Eb']], [['Abm', 'Abm'], ['Abm', 'Abm']]], [[['E', 'E'], ['E', 'E']], [['B', 'B'], [('B', 'B')]]]], [[[['Eb', 'Eb'], ['Eb', 'Eb']], [['Abm', 'Abm'], ['Abm', 'Abm']]], [[['E', 'E'], ['E', 'E']], [['F#', 'F#'], [('Eb', 'Eb')]]]]]\n",
      "Cost: 39 at size 32\n",
      "['Abm', 'Abm', 'Abm', 'Abm', 'Abm', 'Abm', 'E', 'Eb']\n",
      "Sequence: [[['Abm', 'Abm'], ['Abm', 'Abm']], [['Abm', ('Abm', 'E')], ['Eb']]]\n",
      "Cost: 11 at size 8\n",
      "['Ebm', 'Ebm', 'Ebm', 'Ebm', 'Ebm', 'Ebm', 'Ebm', 'Ab', 'Ebm', 'Ebm', 'Ebm', 'Ebm', 'Ebm', 'Ebm', 'Ebm', 'C#', 'Ebm', 'Ebm', 'Ebm', 'Ebm', 'Ebm', 'Ebm', 'Ebm', 'Ab', 'C#', 'C#', 'F#', 'F#', 'B', 'B', 'E', 'E', 'A', 'A', 'D', 'D', 'Eb', 'Eb', 'Eb', 'Eb']\n",
      "Sequence: [[[[['Ebm', 'Ebm'], ['Ebm', 'Ebm']], [['Ebm', 'Ebm'], ['Ebm', 'Ab']]], [[['Ebm', 'Ebm'], ['Ebm', 'Ebm']], [['Ebm', 'Ebm'], ['Ebm', 'C#']]]], [[[['Ebm', 'Ebm'], ['Ebm', 'Ebm']], [['Ebm', 'Ebm'], ['Ebm', 'Ab']]], [[[('C#', 'C#'), ('F#', 'F#')], [('B', 'B'), ('E', 'E')]], [[('A', 'A'), ('D', 'D')], [('Eb', 'Eb'), ('Eb', 'Eb')]]]]]\n",
      "Cost: 41 at size 40\n",
      "['Eb', 'Eb', 'Eb', 'Eb', 'Ab', 'Ab', 'Ab', 'Ab', 'Eb', 'Eb', 'Eb', 'Eb', 'G', 'G', 'G', 'G', 'Cm', 'Cm', 'Cm', 'Cm', 'Ab', 'Ab', 'Ab', 'Ab', 'Eb', 'Eb', 'Eb', 'Eb', 'G', 'G', 'G', 'G']\n",
      "Sequence: [[[[['Eb', 'Eb'], ['Eb', 'Eb']], [['Ab', 'Ab'], ['Ab', 'Ab']]], [[['Eb', 'Eb'], [('Eb', 'Eb')]], [['G', 'G'], [('G', 'G')]]]], [[[['Cm', 'Cm'], ['Cm', 'Cm']], [['Ab', 'Ab'], ['Ab', 'Ab']]], [[['Eb', 'Eb'], [('Eb', 'Eb')]], [['G', 'G'], [('G', 'G')]]]]]\n",
      "Cost: 18 at size 32\n",
      "['Eb', 'Eb', 'Eb', 'Eb', 'Abm', 'Abm', 'Abm', 'Abm', 'E', 'E', 'E', 'E', 'B', 'B', 'B', 'B', 'Eb', 'Eb', 'Eb', 'Eb', 'Abm', 'Abm', 'Abm', 'Abm', 'E', 'E', 'E', 'E', 'F#', 'F#', 'Eb', 'Eb']\n",
      "Sequence: [[[[['Eb', 'Eb'], ['Eb', 'Eb']], [['Abm', 'Abm'], ['Abm', 'Abm']]], [[['E', 'E'], ['E', 'E']], [['B', 'B'], [('B', 'B')]]]], [[[['Eb', 'Eb'], ['Eb', 'Eb']], [['Abm', 'Abm'], ['Abm', 'Abm']]], [[['E', 'E'], ['E', 'E']], [['F#', 'F#'], [('Eb', 'Eb')]]]]]\n",
      "Cost: 39 at size 32\n",
      "['Abm', 'Abm', 'Abm', 'Abm', 'E', 'E', 'E', 'E', 'B', 'B', 'B', 'B', 'Eb', 'Eb', 'Eb', 'Eb', 'Abm', 'Abm', 'Abm', 'Abm', 'E', 'E', 'E', 'E', 'F#', 'F#', 'Eb', 'Eb', 'Abm', 'Abm', 'Abm', 'Abm']\n",
      "Sequence: [[[[['Abm', 'Abm'], ['Abm', 'Abm']], [['E', 'E'], ['E', 'E']]], [[['B', 'B'], ['B', 'B']], [['Eb', 'Eb'], [('Eb', 'Eb')]]]], [[[['Abm', 'Abm'], ['Abm', 'Abm']], [['E', 'E'], ['E', 'E']]], [[['F#', 'F#'], ['Eb', 'Eb']], [['Abm', 'Abm'], [('Abm', 'Abm')]]]]]\n",
      "Cost: 29 at size 32\n",
      "['F#', 'F#', 'F#', 'F#', 'C#', 'C#', 'C#', 'C#', 'E', 'E', 'F#', 'F#', 'Abm', 'Abm', 'Abm', 'Abm', 'F#', 'F#', 'F#', 'F#', 'C#', 'C#', 'C#', 'C#', 'E', 'E', 'F#', 'F#', 'F#', 'F#', 'Abm', 'Abm', 'Abm', 'Abm']\n",
      "Sequence: [[[[['F#', 'F#'], ['F#', 'F#']], [['C#', 'C#'], ['C#', 'C#']]], [[['E', 'E'], ['F#', 'F#']], [['Abm', 'Abm'], ['Abm', 'Abm']]]], [[[['F#', 'F#'], ['F#', 'F#']], [['C#', 'C#'], ['C#', 'C#']]], [[['E', 'E'], [('F#', 'F#'), ('F#', 'F#')]], [['Abm', 'Abm'], [('Abm', 'Abm')]]]]]\n",
      "Cost: 17 at size 34\n",
      "Ze sum:369\n"
     ]
    }
   ],
   "source": [
    "the_sum = 0\n",
    "for start, end in zip(guichaoua_frontiers[:-1], guichaoua_frontiers[1:]):\n",
    "    segment = bag_of_chords[start:end]\n",
    "    #print(segment)\n",
    "    size = len(segment)\n",
    "    print(segment)\n",
    "    bag_of_patterns = sh.compute_patterns_with_antecedents_for_size(size)\n",
    "    the_min = math.inf\n",
    "    best_pattern = None\n",
    "    for a_pattern in bag_of_patterns:\n",
    "        this_polytope_cost = math.inf\n",
    "        for i in range(len(a_pattern[0])):\n",
    "            this_ppp_cost = pc.cohen_marmoret_cost(segment, a_pattern[0], a_pattern[3])\n",
    "            if this_ppp_cost < this_polytope_cost:\n",
    "                this_polytope_cost = this_ppp_cost\n",
    "        cost = this_polytope_cost\n",
    "        cost += pc.irregularities_penalty_guichaoua(adding_code = a_pattern[1], deleting_code = a_pattern[2], positive_penalty = positive_penalty, negative_penalty = negative_penalty)\n",
    "        if cost < the_min:\n",
    "            best_pattern = a_pattern\n",
    "            the_min = cost\n",
    "    the_min += sh.penalty_cost_guichaoua(size, target_size = 32, positive_segment_size_penalty = positive_segment_size_penalty, negative_segment_size_penalty = negative_segment_size_penalty)\n",
    "    if bag_of_patterns == []:\n",
    "        print(\"Sequential cost\")\n",
    "        break\n",
    "    print(\"Sequence: {}\".format(pf.apply_chords_on_pattern(best_pattern[0],segment)))\n",
    "    print(\"Cost: {} at size {}\".format(the_min, end-start))\n",
    "    the_sum += the_min\n",
    "print(\"Ze sum:{}\".format(the_sum))"
   ]
  }
 ],
 "metadata": {
  "kernelspec": {
   "display_name": "Python 3",
   "language": "python",
   "name": "python3"
  },
  "language_info": {
   "codemirror_mode": {
    "name": "ipython",
    "version": 3
   },
   "file_extension": ".py",
   "mimetype": "text/x-python",
   "name": "python",
   "nbconvert_exporter": "python",
   "pygments_lexer": "ipython3",
   "version": "3.7.5"
  },
  "toc": {
   "base_numbering": 1,
   "nav_menu": {},
   "number_sections": true,
   "sideBar": true,
   "skip_h1_title": false,
   "title_cell": "Table of Contents",
   "title_sidebar": "Contents",
   "toc_cell": false,
   "toc_position": {},
   "toc_section_display": true,
   "toc_window_display": false
  },
  "varInspector": {
   "cols": {
    "lenName": 16,
    "lenType": 16,
    "lenVar": 40
   },
   "kernels_config": {
    "python": {
     "delete_cmd_postfix": "",
     "delete_cmd_prefix": "del ",
     "library": "var_list.py",
     "varRefreshCmd": "print(var_dic_list())"
    },
    "r": {
     "delete_cmd_postfix": ") ",
     "delete_cmd_prefix": "rm(",
     "library": "var_list.r",
     "varRefreshCmd": "cat(var_dic_list()) "
    }
   },
   "types_to_exclude": [
    "module",
    "function",
    "builtin_function_or_method",
    "instance",
    "_Feature"
   ],
   "window_display": false
  }
 },
 "nbformat": 4,
 "nbformat_minor": 2
}
