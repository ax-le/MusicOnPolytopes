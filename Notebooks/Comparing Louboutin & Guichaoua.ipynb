{
 "cells": [
  {
   "cell_type": "markdown",
   "metadata": {},
   "source": [
    "# Disclaimer: for fair comparison, penalties MUST be always null, to check everytime it is launched."
   ]
  },
  {
   "cell_type": "code",
   "execution_count": 1,
   "metadata": {
    "ExecuteTime": {
     "end_time": "2021-01-22T17:44:55.613067Z",
     "start_time": "2021-01-22T17:44:54.268957Z"
    }
   },
   "outputs": [],
   "source": [
    "import os\n",
    "import time\n",
    "\n",
    "# Self-code imports\n",
    "import polytopes.segmentation_algorithms as algos\n",
    "from polytopes.model.note import Note\n",
    "from polytopes.model.chord import Chord\n",
    "import polytopes.polytopical_costs as pc\n",
    "import polytopes.data_manipulation as dm\n",
    "import polytopes.segmentation_helper as sh\n",
    "import polytopes.pattern_manip as pm\n",
    "import polytopes.pattern_factory as pf\n",
    "\n",
    "#Generic imports\n",
    "import numpy as np\n",
    "import matplotlib.pyplot as plt\n",
    "import pandas as pd\n",
    "import math\n",
    "import copy"
   ]
  },
  {
   "cell_type": "code",
   "execution_count": 2,
   "metadata": {
    "ExecuteTime": {
     "end_time": "2021-01-22T17:44:55.624850Z",
     "start_time": "2021-01-22T17:44:55.614876Z"
    }
   },
   "outputs": [],
   "source": [
    "database_path = \"C:\\\\Users\\\\amarmore\\\\Desktop\\\\Projects\\\\RWC_annotations\\\\final_bimbot_al\\\\\"\n",
    "annotations_folder_path = \"C:\\\\Users\\\\amarmore\\\\Desktop\\\\Audio samples\\\\RWC Pop\\\\annotations\\\\final_bimbot\\\\\"\n",
    "persisted_path = \"C:\\\\Users\\\\amarmore\\\\Desktop\\\\data_persisted\"\n",
    "\n",
    "max_size = 42\n",
    "\n",
    "manual = []\n",
    "\n",
    "for file in os.listdir(database_path):\n",
    "    bag_of_words = file.split(\".\")\n",
    "    if bag_of_words[-1] == \"seq\":\n",
    "        if bag_of_words[-3] == \"manual\":\n",
    "            manual.append(file)\n",
    "\n",
    "CURR_DIR = os.path.dirname(os.path.realpath(\"__file__\"))\n"
   ]
  },
  {
   "cell_type": "code",
   "execution_count": 3,
   "metadata": {
    "ExecuteTime": {
     "end_time": "2021-01-22T17:44:55.633827Z",
     "start_time": "2021-01-22T17:44:55.627843Z"
    }
   },
   "outputs": [],
   "source": [
    "def print_res_for_songs_range(all_res, context = \"\"):\n",
    "    results = np.array(all_res)\n",
    "    prec, rap, fmes = round(np.mean(results[:,0]),4), round(np.mean(results[:,1]),4), round(np.mean(results[:,2]),4)\n",
    "    print(\"Context: {}, prec: {}, rap: {}, F measure: {}\".format(context, prec, rap, fmes))"
   ]
  },
  {
   "cell_type": "markdown",
   "metadata": {},
   "source": [
    "# Marmoret"
   ]
  },
  {
   "cell_type": "markdown",
   "metadata": {},
   "source": [
    "## Marmoret-Cohen cost"
   ]
  },
  {
   "cell_type": "code",
   "execution_count": 4,
   "metadata": {
    "ExecuteTime": {
     "end_time": "2021-01-22T22:25:01.881581Z",
     "start_time": "2021-01-22T17:44:55.635823Z"
    },
    "scrolled": true
   },
   "outputs": [
    {
     "name": "stderr",
     "output_type": "stream",
     "text": [
      "c:\\users\\amarmore\\desktop\\projects\\phd main projects\\on git\\code\\polytopes and relation\\polytopes\\segmentation_algorithms.py:239: UserWarning: No Polytope is available for this size of segment. Trying sequential cost instead.\n",
      "  warnings.warn(\"No Polytope is available for this size of segment. Trying sequential cost instead.\")\n"
     ]
    },
    {
     "name": "stdout",
     "output_type": "stream",
     "text": [
      "Context: Zero Tolerance, prec: 0.3721, rap: 0.5916, F measure: 0.4505\n",
      "Context: Three Tolerance, prec: 0.4198, rap: 0.6688, F measure: 0.5086\n"
     ]
    },
    {
     "data": {
      "text/plain": [
       "[]"
      ]
     },
     "execution_count": 4,
     "metadata": {},
     "output_type": "execute_result"
    },
    {
     "data": {
      "image/png": "[encoded data removed]",
      "text/plain": [
       "<Figure size 1080x360 with 1 Axes>"
      ]
     },
     "metadata": {
      "needs_background": "light"
     },
     "output_type": "display_data"
    }
   ],
   "source": [
    "mc_all_res_zero_tol = []\n",
    "mc_all_res_three_tol = []\n",
    "mc_all_frontiers = []\n",
    "mc_distrib_segments = []\n",
    "\n",
    "for song in manual:\n",
    "    song_number = song.split(\".\")[0]\n",
    "\n",
    "    bag_of_chords = dm.flowify_song(database_path + song)\n",
    "\n",
    "    try:\n",
    "        frontiers = np.load(\"{}\\\\persisted_content\\\\estimated_frontiers\\\\marmoret_cohen_song{}_penalties{}_maxsize{}.npy\".format(CURR_DIR, song_number, (0,0), max_size), allow_pickle = True)\n",
    "    except FileNotFoundError:\n",
    "        frontiers, cost = algos.dynamic_minimization_cohen_marmoret(bag_of_chords, segment_size_penalty = 0, min_size = 8, max_size = max_size, target_size = 32, irregularity_penalty = 0)\n",
    "        fro = np.array(frontiers, dtype=object)\n",
    "        np.save(\"{}\\\\persisted_content\\\\estimated_frontiers\\\\marmoret_cohen_song{}_penalties{}_maxsize{}\".format(CURR_DIR, song_number, (0,0), max_size), fro)\n",
    "\n",
    "    mc_all_frontiers.append(frontiers)\n",
    "    \n",
    "    for fst, snd in zip(frontiers[:-1], frontiers[1:]):\n",
    "        mc_distrib_segments.append(snd - fst)\n",
    "\n",
    "    #Scores, computed on the beat annotation\n",
    "    beat_indexed_segments = dm.frontiers_to_segments(frontiers)\n",
    "\n",
    "    annot_name = \"{:03d}.manual.seg\".format(int(song_number))\n",
    "    annotation_file = open(annotations_folder_path + annot_name,'r')\n",
    "    annotation = annotation_file.read().replace(\"\\n\", \"\").split(\" \")\n",
    "    annotation = np.array([int(x) - 1 for x in annotation])\n",
    "    beat_indexed_annotation = np.array(dm.frontiers_to_segments(annotation))\n",
    "    \n",
    "    p,r,f = dm.compute_score_of_segmentation(beat_indexed_annotation, beat_indexed_segments, \n",
    "                                                               window_length = 0.2)\n",
    "    mc_all_res_zero_tol.append([p,r,f])\n",
    "    \n",
    "    p_3,r_3,f_3 = dm.compute_score_of_segmentation(beat_indexed_annotation, beat_indexed_segments, \n",
    "                                                                window_length = 3)\n",
    "    mc_all_res_three_tol.append([p_3,r_3,f_3])\n",
    "\n",
    "print_res_for_songs_range(mc_all_res_zero_tol, context = \"Zero Tolerance\")\n",
    "print_res_for_songs_range(mc_all_res_three_tol, context = \"Three Tolerance\")\n",
    "plt.figure(figsize=(15,5))\n",
    "plt.hist(mc_distrib_segments, bins = range(max_size))\n",
    "plt.xlabel(\"Segment's size (in nb of beats)\")\n",
    "#plt.title(\"Prec: {}, rap: {}, F measure: {}\".format(prec, rap, fmes))\n",
    "plt.plot()"
   ]
  },
  {
   "cell_type": "code",
   "execution_count": 5,
   "metadata": {
    "ExecuteTime": {
     "end_time": "2021-01-22T22:25:02.095017Z",
     "start_time": "2021-01-22T22:25:01.883574Z"
    }
   },
   "outputs": [
    {
     "ename": "NameError",
     "evalue": "name 'stop' is not defined",
     "output_type": "error",
     "traceback": [
      "\u001b[1;31m---------------------------------------------------------------------------\u001b[0m",
      "\u001b[1;31mNameError\u001b[0m                                 Traceback (most recent call last)",
      "\u001b[1;32m<ipython-input-5-4f76a9dad686>\u001b[0m in \u001b[0;36m<module>\u001b[1;34m\u001b[0m\n\u001b[1;32m----> 1\u001b[1;33m \u001b[0mstop\u001b[0m\u001b[1;33m\u001b[0m\u001b[1;33m\u001b[0m\u001b[0m\n\u001b[0m",
      "\u001b[1;31mNameError\u001b[0m: name 'stop' is not defined"
     ]
    }
   ],
   "source": [
    "stop"
   ]
  },
  {
   "cell_type": "markdown",
   "metadata": {},
   "source": [
    "## Louboutaoua cost"
   ]
  },
  {
   "cell_type": "code",
   "execution_count": null,
   "metadata": {
    "ExecuteTime": {
     "end_time": "2021-01-22T22:25:02.107974Z",
     "start_time": "2021-01-22T17:44:54.272Z"
    }
   },
   "outputs": [],
   "source": [
    "m_all_res_zero_tol = []\n",
    "m_all_res_three_tol = []\n",
    "m_all_frontiers = []\n",
    "m_distrib_segments = []\n",
    "m_cost_sum = 0\n",
    "m_cost_nb = 0\n",
    "\n",
    "for song in manual:\n",
    "    song_number = song.split(\".\")[0]\n",
    "\n",
    "    bag_of_chords = dm.flowify_song(database_path + song)\n",
    "\n",
    "    try:\n",
    "        frontiers = np.load(\"{}\\\\persisted_content\\\\estimated_frontiers\\\\marmoret_louboutaoua_song{}_penalties{}_maxsize{}.npy\".format(CURR_DIR, song_number, (0,0), max_size), allow_pickle = True)\n",
    "    except FileNotFoundError:\n",
    "        frontiers, cost = algos.dynamic_minimization_louboutaoua(bag_of_chords, segment_size_penalty = 0, min_size = 8, max_size = max_size, target_size = 32, irregularity_penalty = 0)\n",
    "        fro = np.array(frontiers, dtype=object)\n",
    "        np.save(\"{}\\\\persisted_content\\\\estimated_frontiers\\\\marmoret_louboutaoua_song{}_penalties{}_maxsize{}\".format(CURR_DIR, song_number, (0,0), max_size), fro)\n",
    "\n",
    "    m_all_frontiers.append(frontiers)\n",
    "    #m_cost_sum += cost\n",
    "    #m_cost_nb += len(frontiers) - 1\n",
    "    \n",
    "    for fst, snd in zip(frontiers[:-1], frontiers[1:]):\n",
    "        m_distrib_segments.append(snd - fst)\n",
    "\n",
    "    #Scores, computed on the beat annotation\n",
    "    beat_indexed_segments = dm.frontiers_to_segments(frontiers)\n",
    "\n",
    "    annot_name = \"{:03d}.manual.seg\".format(int(song_number))\n",
    "    annotation_file = open(annotations_folder_path + annot_name,'r')\n",
    "    annotation = annotation_file.read().replace(\"\\n\", \"\").split(\" \")\n",
    "    annotation = np.array([int(x) - 1 for x in annotation])\n",
    "    beat_indexed_annotation = np.array(dm.frontiers_to_segments(annotation))\n",
    "    \n",
    "    p,r,f = dm.compute_score_of_segmentation(beat_indexed_annotation, beat_indexed_segments, \n",
    "                                                               window_length = 0.2)\n",
    "    m_all_res_zero_tol.append([p,r,f])\n",
    "    \n",
    "    p_3,r_3,f_3 = dm.compute_score_of_segmentation(beat_indexed_annotation, beat_indexed_segments, \n",
    "                                                                window_length = 3)\n",
    "    m_all_res_three_tol.append([p_3,r_3,f_3])\n",
    "\n",
    "print_res_for_songs_range(m_all_res_zero_tol, context = \"Zero Tolerance\")\n",
    "print_res_for_songs_range(m_all_res_three_tol, context = \"Three Tolerance\")\n",
    "#print(\"Averaged cost for a polytope: {}\".format(m_cost_sum/m_cost_nb))\n",
    "plt.figure(figsize=(15,5))\n",
    "plt.hist(m_distrib_segments, bins = range(max_size))\n",
    "plt.xlabel(\"Segment's size (in nb of beats)\")\n",
    "#plt.title(\"Prec: {}, rap: {}, F measure: {}\".format(prec, rap, fmes))\n",
    "plt.plot()"
   ]
  },
  {
   "cell_type": "markdown",
   "metadata": {},
   "source": [
    "# Guichaoua"
   ]
  },
  {
   "cell_type": "markdown",
   "metadata": {},
   "source": [
    "## Local"
   ]
  },
  {
   "cell_type": "code",
   "execution_count": null,
   "metadata": {
    "ExecuteTime": {
     "end_time": "2021-01-22T22:25:02.110967Z",
     "start_time": "2021-01-22T17:44:54.274Z"
    }
   },
   "outputs": [],
   "source": [
    "g_all_res_zero_tol = []\n",
    "g_all_res_three_tol = []\n",
    "g_all_frontiers = []\n",
    "g_distrib_segments = []\n",
    "\n",
    "for song in manual:\n",
    "    song_number = song.split(\".\")[0]\n",
    "\n",
    "    bag_of_chords = dm.flowify_song(database_path + song)\n",
    "    try:\n",
    "        frontiers = np.load(\"{}\\\\persisted_content\\\\estimated_frontiers\\\\guichaoua_song{}_penalties{}_maxsize{}.npy\".format(CURR_DIR, song_number, (0,0), max_size), allow_pickle = True)\n",
    "    except FileNotFoundError:\n",
    "        frontiers, cost = algos.dynamic_minimization_guichaoua(bag_of_chords, \n",
    "                                                                   positive_segment_size_penalty = 0, negative_segment_size_penalty = 0,\n",
    "                                                                   min_size = 8, max_size = max_size, target_size = 32, \n",
    "                                                                   positive_penalty = 0, negative_penalty = 0,\n",
    "                                                                   global_antecedents = False)\n",
    "        fro = np.array(frontiers, dtype=object)\n",
    "        np.save(\"{}\\\\persisted_content\\\\estimated_frontiers\\\\guichaoua_song{}_penalties{}_maxsize{}\".format(CURR_DIR, song_number, (0,0), max_size), fro)\n",
    "\n",
    "    g_all_frontiers.append(frontiers)\n",
    "    \n",
    "    for fst, snd in zip(frontiers[:-1], frontiers[1:]):\n",
    "        g_distrib_segments.append(snd - fst)\n",
    "\n",
    "    #Scores, computed on the beat annotation\n",
    "    beat_indexed_segments = dm.frontiers_to_segments(frontiers)\n",
    "\n",
    "    annot_name = \"{:03d}.manual.seg\".format(int(song_number))\n",
    "    annotation_file = open(annotations_folder_path + annot_name,'r')\n",
    "    annotation = annotation_file.read().replace(\"\\n\", \"\").split(\" \")\n",
    "    annotation = np.array([int(x) - 1 for x in annotation])\n",
    "    beat_indexed_annotation = np.array(dm.frontiers_to_segments(annotation))\n",
    "    \n",
    "    p,r,f = dm.compute_score_of_segmentation(beat_indexed_annotation, beat_indexed_segments, \n",
    "                                                               window_length = 0.2)\n",
    "    g_all_res_zero_tol.append([p,r,f])\n",
    "    \n",
    "    p_3,r_3,f_3 = dm.compute_score_of_segmentation(beat_indexed_annotation, beat_indexed_segments, \n",
    "                                                                window_length = 3)\n",
    "    g_all_res_three_tol.append([p_3,r_3,f_3])\n",
    "\n",
    "print_res_for_songs_range(g_all_res_zero_tol, context = \"Zero Tolerance\")\n",
    "print_res_for_songs_range(g_all_res_three_tol, context = \"Three Tolerance\")\n",
    "plt.figure(figsize=(15,5))\n",
    "plt.hist(g_distrib_segments, bins = range(max_size))\n",
    "plt.xlabel(\"Segment's size (in nb of beats)\")\n",
    "#plt.title(\"Prec: {}, rap: {}, F measure: {}\".format(prec, rap, fmes))\n",
    "plt.plot()"
   ]
  },
  {
   "cell_type": "markdown",
   "metadata": {},
   "source": [
    "## Global"
   ]
  },
  {
   "cell_type": "code",
   "execution_count": null,
   "metadata": {
    "ExecuteTime": {
     "end_time": "2021-01-22T22:25:02.112962Z",
     "start_time": "2021-01-22T17:44:54.278Z"
    }
   },
   "outputs": [],
   "source": [
    "g_all_res_zero_tol = []\n",
    "g_all_res_three_tol = []\n",
    "g_all_frontiers = []\n",
    "g_distrib_segments = []\n",
    "#g_cost_sum = 0\n",
    "#g_cost_nb = 0\n",
    "\n",
    "for song in manual:\n",
    "    song_number = song.split(\".\")[0]\n",
    "\n",
    "    bag_of_chords = dm.flowify_song(database_path + song)\n",
    "    try:\n",
    "        frontiers = np.load(\"{}\\\\persisted_content\\\\estimated_frontiers\\\\guichaoua_global_song{}_penalties{}_maxsize{}.npy\".format(CURR_DIR, song_number, (0,0), max_size), allow_pickle = True)\n",
    "    except FileNotFoundError:\n",
    "        frontiers, cost = algos.dynamic_minimization_guichaoua(bag_of_chords,\n",
    "                                                                   positive_segment_size_penalty = 0, negative_segment_size_penalty = 0,\n",
    "                                                                   min_size = 8, max_size = max_size, target_size = 32, \n",
    "                                                                   positive_penalty = 0, negative_penalty = 0,\n",
    "                                                                   global_antecedents = True)\n",
    "        fro = np.array(frontiers, dtype=object)\n",
    "        np.save(\"{}\\\\persisted_content\\\\estimated_frontiers\\\\guichaoua_global_song{}_penalties{}_maxsize{}\".format(CURR_DIR, song_number, (0,0), max_size), fro)\n",
    "\n",
    "    g_all_frontiers.append(frontiers)\n",
    "    #g_cost_sum += cost\n",
    "    #g_cost_nb += len(frontiers) - 1\n",
    "    \n",
    "    for fst, snd in zip(frontiers[:-1], frontiers[1:]):\n",
    "        g_distrib_segments.append(snd - fst)\n",
    "\n",
    "    #Scores, computed on the beat annotation\n",
    "    beat_indexed_segments = dm.frontiers_to_segments(frontiers)\n",
    "\n",
    "    annot_name = \"{:03d}.manual.seg\".format(int(song_number))\n",
    "    annotation_file = open(annotations_folder_path + annot_name,'r')\n",
    "    annotation = annotation_file.read().replace(\"\\n\", \"\").split(\" \")\n",
    "    annotation = np.array([int(x) - 1 for x in annotation])\n",
    "    beat_indexed_annotation = np.array(dm.frontiers_to_segments(annotation))\n",
    "    \n",
    "    p,r,f = dm.compute_score_of_segmentation(beat_indexed_annotation, beat_indexed_segments, \n",
    "                                                               window_length = 0.2)\n",
    "    g_all_res_zero_tol.append([p,r,f])\n",
    "    \n",
    "    p_3,r_3,f_3 = dm.compute_score_of_segmentation(beat_indexed_annotation, beat_indexed_segments, \n",
    "                                                                window_length = 3)\n",
    "    g_all_res_three_tol.append([p_3,r_3,f_3])\n",
    "\n",
    "print_res_for_songs_range(g_all_res_zero_tol, context = \"Zero Tolerance\")\n",
    "print_res_for_songs_range(g_all_res_three_tol, context = \"Three Tolerance\")\n",
    "#print(\"Averaged cost for a polytope: {}\".format(g_cost_sum/g_cost_nb))\n",
    "plt.figure(figsize=(15,5))\n",
    "plt.hist(g_distrib_segments, bins = range(max_size))\n",
    "plt.xlabel(\"Segment's size (in nb of beats)\")\n",
    "#plt.title(\"Prec: {}, rap: {}, F measure: {}\".format(prec, rap, fmes))\n",
    "plt.plot()"
   ]
  },
  {
   "cell_type": "markdown",
   "metadata": {},
   "source": [
    "# Louboutin"
   ]
  },
  {
   "cell_type": "code",
   "execution_count": null,
   "metadata": {
    "ExecuteTime": {
     "end_time": "2021-01-22T22:25:02.114955Z",
     "start_time": "2021-01-22T17:44:54.281Z"
    }
   },
   "outputs": [],
   "source": [
    "l_all_res_zero_tol = []\n",
    "l_all_res_three_tol = []\n",
    "l_all_frontiers = []\n",
    "l_distrib_segments = []\n",
    "l_cost_sum = 0\n",
    "l_cost_nb = 0\n",
    "\n",
    "for song in manual:\n",
    "    song_number = song.split(\".\")[0]\n",
    "\n",
    "    bag_of_chords = dm.flowify_song(database_path + song)\n",
    "\n",
    "    try:\n",
    "        fro = np.load(\"{}\\\\persisted_content\\\\estimated_frontiers\\\\louboutin_song{}_penalties{}_maxsize{}.npy\".format(CURR_DIR, song_number, (0,0), max_size), allow_pickle = True)\n",
    "    except FileNotFoundError:\n",
    "        frontiers, cost = algos.dynamic_minimization_louboutin(bag_of_chords, segment_size_penalty = 0, min_size = 8, max_size = max_size, target_size = 32, irregularity_penalty = 0)\n",
    "        fro = np.array(frontiers, dtype=object)\n",
    "        np.save(\"{}\\\\persisted_content\\\\estimated_frontiers\\\\louboutin_song{}_penalties{}_maxsize{}\".format(CURR_DIR, song_number, (0,0), max_size), fro)\n",
    "\n",
    "    l_cost_sum += cost\n",
    "    l_cost_nb += len(frontiers) - 1\n",
    "\n",
    "    l_all_frontiers.append(frontiers)\n",
    "    \n",
    "    for fst, snd in zip(frontiers[:-1], frontiers[1:]):\n",
    "        l_distrib_segments.append(snd - fst)\n",
    "\n",
    "    #Scores, computed on the beat annotation\n",
    "    beat_indexed_segments = dm.frontiers_to_segments(frontiers)\n",
    "\n",
    "    annot_name = \"{:03d}.manual.seg\".format(int(song_number))\n",
    "    annotation_file = open(annotations_folder_path + annot_name,'r')\n",
    "    annotation = annotation_file.read().replace(\"\\n\", \"\").split(\" \")\n",
    "    annotation = np.array([int(x) - 1 for x in annotation])\n",
    "    beat_indexed_annotation = np.array(dm.frontiers_to_segments(annotation))\n",
    "    \n",
    "    p,r,f = dm.compute_score_of_segmentation(beat_indexed_annotation, beat_indexed_segments, \n",
    "                                                               window_length = 0.2)\n",
    "    l_all_res_zero_tol.append([p,r,f])\n",
    "    \n",
    "    p_3,r_3,f_3 = dm.compute_score_of_segmentation(beat_indexed_annotation, beat_indexed_segments, \n",
    "                                                                window_length = 3)\n",
    "    l_all_res_three_tol.append([p_3,r_3,f_3])\n",
    "\n",
    "print_res_for_songs_range(l_all_res_zero_tol, context = \"Zero Tolerance\")\n",
    "print_res_for_songs_range(l_all_res_three_tol, context = \"Three Tolerance\")\n",
    "print(\"Averaged cost for a polytope: {}\".format(l_cost_sum/l_cost_nb))\n",
    "plt.figure(figsize=(15,5))\n",
    "plt.hist(l_distrib_segments, bins = range(max_size))\n",
    "plt.xlabel(\"Segment's size (in nb of beats)\")\n",
    "#plt.title(\"Prec: {}, rap: {}, F measure: {}\".format(prec, rap, fmes))\n",
    "plt.plot()"
   ]
  }
 ],
 "metadata": {
  "kernelspec": {
   "display_name": "Python 3",
   "language": "python",
   "name": "python3"
  },
  "language_info": {
   "codemirror_mode": {
    "name": "ipython",
    "version": 3
   },
   "file_extension": ".py",
   "mimetype": "text/x-python",
   "name": "python",
   "nbconvert_exporter": "python",
   "pygments_lexer": "ipython3",
   "version": "3.7.5"
  },
  "toc": {
   "base_numbering": 1,
   "nav_menu": {},
   "number_sections": true,
   "sideBar": true,
   "skip_h1_title": false,
   "title_cell": "Table of Contents",
   "title_sidebar": "Contents",
   "toc_cell": false,
   "toc_position": {},
   "toc_section_display": true,
   "toc_window_display": false
  },
  "varInspector": {
   "cols": {
    "lenName": 16,
    "lenType": 16,
    "lenVar": 40
   },
   "kernels_config": {
    "python": {
     "delete_cmd_postfix": "",
     "delete_cmd_prefix": "del ",
     "library": "var_list.py",
     "varRefreshCmd": "print(var_dic_list())"
    },
    "r": {
     "delete_cmd_postfix": ") ",
     "delete_cmd_prefix": "rm(",
     "library": "var_list.r",
     "varRefreshCmd": "cat(var_dic_list()) "
    }
   },
   "types_to_exclude": [
    "module",
    "function",
    "builtin_function_or_method",
    "instance",
    "_Feature"
   ],
   "window_display": false
  }
 },
 "nbformat": 4,
 "nbformat_minor": 2
}
